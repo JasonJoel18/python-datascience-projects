{
 "cells": [
  {
   "cell_type": "markdown",
   "metadata": {},
   "source": [
    "**<h1 style=\"text-align: center;\">🕵🏻 EDA on Vehicle Sales Data 🏎️</h1>**"
   ]
  },
  {
   "cell_type": "markdown",
   "metadata": {},
   "source": [
    "## 👋🏼 **Introduction**\n",
    "\n",
    "<p style=\"text-align: justify;\">They are one of the leading car resellers in the US. They have chosen me as their data scientist so that I can analyze some data for them and give some business insights by which they can improve their sales. They have provided me with a dataset of vehicle sales data. They want to find some business insights from this dataset so that they can improve their sales in the market.</p>\n",
    "\n",
    "## 🧿 **Objective**\n",
    " <p style=\"text-align: justify;\">The sales of JJ motors have not been very good lately and hence they had to make some very hard business decisions of laying off people in many of their offices. And they are not happy with the performance for the past 4-5 years. Hence they want to study and analyze the market so that they can improve their sales and get back in the business. They have chosen a huge dataset for me, which has details about the car sales until the year 2015.\n",
    "     \n",
    "In their past survey, the people said that their customers were not happy with the options provided by them. So my plan is to focus on the preferences of the customers. This will help me really to get into the minds of the customers and understand what are they looking for in a car they are buying so that my company can use this data to polish their marketing and sales techniques. I will be conducting Exploratory Data Analysis (EDA) on the Vehicle Sales Data dataset and try to get an insight of the dataset. I have some business questions in mind which will help the company in improving their sales. Let's see how we can find the answers to these questions. I will be loading the dataset and then try to find any relationships, trends and patterns between among the various features of the dataset. Also, I will be trying to find answers to the below set of questions.\n",
    " \n",
    " </p>\n",
    "\n",
    "**About the data**  \n",
    "This dataset contains 16 columns. This data set is from Kaggle. You can [**click here**](https://www.kaggle.com/datasets/syedanwarafridi/vehicle-sales-data/code) to view the dataset on kaggle."
   ]
  },
  {
   "cell_type": "markdown",
   "metadata": {},
   "source": [
    "## ***Table of Content***\n",
    "\n",
    "##### ⬇ [**Importing Libraries**](#library)\n",
    "##### 📊 [**Importing Dataset**](#dataset)\n",
    "##### 💭 [**My taughts on the dataset**](#thoughts)\n",
    "##### 🧹 [**Data Cleaning**](#cleaning)\n",
    "##### ❓ [**Business Questions**](#questions)\n",
    "##### 💡 [**Conclusion**](#conclusion)\n",
    "\n",
    "\n",
    "\n",
    "\n"
   ]
  },
  {
   "cell_type": "markdown",
   "metadata": {},
   "source": [
    "## ***Let's go....***"
   ]
  },
  {
   "cell_type": "markdown",
   "metadata": {},
   "source": []
  },
  {
   "cell_type": "markdown",
   "metadata": {},
   "source": [
    "<a id='library'></a>\n",
    "## ⬇ <span style=\"color: #20479b; font-weight: bold;\">Importing Libraries</span>"
   ]
  },
  {
   "cell_type": "markdown",
   "metadata": {},
   "source": [
    "I start by importing the necessary libraries for my Exploratory Data Analysis tasks in Python."
   ]
  },
  {
   "cell_type": "code",
   "execution_count": 42,
   "metadata": {},
   "outputs": [],
   "source": [
    "import pandas as pnds\n",
    "import numpy as nmpi\n",
    "import matplotlib.pyplot as ppt\n",
    "import seaborn as sbrn\n",
    "import plotly.express as epx\n",
    "%matplotlib inline\n",
    "from dateutil import parser\n",
    "import datetime as dati\n",
    "import plotly.graph_objs as grp_ob\n",
    "import plotly.io as pio\n",
    "pio.renderers.default = \"jupyterlab\""
   ]
  },
  {
   "cell_type": "markdown",
   "metadata": {},
   "source": [
    "This are the basic libraries I will be using for this pipeline. I am using pandas for the dataframe, numpy for all the calculations. matplotlib, plotly an seaborn I will be using to plot the graphs to better understand the graph. And I have also used dateutil to clean the datetime columns and covert it into a correct format which cleaning."
   ]
  },
  {
   "cell_type": "markdown",
   "metadata": {},
   "source": [
    "<a id='dataset'></a>  \n",
    "\n",
    "## 📊 <span style=\"color: #20479b; font-weight: bold;\">Importing Dataset</span>"
   ]
  },
  {
   "cell_type": "code",
   "execution_count": 43,
   "metadata": {},
   "outputs": [
    {
     "name": "stdout",
     "output_type": "stream",
     "text": [
      "Dataframe rows.   : 558837\n",
      "Dataframe cols.   : 16\n",
      "===========================\n"
     ]
    },
    {
     "data": {
      "text/html": [
       "<div>\n",
       "<style scoped>\n",
       "    .dataframe tbody tr th:only-of-type {\n",
       "        vertical-align: middle;\n",
       "    }\n",
       "\n",
       "    .dataframe tbody tr th {\n",
       "        vertical-align: top;\n",
       "    }\n",
       "\n",
       "    .dataframe thead th {\n",
       "        text-align: right;\n",
       "    }\n",
       "</style>\n",
       "<table border=\"1\" class=\"dataframe\">\n",
       "  <thead>\n",
       "    <tr style=\"text-align: right;\">\n",
       "      <th></th>\n",
       "      <th>year</th>\n",
       "      <th>make</th>\n",
       "      <th>model</th>\n",
       "      <th>trim</th>\n",
       "      <th>body</th>\n",
       "      <th>transmission</th>\n",
       "      <th>vin</th>\n",
       "      <th>state</th>\n",
       "      <th>condition</th>\n",
       "      <th>odometer</th>\n",
       "      <th>color</th>\n",
       "      <th>interior</th>\n",
       "      <th>seller</th>\n",
       "      <th>mmr</th>\n",
       "      <th>sellingprice</th>\n",
       "      <th>saledate</th>\n",
       "    </tr>\n",
       "  </thead>\n",
       "  <tbody>\n",
       "    <tr>\n",
       "      <th>0</th>\n",
       "      <td>2015</td>\n",
       "      <td>Kia</td>\n",
       "      <td>Sorento</td>\n",
       "      <td>LX</td>\n",
       "      <td>SUV</td>\n",
       "      <td>automatic</td>\n",
       "      <td>5xyktca69fg566472</td>\n",
       "      <td>ca</td>\n",
       "      <td>5.0</td>\n",
       "      <td>16639.0</td>\n",
       "      <td>white</td>\n",
       "      <td>black</td>\n",
       "      <td>kia motors america  inc</td>\n",
       "      <td>20500.0</td>\n",
       "      <td>21500.0</td>\n",
       "      <td>Tue Dec 16 2014 12:30:00 GMT-0800 (PST)</td>\n",
       "    </tr>\n",
       "    <tr>\n",
       "      <th>1</th>\n",
       "      <td>2015</td>\n",
       "      <td>Kia</td>\n",
       "      <td>Sorento</td>\n",
       "      <td>LX</td>\n",
       "      <td>SUV</td>\n",
       "      <td>automatic</td>\n",
       "      <td>5xyktca69fg561319</td>\n",
       "      <td>ca</td>\n",
       "      <td>5.0</td>\n",
       "      <td>9393.0</td>\n",
       "      <td>white</td>\n",
       "      <td>beige</td>\n",
       "      <td>kia motors america  inc</td>\n",
       "      <td>20800.0</td>\n",
       "      <td>21500.0</td>\n",
       "      <td>Tue Dec 16 2014 12:30:00 GMT-0800 (PST)</td>\n",
       "    </tr>\n",
       "    <tr>\n",
       "      <th>2</th>\n",
       "      <td>2014</td>\n",
       "      <td>BMW</td>\n",
       "      <td>3 Series</td>\n",
       "      <td>328i SULEV</td>\n",
       "      <td>Sedan</td>\n",
       "      <td>automatic</td>\n",
       "      <td>wba3c1c51ek116351</td>\n",
       "      <td>ca</td>\n",
       "      <td>45.0</td>\n",
       "      <td>1331.0</td>\n",
       "      <td>gray</td>\n",
       "      <td>black</td>\n",
       "      <td>financial services remarketing (lease)</td>\n",
       "      <td>31900.0</td>\n",
       "      <td>30000.0</td>\n",
       "      <td>Thu Jan 15 2015 04:30:00 GMT-0800 (PST)</td>\n",
       "    </tr>\n",
       "    <tr>\n",
       "      <th>3</th>\n",
       "      <td>2015</td>\n",
       "      <td>Volvo</td>\n",
       "      <td>S60</td>\n",
       "      <td>T5</td>\n",
       "      <td>Sedan</td>\n",
       "      <td>automatic</td>\n",
       "      <td>yv1612tb4f1310987</td>\n",
       "      <td>ca</td>\n",
       "      <td>41.0</td>\n",
       "      <td>14282.0</td>\n",
       "      <td>white</td>\n",
       "      <td>black</td>\n",
       "      <td>volvo na rep/world omni</td>\n",
       "      <td>27500.0</td>\n",
       "      <td>27750.0</td>\n",
       "      <td>Thu Jan 29 2015 04:30:00 GMT-0800 (PST)</td>\n",
       "    </tr>\n",
       "    <tr>\n",
       "      <th>4</th>\n",
       "      <td>2014</td>\n",
       "      <td>BMW</td>\n",
       "      <td>6 Series Gran Coupe</td>\n",
       "      <td>650i</td>\n",
       "      <td>Sedan</td>\n",
       "      <td>automatic</td>\n",
       "      <td>wba6b2c57ed129731</td>\n",
       "      <td>ca</td>\n",
       "      <td>43.0</td>\n",
       "      <td>2641.0</td>\n",
       "      <td>gray</td>\n",
       "      <td>black</td>\n",
       "      <td>financial services remarketing (lease)</td>\n",
       "      <td>66000.0</td>\n",
       "      <td>67000.0</td>\n",
       "      <td>Thu Dec 18 2014 12:30:00 GMT-0800 (PST)</td>\n",
       "    </tr>\n",
       "  </tbody>\n",
       "</table>\n",
       "</div>"
      ],
      "text/plain": [
       "   year   make                model        trim   body transmission  \\\n",
       "0  2015    Kia              Sorento          LX    SUV    automatic   \n",
       "1  2015    Kia              Sorento          LX    SUV    automatic   \n",
       "2  2014    BMW             3 Series  328i SULEV  Sedan    automatic   \n",
       "3  2015  Volvo                  S60          T5  Sedan    automatic   \n",
       "4  2014    BMW  6 Series Gran Coupe        650i  Sedan    automatic   \n",
       "\n",
       "                 vin state  condition  odometer  color interior  \\\n",
       "0  5xyktca69fg566472    ca        5.0   16639.0  white    black   \n",
       "1  5xyktca69fg561319    ca        5.0    9393.0  white    beige   \n",
       "2  wba3c1c51ek116351    ca       45.0    1331.0   gray    black   \n",
       "3  yv1612tb4f1310987    ca       41.0   14282.0  white    black   \n",
       "4  wba6b2c57ed129731    ca       43.0    2641.0   gray    black   \n",
       "\n",
       "                                   seller      mmr  sellingprice  \\\n",
       "0                 kia motors america  inc  20500.0       21500.0   \n",
       "1                 kia motors america  inc  20800.0       21500.0   \n",
       "2  financial services remarketing (lease)  31900.0       30000.0   \n",
       "3                 volvo na rep/world omni  27500.0       27750.0   \n",
       "4  financial services remarketing (lease)  66000.0       67000.0   \n",
       "\n",
       "                                  saledate  \n",
       "0  Tue Dec 16 2014 12:30:00 GMT-0800 (PST)  \n",
       "1  Tue Dec 16 2014 12:30:00 GMT-0800 (PST)  \n",
       "2  Thu Jan 15 2015 04:30:00 GMT-0800 (PST)  \n",
       "3  Thu Jan 29 2015 04:30:00 GMT-0800 (PST)  \n",
       "4  Thu Dec 18 2014 12:30:00 GMT-0800 (PST)  "
      ]
     },
     "execution_count": 43,
     "metadata": {},
     "output_type": "execute_result"
    }
   ],
   "source": [
    "dataset = pnds.read_csv('/Users/jasonjoelpinto/Documents/GitHub/python-datascience-projects/009. eda_on_ecommerce_dataset/dataset/car_prices.csv')\n",
    "\n",
    "print(\"Dataframe rows.   :\", len(dataset))\n",
    "print(\"Dataframe cols.   :\", len(dataset.columns))  \n",
    "print(\"=\"*27)\n",
    "\n",
    "dataset.head(5)"
   ]
  },
  {
   "cell_type": "markdown",
   "metadata": {},
   "source": [
    "I can see that we have 558837 rows in this dataset. There are 16 columns in total. I can see that there are very insightful data in this dataset. But the data does not look very clean. At this point, I can see VIN columns which I feel like its unnecessary and also `saledate` column does not look in the correct format. It has time zones and all are included in them. I think we might have to clean these columns. But let's explore the dataset further and see what we can do about these columns and others. "
   ]
  },
  {
   "cell_type": "markdown",
   "metadata": {},
   "source": []
  },
  {
   "cell_type": "markdown",
   "metadata": {},
   "source": [
    "<a id='exploration'></a>\n",
    "## 🗺️ <span style=\"color: #20479b; font-weight: bold;\">Exploring the dataset</span>"
   ]
  },
  {
   "cell_type": "markdown",
   "metadata": {},
   "source": [
    "After loading the dataset into the DataFrame `dataset`, I will check the `dataset` shape using the `.shape` attribute."
   ]
  },
  {
   "cell_type": "code",
   "execution_count": 44,
   "metadata": {},
   "outputs": [
    {
     "data": {
      "text/plain": [
       "(558837, 16)"
      ]
     },
     "execution_count": 44,
     "metadata": {},
     "output_type": "execute_result"
    }
   ],
   "source": [
    "dataset.shape"
   ]
  },
  {
   "cell_type": "markdown",
   "metadata": {},
   "source": [
    "As you can see above there are 5558837 rows and 16 columns.\n",
    "This is a good start for us a as there is a lot of data for us to analyse."
   ]
  },
  {
   "cell_type": "markdown",
   "metadata": {},
   "source": [
    "I will use `.info` method to get a shortsummary of the DataFrame. It will include the number of non-null values, Data Types, and Memory Usage etc."
   ]
  },
  {
   "cell_type": "code",
   "execution_count": 45,
   "metadata": {},
   "outputs": [
    {
     "name": "stdout",
     "output_type": "stream",
     "text": [
      "<class 'pandas.core.frame.DataFrame'>\n",
      "RangeIndex: 558837 entries, 0 to 558836\n",
      "Data columns (total 16 columns):\n",
      " #   Column        Non-Null Count   Dtype  \n",
      "---  ------        --------------   -----  \n",
      " 0   year          558837 non-null  int64  \n",
      " 1   make          548536 non-null  object \n",
      " 2   model         548438 non-null  object \n",
      " 3   trim          548186 non-null  object \n",
      " 4   body          545642 non-null  object \n",
      " 5   transmission  493485 non-null  object \n",
      " 6   vin           558833 non-null  object \n",
      " 7   state         558837 non-null  object \n",
      " 8   condition     547017 non-null  float64\n",
      " 9   odometer      558743 non-null  float64\n",
      " 10  color         558088 non-null  object \n",
      " 11  interior      558088 non-null  object \n",
      " 12  seller        558837 non-null  object \n",
      " 13  mmr           558799 non-null  float64\n",
      " 14  sellingprice  558825 non-null  float64\n",
      " 15  saledate      558825 non-null  object \n",
      "dtypes: float64(4), int64(1), object(11)\n",
      "memory usage: 68.2+ MB\n"
     ]
    }
   ],
   "source": [
    "dataset.info()"
   ]
  },
  {
   "cell_type": "markdown",
   "metadata": {},
   "source": [
    "I can see that the \n",
    "- count in the **Non-Null** column is less than the total columns i.e. 558837\n",
    "- that means that there are many NULL values in the dataset. \n",
    "- which we will take care in the data cleaning part.\n",
    "- Looking at the datatype, I can see that datatype looks fine, except for the saledate column. It is of object datatype. I will change the datatype of this column.\n",
    "- The size of our dataset is arround 68.2 MegaBytes.\n",
    "- There are 3 datatypes in this dataframe i.e. float, int and object."
   ]
  },
  {
   "cell_type": "markdown",
   "metadata": {},
   "source": [
    "I will use `dtypes` attribute to get the datatypes of the columns.  \n",
    "I will also get the same details in `.info()` attribute above. But I like to view it seperately we get a getter understanding."
   ]
  },
  {
   "cell_type": "code",
   "execution_count": 46,
   "metadata": {},
   "outputs": [
    {
     "data": {
      "text/plain": [
       "year              int64\n",
       "make             object\n",
       "model            object\n",
       "trim             object\n",
       "body             object\n",
       "transmission     object\n",
       "vin              object\n",
       "state            object\n",
       "condition       float64\n",
       "odometer        float64\n",
       "color            object\n",
       "interior         object\n",
       "seller           object\n",
       "mmr             float64\n",
       "sellingprice    float64\n",
       "saledate         object\n",
       "dtype: object"
      ]
     },
     "execution_count": 46,
     "metadata": {},
     "output_type": "execute_result"
    }
   ],
   "source": [
    "dataset.dtypes"
   ]
  },
  {
   "cell_type": "markdown",
   "metadata": {},
   "source": [
    "I want to get a statistics of the dataframe using describe\n",
    "- It will provide us various functions such as mean, count, Standard Deviation, Min, Max and percentiles.\n",
    "- I have used **Transpose** here as I want the columns of my DataFrame as the index.\n",
    "- This especially helps when I have many numrical columns."
   ]
  },
  {
   "cell_type": "code",
   "execution_count": 47,
   "metadata": {},
   "outputs": [
    {
     "data": {
      "text/html": [
       "<div>\n",
       "<style scoped>\n",
       "    .dataframe tbody tr th:only-of-type {\n",
       "        vertical-align: middle;\n",
       "    }\n",
       "\n",
       "    .dataframe tbody tr th {\n",
       "        vertical-align: top;\n",
       "    }\n",
       "\n",
       "    .dataframe thead th {\n",
       "        text-align: right;\n",
       "    }\n",
       "</style>\n",
       "<table border=\"1\" class=\"dataframe\">\n",
       "  <thead>\n",
       "    <tr style=\"text-align: right;\">\n",
       "      <th></th>\n",
       "      <th>count</th>\n",
       "      <th>mean</th>\n",
       "      <th>std</th>\n",
       "      <th>min</th>\n",
       "      <th>25%</th>\n",
       "      <th>50%</th>\n",
       "      <th>75%</th>\n",
       "      <th>max</th>\n",
       "    </tr>\n",
       "  </thead>\n",
       "  <tbody>\n",
       "    <tr>\n",
       "      <th>year</th>\n",
       "      <td>558837.0</td>\n",
       "      <td>2010.038927</td>\n",
       "      <td>3.966864</td>\n",
       "      <td>1982.0</td>\n",
       "      <td>2007.0</td>\n",
       "      <td>2012.0</td>\n",
       "      <td>2013.0</td>\n",
       "      <td>2015.0</td>\n",
       "    </tr>\n",
       "    <tr>\n",
       "      <th>condition</th>\n",
       "      <td>547017.0</td>\n",
       "      <td>30.672365</td>\n",
       "      <td>13.402832</td>\n",
       "      <td>1.0</td>\n",
       "      <td>23.0</td>\n",
       "      <td>35.0</td>\n",
       "      <td>42.0</td>\n",
       "      <td>49.0</td>\n",
       "    </tr>\n",
       "    <tr>\n",
       "      <th>odometer</th>\n",
       "      <td>558743.0</td>\n",
       "      <td>68320.017767</td>\n",
       "      <td>53398.542821</td>\n",
       "      <td>1.0</td>\n",
       "      <td>28371.0</td>\n",
       "      <td>52254.0</td>\n",
       "      <td>99109.0</td>\n",
       "      <td>999999.0</td>\n",
       "    </tr>\n",
       "    <tr>\n",
       "      <th>mmr</th>\n",
       "      <td>558799.0</td>\n",
       "      <td>13769.377495</td>\n",
       "      <td>9679.967174</td>\n",
       "      <td>25.0</td>\n",
       "      <td>7100.0</td>\n",
       "      <td>12250.0</td>\n",
       "      <td>18300.0</td>\n",
       "      <td>182000.0</td>\n",
       "    </tr>\n",
       "    <tr>\n",
       "      <th>sellingprice</th>\n",
       "      <td>558825.0</td>\n",
       "      <td>13611.358810</td>\n",
       "      <td>9749.501628</td>\n",
       "      <td>1.0</td>\n",
       "      <td>6900.0</td>\n",
       "      <td>12100.0</td>\n",
       "      <td>18200.0</td>\n",
       "      <td>230000.0</td>\n",
       "    </tr>\n",
       "  </tbody>\n",
       "</table>\n",
       "</div>"
      ],
      "text/plain": [
       "                 count          mean           std     min      25%      50%  \\\n",
       "year          558837.0   2010.038927      3.966864  1982.0   2007.0   2012.0   \n",
       "condition     547017.0     30.672365     13.402832     1.0     23.0     35.0   \n",
       "odometer      558743.0  68320.017767  53398.542821     1.0  28371.0  52254.0   \n",
       "mmr           558799.0  13769.377495   9679.967174    25.0   7100.0  12250.0   \n",
       "sellingprice  558825.0  13611.358810   9749.501628     1.0   6900.0  12100.0   \n",
       "\n",
       "                  75%       max  \n",
       "year           2013.0    2015.0  \n",
       "condition        42.0      49.0  \n",
       "odometer      99109.0  999999.0  \n",
       "mmr           18300.0  182000.0  \n",
       "sellingprice  18200.0  230000.0  "
      ]
     },
     "execution_count": 47,
     "metadata": {},
     "output_type": "execute_result"
    }
   ],
   "source": [
    "dataset.describe().transpose()"
   ]
  },
  {
   "cell_type": "markdown",
   "metadata": {},
   "source": [
    "From the above table, we can get very insightful details of the columns. Let's go one column at a time.\n",
    "\n",
    "1. **Year**:\n",
    "   - I can see that this dataset's sales details dated from the year 1982 to 2015.\n",
    "   - Even if the data has old data, the old sales details are not many. The mean column says that rows are mostly around 2010. This means this is comparatively recent data.\n",
    "   - The average year of sale is approximately 2010, indicating that the dataset predominantly consists of relatively recent vehicle sales.\n",
    "\n",
    "2. **Condition**:\n",
    "   - The condition is rated from 1 to 50 in this dataset. 1 being low and 50 being the best condition.\n",
    "   - Average is 30, which means that most vehicles are moderately maintained.\n",
    "\n",
    "4. **Odometer**:\n",
    "   - Based on the average values, it looks like most of the vehicles run for long miles on average they run for 68,320 miles.\n",
    "   The minimum value is 1, which suggests that there are vehicles as well.\n",
    "   - The 50th percentile suggests that half of the vehicles run less than 52,254 miles.\n",
    "\n",
    "5. **MMR (Which stands for Market Median Retail)**:\n",
    "   - There are records for MMR 25 dollars as well, which might be because the vehicle is old or also if it is not maintained well.\n",
    "   - On average, the MMR is around 13000 dollars.\n",
    "   - The median suggests that in half of the data, the MMR is below 12,250 dollars.\n",
    "\n",
    "6. **Selling Price**:\n",
    "   - One thing I noticed something odd is that the minimum selling price is 1 dollar.\n",
    "   - I need to check which records have selling price as 1.\n",
    "   - median values suggest that for almost half of the data, the selling price is less than 12100 dollars.\n",
    "\n",
    "Overall, this summary provides valuable insights into the distribution and characteristics of the vehicle sales dataset, including information about the years of sale, vehicle conditions, mileage, market median retail prices, and selling prices."
   ]
  },
  {
   "cell_type": "markdown",
   "metadata": {},
   "source": [
    "Now, I will check if there are any null values"
   ]
  },
  {
   "cell_type": "code",
   "execution_count": 48,
   "metadata": {},
   "outputs": [
    {
     "name": "stdout",
     "output_type": "stream",
     "text": [
      "                              \n",
      "Dataframe rows : 558837\n",
      "                              \n",
      "==============================\n"
     ]
    },
    {
     "data": {
      "text/plain": [
       "year                0\n",
       "make            10301\n",
       "model           10399\n",
       "trim            10651\n",
       "body            13195\n",
       "transmission    65352\n",
       "vin                 4\n",
       "state               0\n",
       "condition       11820\n",
       "odometer           94\n",
       "color             749\n",
       "interior          749\n",
       "seller              0\n",
       "mmr                38\n",
       "sellingprice       12\n",
       "saledate           12\n",
       "dtype: int64"
      ]
     },
     "execution_count": 48,
     "metadata": {},
     "output_type": "execute_result"
    }
   ],
   "source": [
    "print(\" \"*30)\n",
    "print(\"Dataframe rows :\", len(dataset))\n",
    "print(\" \"*30)\n",
    "print(\"=\"*30)\n",
    "\n",
    "dataset.isnull().sum()"
   ]
  },
  {
   "cell_type": "markdown",
   "metadata": {},
   "source": [
    "Now I am going to check how much percentage of the columns are null. If they are negligible percentage then we can just drop the columns. Otherwise I will fill the na values with the meaninfull values."
   ]
  },
  {
   "cell_type": "code",
   "execution_count": 49,
   "metadata": {},
   "outputs": [
    {
     "data": {
      "text/html": [
       "<div>\n",
       "<style scoped>\n",
       "    .dataframe tbody tr th:only-of-type {\n",
       "        vertical-align: middle;\n",
       "    }\n",
       "\n",
       "    .dataframe tbody tr th {\n",
       "        vertical-align: top;\n",
       "    }\n",
       "\n",
       "    .dataframe thead th {\n",
       "        text-align: right;\n",
       "    }\n",
       "</style>\n",
       "<table border=\"1\" class=\"dataframe\">\n",
       "  <thead>\n",
       "    <tr style=\"text-align: right;\">\n",
       "      <th></th>\n",
       "      <th>column_name</th>\n",
       "      <th>null_percentage</th>\n",
       "    </tr>\n",
       "  </thead>\n",
       "  <tbody>\n",
       "    <tr>\n",
       "      <th>0</th>\n",
       "      <td>year</td>\n",
       "      <td>0.00</td>\n",
       "    </tr>\n",
       "    <tr>\n",
       "      <th>1</th>\n",
       "      <td>make</td>\n",
       "      <td>1.84</td>\n",
       "    </tr>\n",
       "    <tr>\n",
       "      <th>2</th>\n",
       "      <td>model</td>\n",
       "      <td>1.86</td>\n",
       "    </tr>\n",
       "    <tr>\n",
       "      <th>3</th>\n",
       "      <td>trim</td>\n",
       "      <td>1.91</td>\n",
       "    </tr>\n",
       "    <tr>\n",
       "      <th>4</th>\n",
       "      <td>body</td>\n",
       "      <td>2.36</td>\n",
       "    </tr>\n",
       "    <tr>\n",
       "      <th>5</th>\n",
       "      <td>transmission</td>\n",
       "      <td>11.69</td>\n",
       "    </tr>\n",
       "    <tr>\n",
       "      <th>6</th>\n",
       "      <td>vin</td>\n",
       "      <td>0.00</td>\n",
       "    </tr>\n",
       "    <tr>\n",
       "      <th>7</th>\n",
       "      <td>state</td>\n",
       "      <td>0.00</td>\n",
       "    </tr>\n",
       "    <tr>\n",
       "      <th>8</th>\n",
       "      <td>condition</td>\n",
       "      <td>2.12</td>\n",
       "    </tr>\n",
       "    <tr>\n",
       "      <th>9</th>\n",
       "      <td>odometer</td>\n",
       "      <td>0.02</td>\n",
       "    </tr>\n",
       "    <tr>\n",
       "      <th>10</th>\n",
       "      <td>color</td>\n",
       "      <td>0.13</td>\n",
       "    </tr>\n",
       "    <tr>\n",
       "      <th>11</th>\n",
       "      <td>interior</td>\n",
       "      <td>0.13</td>\n",
       "    </tr>\n",
       "    <tr>\n",
       "      <th>12</th>\n",
       "      <td>seller</td>\n",
       "      <td>0.00</td>\n",
       "    </tr>\n",
       "    <tr>\n",
       "      <th>13</th>\n",
       "      <td>mmr</td>\n",
       "      <td>0.01</td>\n",
       "    </tr>\n",
       "    <tr>\n",
       "      <th>14</th>\n",
       "      <td>sellingprice</td>\n",
       "      <td>0.00</td>\n",
       "    </tr>\n",
       "    <tr>\n",
       "      <th>15</th>\n",
       "      <td>saledate</td>\n",
       "      <td>0.00</td>\n",
       "    </tr>\n",
       "  </tbody>\n",
       "</table>\n",
       "</div>"
      ],
      "text/plain": [
       "     column_name  null_percentage\n",
       "0           year             0.00\n",
       "1           make             1.84\n",
       "2          model             1.86\n",
       "3           trim             1.91\n",
       "4           body             2.36\n",
       "5   transmission            11.69\n",
       "6            vin             0.00\n",
       "7          state             0.00\n",
       "8      condition             2.12\n",
       "9       odometer             0.02\n",
       "10         color             0.13\n",
       "11      interior             0.13\n",
       "12        seller             0.00\n",
       "13           mmr             0.01\n",
       "14  sellingprice             0.00\n",
       "15      saledate             0.00"
      ]
     },
     "execution_count": 49,
     "metadata": {},
     "output_type": "execute_result"
    }
   ],
   "source": [
    "null_percentage = {}\n",
    "for column in dataset:\n",
    "    null_percentage[column] = round(( ( dataset[column].isnull().sum() ) / len(dataset)) * 100,2)\n",
    "np_dataset = pnds.DataFrame( list( null_percentage.items() ),  columns=[  'column_name'  , 'null_percentage' ])\n",
    "np_dataset"
   ]
  },
  {
   "cell_type": "markdown",
   "metadata": {},
   "source": [
    "If you see the above table, the max null percentage is for the column. Transmission is around 11 per cent. It is difficult to guess the transmision of the cars because there is no engine details in this data. And all the other columns have null percentages less than 3. So if you see the size of the data it is not very huge. And if we start guess and filling the data, we might loose quality in the data. I want to preserve the quality and hence I can drop these rows. And also, \n",
    "\n",
    "As the null percentage is negligible when compared to the size of the dataset, we can drop these null columns. "
   ]
  },
  {
   "cell_type": "markdown",
   "metadata": {},
   "source": [
    "Let me check if there are unwanted records in our dataset now."
   ]
  },
  {
   "cell_type": "code",
   "execution_count": 50,
   "metadata": {},
   "outputs": [
    {
     "data": {
      "text/plain": [
       "array(['ca', 'tx', 'pa', 'mn', 'az', 'wi', 'tn', 'md', 'fl', 'ne', 'nj',\n",
       "       'nv', 'oh', 'mi', 'ga', 'va', 'sc', 'nc', 'in', 'il', 'co', 'ut',\n",
       "       'mo', 'ny', 'ma', 'pr', 'or', 'la', 'wa', 'hi', 'qc', 'ab', 'on',\n",
       "       'ok', 'ms', 'nm', 'al', '3vwd17aj4fm201708', 'ns',\n",
       "       '3vwd17aj2fm258506', '3vwd17aj3fm276741', '3vwd17aj2fm285365',\n",
       "       '3vwd17aj0fm227318', '3vwd17aj6fm218641', '3vwd17aj7fm223475',\n",
       "       '3vwd17aj5fm297123', '3vwd17aj5fm219943', '3vwd17aj9fm219766',\n",
       "       '3vwd17aj3fm259017', '3vwd17aj5fm206111', '3vwd17aj5fm273601',\n",
       "       '3vwd17aj5fm221322', '3vwd17aj5fm268964', '3vwd17aj6fm231972',\n",
       "       '3vwd17aj7fm222388', '3vwd17aj7fm218440', '3vwd17ajxfm315938',\n",
       "       '3vwd17aj7fm229552', '3vwd17aj8fm298895', '3vwd17aj4fm236636',\n",
       "       '3vwd17aj5fm225953', '3vwd17aj7fm326640', '3vwd17aj8fm239622',\n",
       "       '3vwd17aj2fm261566'], dtype=object)"
      ]
     },
     "execution_count": 50,
     "metadata": {},
     "output_type": "execute_result"
    }
   ],
   "source": [
    "dataset[\"state\"].unique()"
   ]
  },
  {
   "cell_type": "markdown",
   "metadata": {},
   "source": [
    "I can see a lot of rows with unwanted data here. We have to delete these error data."
   ]
  },
  {
   "cell_type": "markdown",
   "metadata": {},
   "source": [
    "Checking for transmission column now"
   ]
  },
  {
   "cell_type": "code",
   "execution_count": 51,
   "metadata": {},
   "outputs": [
    {
     "data": {
      "text/plain": [
       "array(['automatic', nan, 'manual', 'Sedan', 'sedan'], dtype=object)"
      ]
     },
     "execution_count": 51,
     "metadata": {},
     "output_type": "execute_result"
    }
   ],
   "source": [
    "dataset[\"transmission\"].unique()"
   ]
  },
  {
   "cell_type": "markdown",
   "metadata": {},
   "source": [
    "Generally there are two types that are automatic and manual, but in this dataset, I can see that In the transmission column there are, **nan**, **sedan** and **Sedan** entries which are definetly data errors.\n",
    "Now similar to transmission column I think that it is better to drop these columns as we loose the data quality if we fill these entries."
   ]
  },
  {
   "cell_type": "code",
   "execution_count": 52,
   "metadata": {},
   "outputs": [
    {
     "data": {
      "text/plain": [
       "array(['Kia', 'BMW', 'Volvo', 'Nissan', 'Chevrolet', 'Audi', 'Ford',\n",
       "       'Hyundai', 'Buick', 'Cadillac', 'Acura', 'Lexus', 'Infiniti',\n",
       "       'Jeep', 'Mercedes-Benz', 'Mitsubishi', 'Mazda', 'MINI',\n",
       "       'Land Rover', 'Lincoln', 'lincoln', 'Jaguar', 'Volkswagen',\n",
       "       'Toyota', 'Subaru', 'Scion', 'Porsche', nan, 'bmw', 'Dodge',\n",
       "       'FIAT', 'Chrysler', 'ford', 'Ferrari', 'Honda', 'GMC',\n",
       "       'mitsubishi', 'Ram', 'smart', 'chevrolet', 'Bentley', 'chrysler',\n",
       "       'pontiac', 'Pontiac', 'Saturn', 'Maserati', 'Mercury', 'HUMMER',\n",
       "       'landrover', 'cadillac', 'land rover', 'mercedes', 'mazda',\n",
       "       'toyota', 'lexus', 'gmc truck', 'honda', 'nissan', 'porsche',\n",
       "       'Saab', 'Suzuki', 'dodge', 'subaru', 'Oldsmobile', 'oldsmobile',\n",
       "       'hyundai', 'jeep', 'Isuzu', 'dodge tk', 'Geo', 'acura',\n",
       "       'volkswagen', 'suzuki', 'kia', 'audi', 'Rolls-Royce', 'gmc',\n",
       "       'maserati', 'mazda tk', 'mercury', 'buick', 'hyundai tk',\n",
       "       'mercedes-b', 'vw', 'Daewoo', 'chev truck', 'ford tk', 'plymouth',\n",
       "       'Plymouth', 'ford truck', 'Tesla', 'airstream', 'dot',\n",
       "       'Aston Martin', 'Fisker', 'Lamborghini', 'Lotus'], dtype=object)"
      ]
     },
     "execution_count": 52,
     "metadata": {},
     "output_type": "execute_result"
    }
   ],
   "source": [
    "dataset['make'].unique()"
   ]
  },
  {
   "cell_type": "markdown",
   "metadata": {},
   "source": [
    "In make columns see a lot of entries where the name is same but they are in different case, To better represent the data and study from it will essential for me to clean this data, and connect the make names in the column. I am thinking of making this all small. And also for records where there are additional letters I will replace the columns with standard name."
   ]
  },
  {
   "cell_type": "markdown",
   "metadata": {},
   "source": [
    "Let me view the data sorting in alphabetical order, so that I can recognize which are the similar names which I can rename."
   ]
  },
  {
   "cell_type": "code",
   "execution_count": 53,
   "metadata": {},
   "outputs": [
    {
     "data": {
      "text/plain": [
       "['Acura',\n",
       " 'Aston Martin',\n",
       " 'Audi',\n",
       " 'BMW',\n",
       " 'Bentley',\n",
       " 'Buick',\n",
       " 'Cadillac',\n",
       " 'Chevrolet',\n",
       " 'Chrysler',\n",
       " 'Daewoo',\n",
       " 'Dodge',\n",
       " 'FIAT',\n",
       " 'Ferrari',\n",
       " 'Fisker',\n",
       " 'Ford',\n",
       " 'GMC',\n",
       " 'Geo',\n",
       " 'HUMMER',\n",
       " 'Honda',\n",
       " 'Hyundai',\n",
       " 'Infiniti',\n",
       " 'Isuzu',\n",
       " 'Jaguar',\n",
       " 'Jeep',\n",
       " 'Kia',\n",
       " 'Lamborghini',\n",
       " 'Land Rover',\n",
       " 'Lexus',\n",
       " 'Lincoln',\n",
       " 'Lotus',\n",
       " 'MINI',\n",
       " 'Maserati',\n",
       " 'Mazda',\n",
       " 'Mercedes-Benz',\n",
       " 'Mercury',\n",
       " 'Mitsubishi',\n",
       " 'Nissan',\n",
       " 'Oldsmobile',\n",
       " 'Plymouth',\n",
       " 'Pontiac',\n",
       " 'Porsche',\n",
       " 'Ram',\n",
       " 'Rolls-Royce',\n",
       " 'Saab',\n",
       " 'Saturn',\n",
       " 'Scion',\n",
       " 'Subaru',\n",
       " 'Suzuki',\n",
       " 'Tesla',\n",
       " 'Toyota',\n",
       " 'Volkswagen',\n",
       " 'Volvo',\n",
       " 'acura',\n",
       " 'airstream',\n",
       " 'audi',\n",
       " 'bmw',\n",
       " 'buick',\n",
       " 'cadillac',\n",
       " 'chev truck',\n",
       " 'chevrolet',\n",
       " 'chrysler',\n",
       " 'dodge',\n",
       " 'dodge tk',\n",
       " 'dot',\n",
       " 'ford',\n",
       " 'ford tk',\n",
       " 'ford truck',\n",
       " 'gmc',\n",
       " 'gmc truck',\n",
       " 'honda',\n",
       " 'hyundai',\n",
       " 'hyundai tk',\n",
       " 'jeep',\n",
       " 'kia',\n",
       " 'land rover',\n",
       " 'landrover',\n",
       " 'lexus',\n",
       " 'lincoln',\n",
       " 'maserati',\n",
       " 'mazda',\n",
       " 'mazda tk',\n",
       " 'mercedes',\n",
       " 'mercedes-b',\n",
       " 'mercury',\n",
       " 'mitsubishi',\n",
       " 'nan',\n",
       " 'nissan',\n",
       " 'oldsmobile',\n",
       " 'plymouth',\n",
       " 'pontiac',\n",
       " 'porsche',\n",
       " 'smart',\n",
       " 'subaru',\n",
       " 'suzuki',\n",
       " 'toyota',\n",
       " 'volkswagen',\n",
       " 'vw']"
      ]
     },
     "execution_count": 53,
     "metadata": {},
     "output_type": "execute_result"
    }
   ],
   "source": [
    "sorted(dataset['make'].astype(str).unique())"
   ]
  },
  {
   "cell_type": "markdown",
   "metadata": {},
   "source": [
    "There are many entries which are very similar."
   ]
  },
  {
   "cell_type": "markdown",
   "metadata": {},
   "source": []
  },
  {
   "cell_type": "markdown",
   "metadata": {},
   "source": [
    "<a id='thoughts'></a>\n",
    "## 💭 <span style=\"color: #20479b; font-weight: bold;\">My thoughts on the dataset</span>"
   ]
  },
  {
   "cell_type": "markdown",
   "metadata": {},
   "source": [
    "As per my initial Data Exploration,\n",
    "- I can see that the dataset is huge with 558837 columns.\n",
    "- This dataset consits of alot of null values which can be deleted considering the size of the data.\n",
    "- VIN number is unique for each vahicle, hence it is not useful for me, hence I will drop the column.\n",
    "- I also noticed that the datatype of `saledate` column is object, and it also can time and timezone which we may not need.\n",
    "- `state` and `transmission` column has error data, which I can delete.\n",
    "\n",
    "\n",
    "\n",
    "I will be following the below steps to 🧹 clean my data for further analysis.\n",
    "1. ❎ Drop all the rows containing `null` values.\n",
    "2. ❎ Drop columns `VIN`.\n",
    "3. 🪛 Convert the saledate column to Datetime format.\n",
    "4. 🪛 Add columns `sale_year` and  `sale_month` using the `saledate` column.\n",
    "4. 🪛 Make column `make` all smalll.\n",
    "5. 🪛 Replace the make error in make with the standard make name.\n",
    "5. ❎ Drop the rows with error data from `state` and `transmission` columns.\n",
    "6. ✅ Re-arranging the columns for better readablity. "
   ]
  },
  {
   "cell_type": "markdown",
   "metadata": {},
   "source": []
  },
  {
   "cell_type": "markdown",
   "metadata": {},
   "source": [
    "<a id='cleaning' ></a>\n",
    "## 🧹 <span style=\"color: #20479b; font-weight: bold;\">Data Cleaning</span>\n"
   ]
  },
  {
   "cell_type": "markdown",
   "metadata": {},
   "source": [
    "1. **❎ Drop all the rows containing `null` values.**"
   ]
  },
  {
   "cell_type": "markdown",
   "metadata": {},
   "source": [
    "You can see that the null_percentage for each column is negligible. The max is for Transmission is 11.69%, which is negligible when we consider the datasize, i.e. 558837 of data. Hence I will be droping the rows with null values."
   ]
  },
  {
   "cell_type": "code",
   "execution_count": 54,
   "metadata": {},
   "outputs": [],
   "source": [
    "dataset.dropna(inplace=True)"
   ]
  },
  {
   "cell_type": "code",
   "execution_count": 55,
   "metadata": {},
   "outputs": [
    {
     "name": "stdout",
     "output_type": "stream",
     "text": [
      "                              \n",
      "Dataset rows   : 472325\n",
      "==============================\n",
      "                              \n"
     ]
    },
    {
     "data": {
      "text/plain": [
       "year            0\n",
       "make            0\n",
       "model           0\n",
       "trim            0\n",
       "body            0\n",
       "transmission    0\n",
       "vin             0\n",
       "state           0\n",
       "condition       0\n",
       "odometer        0\n",
       "color           0\n",
       "interior        0\n",
       "seller          0\n",
       "mmr             0\n",
       "sellingprice    0\n",
       "saledate        0\n",
       "dtype: int64"
      ]
     },
     "execution_count": 55,
     "metadata": {},
     "output_type": "execute_result"
    }
   ],
   "source": [
    "print(\" \"*30)\n",
    "print(\"Dataset rows   :\", len(dataset))\n",
    "print(\"=\"*30)\n",
    "print(\" \"*30)\n",
    "\n",
    "dataset.isnull().sum()"
   ]
  },
  {
   "cell_type": "markdown",
   "metadata": {},
   "source": [
    "According to me VIN number will not be useful at all for me because it is unique for all cars. It is better to delete it to reduce teh complexity of the dataset because it's not useful for my analysis."
   ]
  },
  {
   "cell_type": "markdown",
   "metadata": {},
   "source": [
    "2. **❎ Drop columns `VIN`**"
   ]
  },
  {
   "cell_type": "code",
   "execution_count": 56,
   "metadata": {},
   "outputs": [
    {
     "data": {
      "text/html": [
       "<div>\n",
       "<style scoped>\n",
       "    .dataframe tbody tr th:only-of-type {\n",
       "        vertical-align: middle;\n",
       "    }\n",
       "\n",
       "    .dataframe tbody tr th {\n",
       "        vertical-align: top;\n",
       "    }\n",
       "\n",
       "    .dataframe thead th {\n",
       "        text-align: right;\n",
       "    }\n",
       "</style>\n",
       "<table border=\"1\" class=\"dataframe\">\n",
       "  <thead>\n",
       "    <tr style=\"text-align: right;\">\n",
       "      <th></th>\n",
       "      <th>year</th>\n",
       "      <th>make</th>\n",
       "      <th>model</th>\n",
       "      <th>trim</th>\n",
       "      <th>body</th>\n",
       "      <th>transmission</th>\n",
       "      <th>state</th>\n",
       "      <th>condition</th>\n",
       "      <th>odometer</th>\n",
       "      <th>color</th>\n",
       "      <th>interior</th>\n",
       "      <th>seller</th>\n",
       "      <th>mmr</th>\n",
       "      <th>sellingprice</th>\n",
       "      <th>saledate</th>\n",
       "    </tr>\n",
       "  </thead>\n",
       "  <tbody>\n",
       "    <tr>\n",
       "      <th>461623</th>\n",
       "      <td>2010</td>\n",
       "      <td>Cadillac</td>\n",
       "      <td>SRX</td>\n",
       "      <td>Luxury</td>\n",
       "      <td>SUV</td>\n",
       "      <td>automatic</td>\n",
       "      <td>ca</td>\n",
       "      <td>37.0</td>\n",
       "      <td>121779.0</td>\n",
       "      <td>gold</td>\n",
       "      <td>beige</td>\n",
       "      <td>skyhigh remarketing inc</td>\n",
       "      <td>11400.0</td>\n",
       "      <td>10700.0</td>\n",
       "      <td>Wed May 27 2015 05:00:00 GMT-0700 (PDT)</td>\n",
       "    </tr>\n",
       "    <tr>\n",
       "      <th>220691</th>\n",
       "      <td>2012</td>\n",
       "      <td>Ford</td>\n",
       "      <td>Edge</td>\n",
       "      <td>SEL</td>\n",
       "      <td>SUV</td>\n",
       "      <td>automatic</td>\n",
       "      <td>mi</td>\n",
       "      <td>25.0</td>\n",
       "      <td>84026.0</td>\n",
       "      <td>blue</td>\n",
       "      <td>gray</td>\n",
       "      <td>automobiles paille inc</td>\n",
       "      <td>17650.0</td>\n",
       "      <td>15900.0</td>\n",
       "      <td>Thu Feb 12 2015 01:30:00 GMT-0800 (PST)</td>\n",
       "    </tr>\n",
       "    <tr>\n",
       "      <th>261881</th>\n",
       "      <td>2014</td>\n",
       "      <td>Kia</td>\n",
       "      <td>Rio</td>\n",
       "      <td>LX</td>\n",
       "      <td>Sedan</td>\n",
       "      <td>automatic</td>\n",
       "      <td>nj</td>\n",
       "      <td>5.0</td>\n",
       "      <td>11758.0</td>\n",
       "      <td>white</td>\n",
       "      <td>black</td>\n",
       "      <td>kia motors america  inc</td>\n",
       "      <td>11450.0</td>\n",
       "      <td>11300.0</td>\n",
       "      <td>Wed Feb 11 2015 01:30:00 GMT-0800 (PST)</td>\n",
       "    </tr>\n",
       "    <tr>\n",
       "      <th>12755</th>\n",
       "      <td>2010</td>\n",
       "      <td>Lincoln</td>\n",
       "      <td>MKX</td>\n",
       "      <td>Base</td>\n",
       "      <td>SUV</td>\n",
       "      <td>automatic</td>\n",
       "      <td>mn</td>\n",
       "      <td>34.0</td>\n",
       "      <td>46998.0</td>\n",
       "      <td>gray</td>\n",
       "      <td>black</td>\n",
       "      <td>select lane</td>\n",
       "      <td>17700.0</td>\n",
       "      <td>19500.0</td>\n",
       "      <td>Thu Dec 18 2014 10:30:00 GMT-0800 (PST)</td>\n",
       "    </tr>\n",
       "    <tr>\n",
       "      <th>31970</th>\n",
       "      <td>2013</td>\n",
       "      <td>Ford</td>\n",
       "      <td>Edge</td>\n",
       "      <td>Limited</td>\n",
       "      <td>SUV</td>\n",
       "      <td>automatic</td>\n",
       "      <td>mi</td>\n",
       "      <td>28.0</td>\n",
       "      <td>52268.0</td>\n",
       "      <td>black</td>\n",
       "      <td>black</td>\n",
       "      <td>ford motor credit company llc</td>\n",
       "      <td>17450.0</td>\n",
       "      <td>15100.0</td>\n",
       "      <td>Thu Jan 08 2015 09:00:00 GMT-0800 (PST)</td>\n",
       "    </tr>\n",
       "  </tbody>\n",
       "</table>\n",
       "</div>"
      ],
      "text/plain": [
       "        year      make model     trim   body transmission state  condition  \\\n",
       "461623  2010  Cadillac   SRX   Luxury    SUV    automatic    ca       37.0   \n",
       "220691  2012      Ford  Edge      SEL    SUV    automatic    mi       25.0   \n",
       "261881  2014       Kia   Rio       LX  Sedan    automatic    nj        5.0   \n",
       "12755   2010   Lincoln   MKX     Base    SUV    automatic    mn       34.0   \n",
       "31970   2013      Ford  Edge  Limited    SUV    automatic    mi       28.0   \n",
       "\n",
       "        odometer  color interior                         seller      mmr  \\\n",
       "461623  121779.0   gold    beige        skyhigh remarketing inc  11400.0   \n",
       "220691   84026.0   blue     gray         automobiles paille inc  17650.0   \n",
       "261881   11758.0  white    black        kia motors america  inc  11450.0   \n",
       "12755    46998.0   gray    black                    select lane  17700.0   \n",
       "31970    52268.0  black    black  ford motor credit company llc  17450.0   \n",
       "\n",
       "        sellingprice                                 saledate  \n",
       "461623       10700.0  Wed May 27 2015 05:00:00 GMT-0700 (PDT)  \n",
       "220691       15900.0  Thu Feb 12 2015 01:30:00 GMT-0800 (PST)  \n",
       "261881       11300.0  Wed Feb 11 2015 01:30:00 GMT-0800 (PST)  \n",
       "12755        19500.0  Thu Dec 18 2014 10:30:00 GMT-0800 (PST)  \n",
       "31970        15100.0  Thu Jan 08 2015 09:00:00 GMT-0800 (PST)  "
      ]
     },
     "execution_count": 56,
     "metadata": {},
     "output_type": "execute_result"
    }
   ],
   "source": [
    "dataset.drop(\"vin\",axis=1,inplace=True)\n",
    "dataset.sample(5)"
   ]
  },
  {
   "cell_type": "markdown",
   "metadata": {},
   "source": [
    "3. **🪛 Convert the saledate column to Datetime format.**"
   ]
  },
  {
   "cell_type": "markdown",
   "metadata": {},
   "source": [
    "Like I said before the sale date column in this format is very difficult to work with because if I want to filter the data or sort the data based on date then it will not be possible for me to do it accurately which this format. So I will clean it up using `dateutil.parser` package to clean it and convert it to the right datetime format. This module will automatically detect various formats and convert them for us. I will convert them to utc standard to maintain the uniformity."
   ]
  },
  {
   "cell_type": "code",
   "execution_count": 57,
   "metadata": {},
   "outputs": [
    {
     "data": {
      "text/html": [
       "<div>\n",
       "<style scoped>\n",
       "    .dataframe tbody tr th:only-of-type {\n",
       "        vertical-align: middle;\n",
       "    }\n",
       "\n",
       "    .dataframe tbody tr th {\n",
       "        vertical-align: top;\n",
       "    }\n",
       "\n",
       "    .dataframe thead th {\n",
       "        text-align: right;\n",
       "    }\n",
       "</style>\n",
       "<table border=\"1\" class=\"dataframe\">\n",
       "  <thead>\n",
       "    <tr style=\"text-align: right;\">\n",
       "      <th></th>\n",
       "      <th>year</th>\n",
       "      <th>make</th>\n",
       "      <th>model</th>\n",
       "      <th>trim</th>\n",
       "      <th>body</th>\n",
       "      <th>transmission</th>\n",
       "      <th>state</th>\n",
       "      <th>condition</th>\n",
       "      <th>odometer</th>\n",
       "      <th>color</th>\n",
       "      <th>interior</th>\n",
       "      <th>seller</th>\n",
       "      <th>mmr</th>\n",
       "      <th>sellingprice</th>\n",
       "      <th>saledate</th>\n",
       "      <th>saledatetime</th>\n",
       "    </tr>\n",
       "  </thead>\n",
       "  <tbody>\n",
       "    <tr>\n",
       "      <th>0</th>\n",
       "      <td>2015</td>\n",
       "      <td>Kia</td>\n",
       "      <td>Sorento</td>\n",
       "      <td>LX</td>\n",
       "      <td>SUV</td>\n",
       "      <td>automatic</td>\n",
       "      <td>ca</td>\n",
       "      <td>5.0</td>\n",
       "      <td>16639.0</td>\n",
       "      <td>white</td>\n",
       "      <td>black</td>\n",
       "      <td>kia motors america  inc</td>\n",
       "      <td>20500.0</td>\n",
       "      <td>21500.0</td>\n",
       "      <td>Tue Dec 16 2014 12:30:00 GMT-0800 (PST)</td>\n",
       "      <td>2014-12-16 04:30:00+00:00</td>\n",
       "    </tr>\n",
       "    <tr>\n",
       "      <th>1</th>\n",
       "      <td>2015</td>\n",
       "      <td>Kia</td>\n",
       "      <td>Sorento</td>\n",
       "      <td>LX</td>\n",
       "      <td>SUV</td>\n",
       "      <td>automatic</td>\n",
       "      <td>ca</td>\n",
       "      <td>5.0</td>\n",
       "      <td>9393.0</td>\n",
       "      <td>white</td>\n",
       "      <td>beige</td>\n",
       "      <td>kia motors america  inc</td>\n",
       "      <td>20800.0</td>\n",
       "      <td>21500.0</td>\n",
       "      <td>Tue Dec 16 2014 12:30:00 GMT-0800 (PST)</td>\n",
       "      <td>2014-12-16 04:30:00+00:00</td>\n",
       "    </tr>\n",
       "    <tr>\n",
       "      <th>2</th>\n",
       "      <td>2014</td>\n",
       "      <td>BMW</td>\n",
       "      <td>3 Series</td>\n",
       "      <td>328i SULEV</td>\n",
       "      <td>Sedan</td>\n",
       "      <td>automatic</td>\n",
       "      <td>ca</td>\n",
       "      <td>45.0</td>\n",
       "      <td>1331.0</td>\n",
       "      <td>gray</td>\n",
       "      <td>black</td>\n",
       "      <td>financial services remarketing (lease)</td>\n",
       "      <td>31900.0</td>\n",
       "      <td>30000.0</td>\n",
       "      <td>Thu Jan 15 2015 04:30:00 GMT-0800 (PST)</td>\n",
       "      <td>2015-01-14 20:30:00+00:00</td>\n",
       "    </tr>\n",
       "    <tr>\n",
       "      <th>3</th>\n",
       "      <td>2015</td>\n",
       "      <td>Volvo</td>\n",
       "      <td>S60</td>\n",
       "      <td>T5</td>\n",
       "      <td>Sedan</td>\n",
       "      <td>automatic</td>\n",
       "      <td>ca</td>\n",
       "      <td>41.0</td>\n",
       "      <td>14282.0</td>\n",
       "      <td>white</td>\n",
       "      <td>black</td>\n",
       "      <td>volvo na rep/world omni</td>\n",
       "      <td>27500.0</td>\n",
       "      <td>27750.0</td>\n",
       "      <td>Thu Jan 29 2015 04:30:00 GMT-0800 (PST)</td>\n",
       "      <td>2015-01-28 20:30:00+00:00</td>\n",
       "    </tr>\n",
       "    <tr>\n",
       "      <th>4</th>\n",
       "      <td>2014</td>\n",
       "      <td>BMW</td>\n",
       "      <td>6 Series Gran Coupe</td>\n",
       "      <td>650i</td>\n",
       "      <td>Sedan</td>\n",
       "      <td>automatic</td>\n",
       "      <td>ca</td>\n",
       "      <td>43.0</td>\n",
       "      <td>2641.0</td>\n",
       "      <td>gray</td>\n",
       "      <td>black</td>\n",
       "      <td>financial services remarketing (lease)</td>\n",
       "      <td>66000.0</td>\n",
       "      <td>67000.0</td>\n",
       "      <td>Thu Dec 18 2014 12:30:00 GMT-0800 (PST)</td>\n",
       "      <td>2014-12-18 04:30:00+00:00</td>\n",
       "    </tr>\n",
       "  </tbody>\n",
       "</table>\n",
       "</div>"
      ],
      "text/plain": [
       "   year   make                model        trim   body transmission state  \\\n",
       "0  2015    Kia              Sorento          LX    SUV    automatic    ca   \n",
       "1  2015    Kia              Sorento          LX    SUV    automatic    ca   \n",
       "2  2014    BMW             3 Series  328i SULEV  Sedan    automatic    ca   \n",
       "3  2015  Volvo                  S60          T5  Sedan    automatic    ca   \n",
       "4  2014    BMW  6 Series Gran Coupe        650i  Sedan    automatic    ca   \n",
       "\n",
       "   condition  odometer  color interior  \\\n",
       "0        5.0   16639.0  white    black   \n",
       "1        5.0    9393.0  white    beige   \n",
       "2       45.0    1331.0   gray    black   \n",
       "3       41.0   14282.0  white    black   \n",
       "4       43.0    2641.0   gray    black   \n",
       "\n",
       "                                   seller      mmr  sellingprice  \\\n",
       "0                 kia motors america  inc  20500.0       21500.0   \n",
       "1                 kia motors america  inc  20800.0       21500.0   \n",
       "2  financial services remarketing (lease)  31900.0       30000.0   \n",
       "3                 volvo na rep/world omni  27500.0       27750.0   \n",
       "4  financial services remarketing (lease)  66000.0       67000.0   \n",
       "\n",
       "                                  saledate              saledatetime  \n",
       "0  Tue Dec 16 2014 12:30:00 GMT-0800 (PST) 2014-12-16 04:30:00+00:00  \n",
       "1  Tue Dec 16 2014 12:30:00 GMT-0800 (PST) 2014-12-16 04:30:00+00:00  \n",
       "2  Thu Jan 15 2015 04:30:00 GMT-0800 (PST) 2015-01-14 20:30:00+00:00  \n",
       "3  Thu Jan 29 2015 04:30:00 GMT-0800 (PST) 2015-01-28 20:30:00+00:00  \n",
       "4  Thu Dec 18 2014 12:30:00 GMT-0800 (PST) 2014-12-18 04:30:00+00:00  "
      ]
     },
     "execution_count": 57,
     "metadata": {},
     "output_type": "execute_result"
    }
   ],
   "source": [
    "dataset['saledatetime']  =    pnds.to_datetime( dataset['saledate' ].apply(parser.parse), utc=True )\n",
    "dataset.head(5)"
   ]
  },
  {
   "cell_type": "markdown",
   "metadata": {},
   "source": [
    "4. **🪛 Add columns `sale_year` and  `sale_month` using the `saledate` column.**"
   ]
  },
  {
   "cell_type": "markdown",
   "metadata": {},
   "source": [
    "Now that I have got the datetime in a new column, I want to drop the older column. Then since time is not important to me I will move the data to the new column `saledate` and also divide `year` and `month`.\n",
    "\n",
    "Simply, there are the steps.\n",
    "1. drop the older  `saledate` column, \n",
    "2. create a new `saledate` column which will have only the saledate and remove the time as it is not important for us.\n",
    "3. drop the `saledatetime`.\n",
    "4. add `sale_date` and `sale_year` columns."
   ]
  },
  {
   "cell_type": "code",
   "execution_count": 58,
   "metadata": {
    "scrolled": true
   },
   "outputs": [
    {
     "data": {
      "text/html": [
       "<div>\n",
       "<style scoped>\n",
       "    .dataframe tbody tr th:only-of-type {\n",
       "        vertical-align: middle;\n",
       "    }\n",
       "\n",
       "    .dataframe tbody tr th {\n",
       "        vertical-align: top;\n",
       "    }\n",
       "\n",
       "    .dataframe thead th {\n",
       "        text-align: right;\n",
       "    }\n",
       "</style>\n",
       "<table border=\"1\" class=\"dataframe\">\n",
       "  <thead>\n",
       "    <tr style=\"text-align: right;\">\n",
       "      <th></th>\n",
       "      <th>year</th>\n",
       "      <th>make</th>\n",
       "      <th>model</th>\n",
       "      <th>trim</th>\n",
       "      <th>body</th>\n",
       "      <th>transmission</th>\n",
       "      <th>state</th>\n",
       "      <th>condition</th>\n",
       "      <th>odometer</th>\n",
       "      <th>color</th>\n",
       "      <th>interior</th>\n",
       "      <th>seller</th>\n",
       "      <th>mmr</th>\n",
       "      <th>sellingprice</th>\n",
       "      <th>saledate</th>\n",
       "      <th>saledatetime</th>\n",
       "    </tr>\n",
       "  </thead>\n",
       "  <tbody>\n",
       "    <tr>\n",
       "      <th>0</th>\n",
       "      <td>2015</td>\n",
       "      <td>Kia</td>\n",
       "      <td>Sorento</td>\n",
       "      <td>LX</td>\n",
       "      <td>SUV</td>\n",
       "      <td>automatic</td>\n",
       "      <td>ca</td>\n",
       "      <td>5.0</td>\n",
       "      <td>16639.0</td>\n",
       "      <td>white</td>\n",
       "      <td>black</td>\n",
       "      <td>kia motors america  inc</td>\n",
       "      <td>20500.0</td>\n",
       "      <td>21500.0</td>\n",
       "      <td>Tue Dec 16 2014 12:30:00 GMT-0800 (PST)</td>\n",
       "      <td>2014-12-16 04:30:00+00:00</td>\n",
       "    </tr>\n",
       "    <tr>\n",
       "      <th>1</th>\n",
       "      <td>2015</td>\n",
       "      <td>Kia</td>\n",
       "      <td>Sorento</td>\n",
       "      <td>LX</td>\n",
       "      <td>SUV</td>\n",
       "      <td>automatic</td>\n",
       "      <td>ca</td>\n",
       "      <td>5.0</td>\n",
       "      <td>9393.0</td>\n",
       "      <td>white</td>\n",
       "      <td>beige</td>\n",
       "      <td>kia motors america  inc</td>\n",
       "      <td>20800.0</td>\n",
       "      <td>21500.0</td>\n",
       "      <td>Tue Dec 16 2014 12:30:00 GMT-0800 (PST)</td>\n",
       "      <td>2014-12-16 04:30:00+00:00</td>\n",
       "    </tr>\n",
       "    <tr>\n",
       "      <th>2</th>\n",
       "      <td>2014</td>\n",
       "      <td>BMW</td>\n",
       "      <td>3 Series</td>\n",
       "      <td>328i SULEV</td>\n",
       "      <td>Sedan</td>\n",
       "      <td>automatic</td>\n",
       "      <td>ca</td>\n",
       "      <td>45.0</td>\n",
       "      <td>1331.0</td>\n",
       "      <td>gray</td>\n",
       "      <td>black</td>\n",
       "      <td>financial services remarketing (lease)</td>\n",
       "      <td>31900.0</td>\n",
       "      <td>30000.0</td>\n",
       "      <td>Thu Jan 15 2015 04:30:00 GMT-0800 (PST)</td>\n",
       "      <td>2015-01-14 20:30:00+00:00</td>\n",
       "    </tr>\n",
       "  </tbody>\n",
       "</table>\n",
       "</div>"
      ],
      "text/plain": [
       "   year make     model        trim   body transmission state  condition  \\\n",
       "0  2015  Kia   Sorento          LX    SUV    automatic    ca        5.0   \n",
       "1  2015  Kia   Sorento          LX    SUV    automatic    ca        5.0   \n",
       "2  2014  BMW  3 Series  328i SULEV  Sedan    automatic    ca       45.0   \n",
       "\n",
       "   odometer  color interior                                  seller      mmr  \\\n",
       "0   16639.0  white    black                 kia motors america  inc  20500.0   \n",
       "1    9393.0  white    beige                 kia motors america  inc  20800.0   \n",
       "2    1331.0   gray    black  financial services remarketing (lease)  31900.0   \n",
       "\n",
       "   sellingprice                                 saledate  \\\n",
       "0       21500.0  Tue Dec 16 2014 12:30:00 GMT-0800 (PST)   \n",
       "1       21500.0  Tue Dec 16 2014 12:30:00 GMT-0800 (PST)   \n",
       "2       30000.0  Thu Jan 15 2015 04:30:00 GMT-0800 (PST)   \n",
       "\n",
       "               saledatetime  \n",
       "0 2014-12-16 04:30:00+00:00  \n",
       "1 2014-12-16 04:30:00+00:00  \n",
       "2 2015-01-14 20:30:00+00:00  "
      ]
     },
     "execution_count": 58,
     "metadata": {},
     "output_type": "execute_result"
    }
   ],
   "source": [
    "dataset.head(3)"
   ]
  },
  {
   "cell_type": "code",
   "execution_count": 59,
   "metadata": {},
   "outputs": [
    {
     "data": {
      "text/html": [
       "<div>\n",
       "<style scoped>\n",
       "    .dataframe tbody tr th:only-of-type {\n",
       "        vertical-align: middle;\n",
       "    }\n",
       "\n",
       "    .dataframe tbody tr th {\n",
       "        vertical-align: top;\n",
       "    }\n",
       "\n",
       "    .dataframe thead th {\n",
       "        text-align: right;\n",
       "    }\n",
       "</style>\n",
       "<table border=\"1\" class=\"dataframe\">\n",
       "  <thead>\n",
       "    <tr style=\"text-align: right;\">\n",
       "      <th></th>\n",
       "      <th>year</th>\n",
       "      <th>make</th>\n",
       "      <th>model</th>\n",
       "      <th>trim</th>\n",
       "      <th>body</th>\n",
       "      <th>transmission</th>\n",
       "      <th>state</th>\n",
       "      <th>condition</th>\n",
       "      <th>odometer</th>\n",
       "      <th>color</th>\n",
       "      <th>interior</th>\n",
       "      <th>seller</th>\n",
       "      <th>mmr</th>\n",
       "      <th>sellingprice</th>\n",
       "      <th>saledatetime</th>\n",
       "    </tr>\n",
       "  </thead>\n",
       "  <tbody>\n",
       "    <tr>\n",
       "      <th>429986</th>\n",
       "      <td>2013</td>\n",
       "      <td>Nissan</td>\n",
       "      <td>Titan</td>\n",
       "      <td>SV</td>\n",
       "      <td>Crew Cab</td>\n",
       "      <td>automatic</td>\n",
       "      <td>ca</td>\n",
       "      <td>44.0</td>\n",
       "      <td>30882.0</td>\n",
       "      <td>gray</td>\n",
       "      <td>gray</td>\n",
       "      <td>nissan motor acceptance corporation</td>\n",
       "      <td>19950.0</td>\n",
       "      <td>23750.0</td>\n",
       "      <td>2015-05-25 22:30:00+00:00</td>\n",
       "    </tr>\n",
       "    <tr>\n",
       "      <th>64910</th>\n",
       "      <td>2009</td>\n",
       "      <td>Chevrolet</td>\n",
       "      <td>HHR</td>\n",
       "      <td>LT</td>\n",
       "      <td>Wagon</td>\n",
       "      <td>automatic</td>\n",
       "      <td>wi</td>\n",
       "      <td>22.0</td>\n",
       "      <td>100641.0</td>\n",
       "      <td>gray</td>\n",
       "      <td>gray</td>\n",
       "      <td>capital one auto finance</td>\n",
       "      <td>5375.0</td>\n",
       "      <td>4000.0</td>\n",
       "      <td>2014-12-31 02:00:00+00:00</td>\n",
       "    </tr>\n",
       "    <tr>\n",
       "      <th>65066</th>\n",
       "      <td>2011</td>\n",
       "      <td>BMW</td>\n",
       "      <td>X3</td>\n",
       "      <td>xDrive35i</td>\n",
       "      <td>SUV</td>\n",
       "      <td>automatic</td>\n",
       "      <td>oh</td>\n",
       "      <td>4.0</td>\n",
       "      <td>33831.0</td>\n",
       "      <td>black</td>\n",
       "      <td>black</td>\n",
       "      <td>crown motor co inc</td>\n",
       "      <td>30400.0</td>\n",
       "      <td>29250.0</td>\n",
       "      <td>2014-12-30 01:30:00+00:00</td>\n",
       "    </tr>\n",
       "  </tbody>\n",
       "</table>\n",
       "</div>"
      ],
      "text/plain": [
       "        year       make  model       trim      body transmission state  \\\n",
       "429986  2013     Nissan  Titan         SV  Crew Cab    automatic    ca   \n",
       "64910   2009  Chevrolet    HHR         LT     Wagon    automatic    wi   \n",
       "65066   2011        BMW     X3  xDrive35i       SUV    automatic    oh   \n",
       "\n",
       "        condition  odometer  color interior  \\\n",
       "429986       44.0   30882.0   gray     gray   \n",
       "64910        22.0  100641.0   gray     gray   \n",
       "65066         4.0   33831.0  black    black   \n",
       "\n",
       "                                     seller      mmr  sellingprice  \\\n",
       "429986  nissan motor acceptance corporation  19950.0       23750.0   \n",
       "64910              capital one auto finance   5375.0        4000.0   \n",
       "65066                    crown motor co inc  30400.0       29250.0   \n",
       "\n",
       "                    saledatetime  \n",
       "429986 2015-05-25 22:30:00+00:00  \n",
       "64910  2014-12-31 02:00:00+00:00  \n",
       "65066  2014-12-30 01:30:00+00:00  "
      ]
     },
     "execution_count": 59,
     "metadata": {},
     "output_type": "execute_result"
    }
   ],
   "source": [
    "dataset.drop(\"saledate\",axis=1,inplace=True)\n",
    "dataset.sample(3)"
   ]
  },
  {
   "cell_type": "code",
   "execution_count": 60,
   "metadata": {},
   "outputs": [],
   "source": [
    "dataset[\"saledate\"] = pnds.to_datetime(dataset[\"saledatetime\"])"
   ]
  },
  {
   "cell_type": "code",
   "execution_count": 61,
   "metadata": {},
   "outputs": [
    {
     "data": {
      "text/html": [
       "<div>\n",
       "<style scoped>\n",
       "    .dataframe tbody tr th:only-of-type {\n",
       "        vertical-align: middle;\n",
       "    }\n",
       "\n",
       "    .dataframe tbody tr th {\n",
       "        vertical-align: top;\n",
       "    }\n",
       "\n",
       "    .dataframe thead th {\n",
       "        text-align: right;\n",
       "    }\n",
       "</style>\n",
       "<table border=\"1\" class=\"dataframe\">\n",
       "  <thead>\n",
       "    <tr style=\"text-align: right;\">\n",
       "      <th></th>\n",
       "      <th>year</th>\n",
       "      <th>make</th>\n",
       "      <th>model</th>\n",
       "      <th>trim</th>\n",
       "      <th>body</th>\n",
       "      <th>transmission</th>\n",
       "      <th>state</th>\n",
       "      <th>condition</th>\n",
       "      <th>odometer</th>\n",
       "      <th>color</th>\n",
       "      <th>interior</th>\n",
       "      <th>seller</th>\n",
       "      <th>mmr</th>\n",
       "      <th>sellingprice</th>\n",
       "      <th>saledate</th>\n",
       "      <th>sale_month</th>\n",
       "      <th>sale_year</th>\n",
       "    </tr>\n",
       "  </thead>\n",
       "  <tbody>\n",
       "    <tr>\n",
       "      <th>0</th>\n",
       "      <td>2015</td>\n",
       "      <td>Kia</td>\n",
       "      <td>Sorento</td>\n",
       "      <td>LX</td>\n",
       "      <td>SUV</td>\n",
       "      <td>automatic</td>\n",
       "      <td>ca</td>\n",
       "      <td>5.0</td>\n",
       "      <td>16639.0</td>\n",
       "      <td>white</td>\n",
       "      <td>black</td>\n",
       "      <td>kia motors america  inc</td>\n",
       "      <td>20500.0</td>\n",
       "      <td>21500.0</td>\n",
       "      <td>2014-12-16 04:30:00+00:00</td>\n",
       "      <td>December</td>\n",
       "      <td>2014</td>\n",
       "    </tr>\n",
       "    <tr>\n",
       "      <th>1</th>\n",
       "      <td>2015</td>\n",
       "      <td>Kia</td>\n",
       "      <td>Sorento</td>\n",
       "      <td>LX</td>\n",
       "      <td>SUV</td>\n",
       "      <td>automatic</td>\n",
       "      <td>ca</td>\n",
       "      <td>5.0</td>\n",
       "      <td>9393.0</td>\n",
       "      <td>white</td>\n",
       "      <td>beige</td>\n",
       "      <td>kia motors america  inc</td>\n",
       "      <td>20800.0</td>\n",
       "      <td>21500.0</td>\n",
       "      <td>2014-12-16 04:30:00+00:00</td>\n",
       "      <td>December</td>\n",
       "      <td>2014</td>\n",
       "    </tr>\n",
       "    <tr>\n",
       "      <th>2</th>\n",
       "      <td>2014</td>\n",
       "      <td>BMW</td>\n",
       "      <td>3 Series</td>\n",
       "      <td>328i SULEV</td>\n",
       "      <td>Sedan</td>\n",
       "      <td>automatic</td>\n",
       "      <td>ca</td>\n",
       "      <td>45.0</td>\n",
       "      <td>1331.0</td>\n",
       "      <td>gray</td>\n",
       "      <td>black</td>\n",
       "      <td>financial services remarketing (lease)</td>\n",
       "      <td>31900.0</td>\n",
       "      <td>30000.0</td>\n",
       "      <td>2015-01-14 20:30:00+00:00</td>\n",
       "      <td>January</td>\n",
       "      <td>2015</td>\n",
       "    </tr>\n",
       "    <tr>\n",
       "      <th>3</th>\n",
       "      <td>2015</td>\n",
       "      <td>Volvo</td>\n",
       "      <td>S60</td>\n",
       "      <td>T5</td>\n",
       "      <td>Sedan</td>\n",
       "      <td>automatic</td>\n",
       "      <td>ca</td>\n",
       "      <td>41.0</td>\n",
       "      <td>14282.0</td>\n",
       "      <td>white</td>\n",
       "      <td>black</td>\n",
       "      <td>volvo na rep/world omni</td>\n",
       "      <td>27500.0</td>\n",
       "      <td>27750.0</td>\n",
       "      <td>2015-01-28 20:30:00+00:00</td>\n",
       "      <td>January</td>\n",
       "      <td>2015</td>\n",
       "    </tr>\n",
       "    <tr>\n",
       "      <th>4</th>\n",
       "      <td>2014</td>\n",
       "      <td>BMW</td>\n",
       "      <td>6 Series Gran Coupe</td>\n",
       "      <td>650i</td>\n",
       "      <td>Sedan</td>\n",
       "      <td>automatic</td>\n",
       "      <td>ca</td>\n",
       "      <td>43.0</td>\n",
       "      <td>2641.0</td>\n",
       "      <td>gray</td>\n",
       "      <td>black</td>\n",
       "      <td>financial services remarketing (lease)</td>\n",
       "      <td>66000.0</td>\n",
       "      <td>67000.0</td>\n",
       "      <td>2014-12-18 04:30:00+00:00</td>\n",
       "      <td>December</td>\n",
       "      <td>2014</td>\n",
       "    </tr>\n",
       "  </tbody>\n",
       "</table>\n",
       "</div>"
      ],
      "text/plain": [
       "   year   make                model        trim   body transmission state  \\\n",
       "0  2015    Kia              Sorento          LX    SUV    automatic    ca   \n",
       "1  2015    Kia              Sorento          LX    SUV    automatic    ca   \n",
       "2  2014    BMW             3 Series  328i SULEV  Sedan    automatic    ca   \n",
       "3  2015  Volvo                  S60          T5  Sedan    automatic    ca   \n",
       "4  2014    BMW  6 Series Gran Coupe        650i  Sedan    automatic    ca   \n",
       "\n",
       "   condition  odometer  color interior  \\\n",
       "0        5.0   16639.0  white    black   \n",
       "1        5.0    9393.0  white    beige   \n",
       "2       45.0    1331.0   gray    black   \n",
       "3       41.0   14282.0  white    black   \n",
       "4       43.0    2641.0   gray    black   \n",
       "\n",
       "                                   seller      mmr  sellingprice  \\\n",
       "0                 kia motors america  inc  20500.0       21500.0   \n",
       "1                 kia motors america  inc  20800.0       21500.0   \n",
       "2  financial services remarketing (lease)  31900.0       30000.0   \n",
       "3                 volvo na rep/world omni  27500.0       27750.0   \n",
       "4  financial services remarketing (lease)  66000.0       67000.0   \n",
       "\n",
       "                   saledate sale_month  sale_year  \n",
       "0 2014-12-16 04:30:00+00:00   December       2014  \n",
       "1 2014-12-16 04:30:00+00:00   December       2014  \n",
       "2 2015-01-14 20:30:00+00:00    January       2015  \n",
       "3 2015-01-28 20:30:00+00:00    January       2015  \n",
       "4 2014-12-18 04:30:00+00:00   December       2014  "
      ]
     },
     "execution_count": 61,
     "metadata": {},
     "output_type": "execute_result"
    }
   ],
   "source": [
    "dataset.drop(\"saledatetime\",axis=1,inplace=True)\n",
    "dataset['sale_month'] = dataset['saledate'].dt.strftime('%B')\n",
    "dataset['sale_year'] = dataset['saledate'].dt.year\n",
    "dataset.head(5)"
   ]
  },
  {
   "cell_type": "markdown",
   "metadata": {},
   "source": [
    "5. **🪛 Make column `make` all smalll**"
   ]
  },
  {
   "cell_type": "markdown",
   "metadata": {},
   "source": [
    "Next, I will change the `make` column to all small letter to standardize them."
   ]
  },
  {
   "cell_type": "code",
   "execution_count": 62,
   "metadata": {},
   "outputs": [],
   "source": [
    "dataset['make'] = dataset['make'].str.lower()"
   ]
  },
  {
   "cell_type": "markdown",
   "metadata": {},
   "source": [
    "6. **🪛 Replace the make error in make with the standard make name**"
   ]
  },
  {
   "cell_type": "markdown",
   "metadata": {},
   "source": [
    "And we also saw that the data were the same makes but they have been updated as slightly different names. To standardize them,\n",
    "Here I will replace the make names with standard ones."
   ]
  },
  {
   "cell_type": "code",
   "execution_count": 63,
   "metadata": {},
   "outputs": [
    {
     "data": {
      "text/plain": [
       "['acura',\n",
       " 'aston martin',\n",
       " 'audi',\n",
       " 'bentley',\n",
       " 'bmw',\n",
       " 'buick',\n",
       " 'cadillac',\n",
       " 'chevrolet',\n",
       " 'chrysler',\n",
       " 'daewoo',\n",
       " 'dodge',\n",
       " 'ferrari',\n",
       " 'fiat',\n",
       " 'fisker',\n",
       " 'ford',\n",
       " 'geo',\n",
       " 'gmc',\n",
       " 'honda',\n",
       " 'hummer',\n",
       " 'hyundai',\n",
       " 'infiniti',\n",
       " 'isuzu',\n",
       " 'jaguar',\n",
       " 'jeep',\n",
       " 'kia',\n",
       " 'lamborghini',\n",
       " 'landrover',\n",
       " 'lexus',\n",
       " 'lincoln',\n",
       " 'lotus',\n",
       " 'maserati',\n",
       " 'mazda',\n",
       " 'mercedes',\n",
       " 'mercury',\n",
       " 'mini',\n",
       " 'mitsubishi',\n",
       " 'nissan',\n",
       " 'oldsmobile',\n",
       " 'plymouth',\n",
       " 'pontiac',\n",
       " 'porsche',\n",
       " 'ram',\n",
       " 'rolls-royce',\n",
       " 'saab',\n",
       " 'saturn',\n",
       " 'scion',\n",
       " 'smart',\n",
       " 'subaru',\n",
       " 'suzuki',\n",
       " 'tesla',\n",
       " 'toyota',\n",
       " 'volkswagen',\n",
       " 'volvo']"
      ]
     },
     "execution_count": 63,
     "metadata": {},
     "output_type": "execute_result"
    }
   ],
   "source": [
    "dataset['make'] = dataset['make'].replace({'chev truck':'chevrolet','dodge tk':'dodge','ford tk':'ford','ford truck':'ford','gmc truck':'gmc','hyundai tk':'hyundai','land rover':'landrover',\n",
    "                    'mazda tk':'mazda','mercedes-b':'mercedes','mercedes-benz':'mercedes','vw':'volkswagen'})\n",
    "sorted(dataset['make'].astype(str).unique())"
   ]
  },
  {
   "cell_type": "markdown",
   "metadata": {},
   "source": [
    "make column looks so much better now."
   ]
  },
  {
   "cell_type": "markdown",
   "metadata": {},
   "source": [
    "7. **❎ Drop the rows with error data from `state` and `transmission` columns**"
   ]
  },
  {
   "cell_type": "markdown",
   "metadata": {},
   "source": [
    "If I search each error entry and delete them it will take time. Since all the error records first 4 records are same I will filter them based on that and delete it."
   ]
  },
  {
   "cell_type": "code",
   "execution_count": 64,
   "metadata": {},
   "outputs": [
    {
     "data": {
      "text/html": [
       "<div>\n",
       "<style scoped>\n",
       "    .dataframe tbody tr th:only-of-type {\n",
       "        vertical-align: middle;\n",
       "    }\n",
       "\n",
       "    .dataframe tbody tr th {\n",
       "        vertical-align: top;\n",
       "    }\n",
       "\n",
       "    .dataframe thead th {\n",
       "        text-align: right;\n",
       "    }\n",
       "</style>\n",
       "<table border=\"1\" class=\"dataframe\">\n",
       "  <thead>\n",
       "    <tr style=\"text-align: right;\">\n",
       "      <th></th>\n",
       "      <th>year</th>\n",
       "      <th>make</th>\n",
       "      <th>model</th>\n",
       "      <th>trim</th>\n",
       "      <th>body</th>\n",
       "      <th>transmission</th>\n",
       "      <th>state</th>\n",
       "      <th>condition</th>\n",
       "      <th>odometer</th>\n",
       "      <th>color</th>\n",
       "      <th>interior</th>\n",
       "      <th>seller</th>\n",
       "      <th>mmr</th>\n",
       "      <th>sellingprice</th>\n",
       "      <th>saledate</th>\n",
       "      <th>sale_month</th>\n",
       "      <th>sale_year</th>\n",
       "    </tr>\n",
       "  </thead>\n",
       "  <tbody>\n",
       "    <tr>\n",
       "      <th>491841</th>\n",
       "      <td>2012</td>\n",
       "      <td>audi</td>\n",
       "      <td>A3</td>\n",
       "      <td>2.0T Premium</td>\n",
       "      <td>wagon</td>\n",
       "      <td>automatic</td>\n",
       "      <td>ca</td>\n",
       "      <td>49.0</td>\n",
       "      <td>16874.0</td>\n",
       "      <td>—</td>\n",
       "      <td>black</td>\n",
       "      <td>high bid trading co inc</td>\n",
       "      <td>16700.0</td>\n",
       "      <td>20000.0</td>\n",
       "      <td>2015-06-02 22:15:00+00:00</td>\n",
       "      <td>June</td>\n",
       "      <td>2015</td>\n",
       "    </tr>\n",
       "    <tr>\n",
       "      <th>459440</th>\n",
       "      <td>2007</td>\n",
       "      <td>chrysler</td>\n",
       "      <td>Sebring</td>\n",
       "      <td>Base</td>\n",
       "      <td>Sedan</td>\n",
       "      <td>automatic</td>\n",
       "      <td>va</td>\n",
       "      <td>19.0</td>\n",
       "      <td>195343.0</td>\n",
       "      <td>white</td>\n",
       "      <td>beige</td>\n",
       "      <td>virginia select auto</td>\n",
       "      <td>1450.0</td>\n",
       "      <td>1000.0</td>\n",
       "      <td>2015-05-27 19:05:00+00:00</td>\n",
       "      <td>May</td>\n",
       "      <td>2015</td>\n",
       "    </tr>\n",
       "    <tr>\n",
       "      <th>167401</th>\n",
       "      <td>2001</td>\n",
       "      <td>chevrolet</td>\n",
       "      <td>Silverado 1500</td>\n",
       "      <td>LS</td>\n",
       "      <td>Extended Cab</td>\n",
       "      <td>automatic</td>\n",
       "      <td>nc</td>\n",
       "      <td>26.0</td>\n",
       "      <td>147153.0</td>\n",
       "      <td>white</td>\n",
       "      <td>black</td>\n",
       "      <td>boyd chev buick gmc of emporia va  inc</td>\n",
       "      <td>3500.0</td>\n",
       "      <td>2800.0</td>\n",
       "      <td>2015-01-18 17:00:00+00:00</td>\n",
       "      <td>January</td>\n",
       "      <td>2015</td>\n",
       "    </tr>\n",
       "    <tr>\n",
       "      <th>507150</th>\n",
       "      <td>2013</td>\n",
       "      <td>nissan</td>\n",
       "      <td>Altima</td>\n",
       "      <td>2.5</td>\n",
       "      <td>sedan</td>\n",
       "      <td>automatic</td>\n",
       "      <td>ca</td>\n",
       "      <td>37.0</td>\n",
       "      <td>58661.0</td>\n",
       "      <td>black</td>\n",
       "      <td>black</td>\n",
       "      <td>the hertz corporation</td>\n",
       "      <td>11850.0</td>\n",
       "      <td>11101.0</td>\n",
       "      <td>2015-06-08 22:30:00+00:00</td>\n",
       "      <td>June</td>\n",
       "      <td>2015</td>\n",
       "    </tr>\n",
       "    <tr>\n",
       "      <th>244990</th>\n",
       "      <td>2007</td>\n",
       "      <td>toyota</td>\n",
       "      <td>FJ Cruiser</td>\n",
       "      <td>Base</td>\n",
       "      <td>SUV</td>\n",
       "      <td>automatic</td>\n",
       "      <td>co</td>\n",
       "      <td>2.0</td>\n",
       "      <td>146509.0</td>\n",
       "      <td>red</td>\n",
       "      <td>black</td>\n",
       "      <td>ghent chevrolet cadillac</td>\n",
       "      <td>12150.0</td>\n",
       "      <td>12600.0</td>\n",
       "      <td>2015-02-02 20:00:00+00:00</td>\n",
       "      <td>February</td>\n",
       "      <td>2015</td>\n",
       "    </tr>\n",
       "  </tbody>\n",
       "</table>\n",
       "</div>"
      ],
      "text/plain": [
       "        year       make           model          trim          body  \\\n",
       "491841  2012       audi              A3  2.0T Premium         wagon   \n",
       "459440  2007   chrysler         Sebring          Base         Sedan   \n",
       "167401  2001  chevrolet  Silverado 1500            LS  Extended Cab   \n",
       "507150  2013     nissan          Altima           2.5         sedan   \n",
       "244990  2007     toyota      FJ Cruiser          Base           SUV   \n",
       "\n",
       "       transmission state  condition  odometer  color interior  \\\n",
       "491841    automatic    ca       49.0   16874.0      —    black   \n",
       "459440    automatic    va       19.0  195343.0  white    beige   \n",
       "167401    automatic    nc       26.0  147153.0  white    black   \n",
       "507150    automatic    ca       37.0   58661.0  black    black   \n",
       "244990    automatic    co        2.0  146509.0    red    black   \n",
       "\n",
       "                                        seller      mmr  sellingprice  \\\n",
       "491841                 high bid trading co inc  16700.0       20000.0   \n",
       "459440                    virginia select auto   1450.0        1000.0   \n",
       "167401  boyd chev buick gmc of emporia va  inc   3500.0        2800.0   \n",
       "507150                   the hertz corporation  11850.0       11101.0   \n",
       "244990                ghent chevrolet cadillac  12150.0       12600.0   \n",
       "\n",
       "                        saledate sale_month  sale_year  \n",
       "491841 2015-06-02 22:15:00+00:00       June       2015  \n",
       "459440 2015-05-27 19:05:00+00:00        May       2015  \n",
       "167401 2015-01-18 17:00:00+00:00    January       2015  \n",
       "507150 2015-06-08 22:30:00+00:00       June       2015  \n",
       "244990 2015-02-02 20:00:00+00:00   February       2015  "
      ]
     },
     "execution_count": 64,
     "metadata": {},
     "output_type": "execute_result"
    }
   ],
   "source": [
    "dataset =  dataset[ ~dataset[ 'state'].str.startswith('3vwd'  )]\n",
    "dataset.sample(5)"
   ]
  },
  {
   "cell_type": "markdown",
   "metadata": {},
   "source": [
    "I feel like the order of the column is not so accurate, which is not good for reading. Hence I will rearrange the columns. This will make it easier for us to read."
   ]
  },
  {
   "cell_type": "code",
   "execution_count": 65,
   "metadata": {},
   "outputs": [
    {
     "data": {
      "text/html": [
       "<div>\n",
       "<style scoped>\n",
       "    .dataframe tbody tr th:only-of-type {\n",
       "        vertical-align: middle;\n",
       "    }\n",
       "\n",
       "    .dataframe tbody tr th {\n",
       "        vertical-align: top;\n",
       "    }\n",
       "\n",
       "    .dataframe thead th {\n",
       "        text-align: right;\n",
       "    }\n",
       "</style>\n",
       "<table border=\"1\" class=\"dataframe\">\n",
       "  <thead>\n",
       "    <tr style=\"text-align: right;\">\n",
       "      <th></th>\n",
       "      <th>year</th>\n",
       "      <th>make</th>\n",
       "      <th>model</th>\n",
       "      <th>trim</th>\n",
       "      <th>body</th>\n",
       "      <th>transmission</th>\n",
       "      <th>state</th>\n",
       "      <th>condition</th>\n",
       "      <th>color</th>\n",
       "      <th>interior</th>\n",
       "      <th>saledate</th>\n",
       "      <th>sale_year</th>\n",
       "      <th>sale_month</th>\n",
       "      <th>seller</th>\n",
       "      <th>sellingprice</th>\n",
       "      <th>mmr</th>\n",
       "      <th>odometer</th>\n",
       "    </tr>\n",
       "  </thead>\n",
       "  <tbody>\n",
       "    <tr>\n",
       "      <th>0</th>\n",
       "      <td>2015</td>\n",
       "      <td>kia</td>\n",
       "      <td>Sorento</td>\n",
       "      <td>LX</td>\n",
       "      <td>SUV</td>\n",
       "      <td>automatic</td>\n",
       "      <td>ca</td>\n",
       "      <td>5.0</td>\n",
       "      <td>white</td>\n",
       "      <td>black</td>\n",
       "      <td>2014-12-16 04:30:00+00:00</td>\n",
       "      <td>2014</td>\n",
       "      <td>December</td>\n",
       "      <td>kia motors america  inc</td>\n",
       "      <td>21500.0</td>\n",
       "      <td>20500.0</td>\n",
       "      <td>16639.0</td>\n",
       "    </tr>\n",
       "    <tr>\n",
       "      <th>1</th>\n",
       "      <td>2015</td>\n",
       "      <td>kia</td>\n",
       "      <td>Sorento</td>\n",
       "      <td>LX</td>\n",
       "      <td>SUV</td>\n",
       "      <td>automatic</td>\n",
       "      <td>ca</td>\n",
       "      <td>5.0</td>\n",
       "      <td>white</td>\n",
       "      <td>beige</td>\n",
       "      <td>2014-12-16 04:30:00+00:00</td>\n",
       "      <td>2014</td>\n",
       "      <td>December</td>\n",
       "      <td>kia motors america  inc</td>\n",
       "      <td>21500.0</td>\n",
       "      <td>20800.0</td>\n",
       "      <td>9393.0</td>\n",
       "    </tr>\n",
       "    <tr>\n",
       "      <th>2</th>\n",
       "      <td>2014</td>\n",
       "      <td>bmw</td>\n",
       "      <td>3 Series</td>\n",
       "      <td>328i SULEV</td>\n",
       "      <td>Sedan</td>\n",
       "      <td>automatic</td>\n",
       "      <td>ca</td>\n",
       "      <td>45.0</td>\n",
       "      <td>gray</td>\n",
       "      <td>black</td>\n",
       "      <td>2015-01-14 20:30:00+00:00</td>\n",
       "      <td>2015</td>\n",
       "      <td>January</td>\n",
       "      <td>financial services remarketing (lease)</td>\n",
       "      <td>30000.0</td>\n",
       "      <td>31900.0</td>\n",
       "      <td>1331.0</td>\n",
       "    </tr>\n",
       "    <tr>\n",
       "      <th>3</th>\n",
       "      <td>2015</td>\n",
       "      <td>volvo</td>\n",
       "      <td>S60</td>\n",
       "      <td>T5</td>\n",
       "      <td>Sedan</td>\n",
       "      <td>automatic</td>\n",
       "      <td>ca</td>\n",
       "      <td>41.0</td>\n",
       "      <td>white</td>\n",
       "      <td>black</td>\n",
       "      <td>2015-01-28 20:30:00+00:00</td>\n",
       "      <td>2015</td>\n",
       "      <td>January</td>\n",
       "      <td>volvo na rep/world omni</td>\n",
       "      <td>27750.0</td>\n",
       "      <td>27500.0</td>\n",
       "      <td>14282.0</td>\n",
       "    </tr>\n",
       "    <tr>\n",
       "      <th>4</th>\n",
       "      <td>2014</td>\n",
       "      <td>bmw</td>\n",
       "      <td>6 Series Gran Coupe</td>\n",
       "      <td>650i</td>\n",
       "      <td>Sedan</td>\n",
       "      <td>automatic</td>\n",
       "      <td>ca</td>\n",
       "      <td>43.0</td>\n",
       "      <td>gray</td>\n",
       "      <td>black</td>\n",
       "      <td>2014-12-18 04:30:00+00:00</td>\n",
       "      <td>2014</td>\n",
       "      <td>December</td>\n",
       "      <td>financial services remarketing (lease)</td>\n",
       "      <td>67000.0</td>\n",
       "      <td>66000.0</td>\n",
       "      <td>2641.0</td>\n",
       "    </tr>\n",
       "  </tbody>\n",
       "</table>\n",
       "</div>"
      ],
      "text/plain": [
       "   year   make                model        trim   body transmission state  \\\n",
       "0  2015    kia              Sorento          LX    SUV    automatic    ca   \n",
       "1  2015    kia              Sorento          LX    SUV    automatic    ca   \n",
       "2  2014    bmw             3 Series  328i SULEV  Sedan    automatic    ca   \n",
       "3  2015  volvo                  S60          T5  Sedan    automatic    ca   \n",
       "4  2014    bmw  6 Series Gran Coupe        650i  Sedan    automatic    ca   \n",
       "\n",
       "   condition  color interior                  saledate  sale_year sale_month  \\\n",
       "0        5.0  white    black 2014-12-16 04:30:00+00:00       2014   December   \n",
       "1        5.0  white    beige 2014-12-16 04:30:00+00:00       2014   December   \n",
       "2       45.0   gray    black 2015-01-14 20:30:00+00:00       2015    January   \n",
       "3       41.0  white    black 2015-01-28 20:30:00+00:00       2015    January   \n",
       "4       43.0   gray    black 2014-12-18 04:30:00+00:00       2014   December   \n",
       "\n",
       "                                   seller  sellingprice      mmr  odometer  \n",
       "0                 kia motors america  inc       21500.0  20500.0   16639.0  \n",
       "1                 kia motors america  inc       21500.0  20800.0    9393.0  \n",
       "2  financial services remarketing (lease)       30000.0  31900.0    1331.0  \n",
       "3                 volvo na rep/world omni       27750.0  27500.0   14282.0  \n",
       "4  financial services remarketing (lease)       67000.0  66000.0    2641.0  "
      ]
     },
     "execution_count": 65,
     "metadata": {},
     "output_type": "execute_result"
    }
   ],
   "source": [
    "rearranged_columns = ['year','make','model','trim','body','transmission','state','condition','color','interior','saledate','sale_year','sale_month','seller','sellingprice','mmr','odometer']\n",
    "dataset = dataset[rearranged_columns]\n",
    "dataset.head(5)"
   ]
  },
  {
   "cell_type": "markdown",
   "metadata": {},
   "source": [
    "Dataset looks better now."
   ]
  },
  {
   "cell_type": "markdown",
   "metadata": {},
   "source": [
    "Just to verify let me just check the datatype of the dataset if it looks good."
   ]
  },
  {
   "cell_type": "code",
   "execution_count": 66,
   "metadata": {},
   "outputs": [
    {
     "data": {
      "text/plain": [
       "year                          int64\n",
       "make                         object\n",
       "model                        object\n",
       "trim                         object\n",
       "body                         object\n",
       "transmission                 object\n",
       "state                        object\n",
       "condition                   float64\n",
       "color                        object\n",
       "interior                     object\n",
       "saledate        datetime64[ns, UTC]\n",
       "sale_year                     int32\n",
       "sale_month                   object\n",
       "seller                       object\n",
       "sellingprice                float64\n",
       "mmr                         float64\n",
       "odometer                    float64\n",
       "dtype: object"
      ]
     },
     "execution_count": 66,
     "metadata": {},
     "output_type": "execute_result"
    }
   ],
   "source": [
    "dataset.dtypes"
   ]
  },
  {
   "cell_type": "markdown",
   "metadata": {},
   "source": [
    "Looks fine now"
   ]
  },
  {
   "cell_type": "markdown",
   "metadata": {},
   "source": []
  },
  {
   "cell_type": "markdown",
   "metadata": {},
   "source": [
    "<a id='questions'></a>  \n",
    "\n",
    "\n",
    "## ❓ <span style=\"color: #20479b; font-weight: bold;\">Business Questions</span>"
   ]
  },
  {
   "cell_type": "markdown",
   "metadata": {},
   "source": [
    "#####  [**❓1️⃣ What is the sales comparison of car makers in New York(ny) and Texas(tx) for the last 3 years from the data?**](#q1)\n",
    "#####  [**❓2️⃣ What was the vehicle sales pattern by month for the last 5 years of the data?**](#q2)\n",
    "#####  [**❓3️⃣ Which make and model are better conditioned for the car purchased 5 years ago?**](#q3)\n",
    "#####  [**❓4️⃣ What propotion of SUV sales have been taken up by each vehicle colors?**](#q4)\n",
    "#####  [**❓5️⃣ What is the co-relation between odometer reading and the percentage decrease from selling price to MMR of the car?**](#q5)\n",
    "#####  [**❓6️⃣ Find if there is a relation between the condition of the vehicle and the MMR of the cars sold in the year 2014**](#q6)\n",
    "#####  [**❓7️⃣ What is the interior color preference of the buyers for Mercedes, Lamborghini, Ford and Chevrolet made cars?**](#q1)\n"
   ]
  },
  {
   "cell_type": "markdown",
   "metadata": {},
   "source": [
    "<a id='q1'></a>  \n",
    "####     ❓ <span style=\"font-weight: bold;\">1️⃣ What is the sales comparison of car makers in New York(ny) and Texas(tx) for the last 3 years from the data?</span>"
   ]
  },
  {
   "cell_type": "markdown",
   "metadata": {},
   "source": [
    "#####  <span style=\"font-weight: bold;\">&nbsp;&nbsp;&nbsp;&nbsp;&nbsp;&nbsp;💎&nbsp;&nbsp;Significance</span>"
   ]
  },
  {
   "cell_type": "markdown",
   "metadata": {},
   "source": [
    "1. This will give them insigts of which car makers are in demand in New York and Texas. \n",
    "2. Further help them to plan out their purchase of second hand cars which are in demand.\n",
    "3. Help them deliver the their customers needs better."
   ]
  },
  {
   "cell_type": "markdown",
   "metadata": {},
   "source": [
    "#####  <span style=\"font-weight: bold;\">&nbsp;&nbsp;&nbsp;&nbsp;&nbsp;&nbsp;📟&nbsp;&nbsp;Code</span>"
   ]
  },
  {
   "cell_type": "markdown",
   "metadata": {},
   "source": [
    "- I will first create a dataset for my q1 i.e. `dataset_q1`.\n",
    "- Here I will filter the data for states NY and TX and where column year is past 3 year of it's max.\n",
    "- I will create another dataset `data` using `dataset_q1`, where I will group the data on `state` and `make` column and also get their count in `Sales in Units` column."
   ]
  },
  {
   "cell_type": "code",
   "execution_count": 67,
   "metadata": {},
   "outputs": [
    {
     "data": {
      "text/html": [
       "<div>\n",
       "<style scoped>\n",
       "    .dataframe tbody tr th:only-of-type {\n",
       "        vertical-align: middle;\n",
       "    }\n",
       "\n",
       "    .dataframe tbody tr th {\n",
       "        vertical-align: top;\n",
       "    }\n",
       "\n",
       "    .dataframe thead th {\n",
       "        text-align: right;\n",
       "    }\n",
       "</style>\n",
       "<table border=\"1\" class=\"dataframe\">\n",
       "  <thead>\n",
       "    <tr style=\"text-align: right;\">\n",
       "      <th></th>\n",
       "      <th>state</th>\n",
       "      <th>make</th>\n",
       "      <th>Sales in Units</th>\n",
       "    </tr>\n",
       "  </thead>\n",
       "  <tbody>\n",
       "    <tr>\n",
       "      <th>0</th>\n",
       "      <td>ny</td>\n",
       "      <td>acura</td>\n",
       "      <td>2</td>\n",
       "    </tr>\n",
       "    <tr>\n",
       "      <th>1</th>\n",
       "      <td>tx</td>\n",
       "      <td>acura</td>\n",
       "      <td>37</td>\n",
       "    </tr>\n",
       "    <tr>\n",
       "      <th>2</th>\n",
       "      <td>ny</td>\n",
       "      <td>audi</td>\n",
       "      <td>7</td>\n",
       "    </tr>\n",
       "    <tr>\n",
       "      <th>3</th>\n",
       "      <td>tx</td>\n",
       "      <td>audi</td>\n",
       "      <td>124</td>\n",
       "    </tr>\n",
       "    <tr>\n",
       "      <th>4</th>\n",
       "      <td>tx</td>\n",
       "      <td>bentley</td>\n",
       "      <td>1</td>\n",
       "    </tr>\n",
       "    <tr>\n",
       "      <th>...</th>\n",
       "      <td>...</td>\n",
       "      <td>...</td>\n",
       "      <td>...</td>\n",
       "    </tr>\n",
       "    <tr>\n",
       "      <th>62</th>\n",
       "      <td>tx</td>\n",
       "      <td>toyota</td>\n",
       "      <td>900</td>\n",
       "    </tr>\n",
       "    <tr>\n",
       "      <th>63</th>\n",
       "      <td>tx</td>\n",
       "      <td>volkswagen</td>\n",
       "      <td>583</td>\n",
       "    </tr>\n",
       "    <tr>\n",
       "      <th>64</th>\n",
       "      <td>ny</td>\n",
       "      <td>volkswagen</td>\n",
       "      <td>27</td>\n",
       "    </tr>\n",
       "    <tr>\n",
       "      <th>65</th>\n",
       "      <td>ny</td>\n",
       "      <td>volvo</td>\n",
       "      <td>4</td>\n",
       "    </tr>\n",
       "    <tr>\n",
       "      <th>66</th>\n",
       "      <td>tx</td>\n",
       "      <td>volvo</td>\n",
       "      <td>58</td>\n",
       "    </tr>\n",
       "  </tbody>\n",
       "</table>\n",
       "<p>67 rows × 3 columns</p>\n",
       "</div>"
      ],
      "text/plain": [
       "   state        make  Sales in Units\n",
       "0     ny       acura               2\n",
       "1     tx       acura              37\n",
       "2     ny        audi               7\n",
       "3     tx        audi             124\n",
       "4     tx     bentley               1\n",
       "..   ...         ...             ...\n",
       "62    tx      toyota             900\n",
       "63    tx  volkswagen             583\n",
       "64    ny  volkswagen              27\n",
       "65    ny       volvo               4\n",
       "66    tx       volvo              58\n",
       "\n",
       "[67 rows x 3 columns]"
      ]
     },
     "execution_count": 67,
     "metadata": {},
     "output_type": "execute_result"
    }
   ],
   "source": [
    "dataset_q1 = dataset.loc[(dataset['state'].isin(['ny', 'tx'])) & (dataset['year'] >= (dataset['year'].max()-3))]\n",
    "jsndt = dataset_q1.groupby ( ['state' , 'make']).size().reset_index( name ='Sales in Units' )\n",
    "jsndt = jsndt.sort_values(by='make').reset_index(drop=True)\n",
    "jsndt"
   ]
  },
  {
   "cell_type": "markdown",
   "metadata": {},
   "source": [
    "- Here I will be using plotly to create a bar graph for us\n",
    "- `jsnbar` here is our Plotly figure object.\n",
    "- `epx.bar()` is the function we will be using to plot the graph.\n",
    "- `jsndt` is the data we will be using for the figure.\n",
    "- `x` - we need to specify the column we want to plot on x-axis, in this case it's `make`.\n",
    "- `y` - we need to specify the column we want to plot on y-axis, in this case it's `Sales in Units`.\n",
    "- `color` - is based on which the color coding will be done.\n",
    "- `h` - is how we want to plot the bars. In this case h stands for horizontal\n",
    "- `title` is the title of the figure.\n",
    "- `labe's` - are the labels we want for each figure, in my case I have made it all caps for make and State.\n",
    "- `legend_title_text` - is the title we want to set the title of the legend as.\n",
    "- `width` and `height`is the pixel size of the figure."
   ]
  },
  {
   "cell_type": "code",
   "execution_count": 68,
   "metadata": {},
   "outputs": [
    {
     "data": {
      "application/vnd.plotly.v1+json": {
       "config": {
        "plotlyServerURL": "https://plot.ly"
       },
       "data": [
        {
         "alignmentgroup": "True",
         "hovertemplate": "STATE=ny<br>Sales in Units=%{x}<br>MAKE=%{y}<extra></extra>",
         "legendgroup": "ny",
         "marker": {
          "color": "#636efa",
          "pattern": {
           "shape": ""
          }
         },
         "name": "ny",
         "offsetgroup": "ny",
         "orientation": "h",
         "showlegend": true,
         "textposition": "auto",
         "type": "bar",
         "x": [
          2,
          7,
          9,
          2,
          1,
          112,
          71,
          76,
          4,
          1532,
          17,
          65,
          47,
          2,
          39,
          32,
          1,
          139,
          18,
          8,
          2,
          6,
          79,
          17,
          1,
          21,
          2,
          61,
          27,
          4
         ],
         "xaxis": "x",
         "y": [
          "acura",
          "audi",
          "bmw",
          "buick",
          "cadillac",
          "chevrolet",
          "chrysler",
          "dodge",
          "fiat",
          "ford",
          "gmc",
          "honda",
          "hyundai",
          "infiniti",
          "jeep",
          "kia",
          "landrover",
          "lincoln",
          "mazda",
          "mercedes",
          "mini",
          "mitsubishi",
          "nissan",
          "ram",
          "scion",
          "subaru",
          "suzuki",
          "toyota",
          "volkswagen",
          "volvo"
         ],
         "yaxis": "y"
        },
        {
         "alignmentgroup": "True",
         "hovertemplate": "STATE=tx<br>Sales in Units=%{x}<br>MAKE=%{y}<extra></extra>",
         "legendgroup": "tx",
         "marker": {
          "color": "#EF553B",
          "pattern": {
           "shape": ""
          }
         },
         "name": "tx",
         "offsetgroup": "tx",
         "orientation": "h",
         "showlegend": true,
         "textposition": "auto",
         "type": "bar",
         "x": [
          37,
          124,
          1,
          58,
          92,
          169,
          2588,
          700,
          1733,
          76,
          5131,
          366,
          379,
          1072,
          642,
          17,
          443,
          1341,
          38,
          92,
          208,
          3,
          355,
          516,
          46,
          291,
          2739,
          20,
          736,
          28,
          39,
          83,
          7,
          3,
          900,
          583,
          58
         ],
         "xaxis": "x",
         "y": [
          "acura",
          "audi",
          "bentley",
          "bmw",
          "buick",
          "cadillac",
          "chevrolet",
          "chrysler",
          "dodge",
          "fiat",
          "ford",
          "gmc",
          "honda",
          "hyundai",
          "infiniti",
          "jaguar",
          "jeep",
          "kia",
          "landrover",
          "lexus",
          "lincoln",
          "maserati",
          "mazda",
          "mercedes",
          "mini",
          "mitsubishi",
          "nissan",
          "porsche",
          "ram",
          "scion",
          "smart",
          "subaru",
          "suzuki",
          "tesla",
          "toyota",
          "volkswagen",
          "volvo"
         ],
         "yaxis": "y"
        }
       ],
       "layout": {
        "barmode": "group",
        "height": 800,
        "legend": {
         "title": {
          "text": "State"
         },
         "tracegroupgap": 0
        },
        "template": {
         "data": {
          "bar": [
           {
            "error_x": {
             "color": "#2a3f5f"
            },
            "error_y": {
             "color": "#2a3f5f"
            },
            "marker": {
             "line": {
              "color": "#E5ECF6",
              "width": 0.5
             },
             "pattern": {
              "fillmode": "overlay",
              "size": 10,
              "solidity": 0.2
             }
            },
            "type": "bar"
           }
          ],
          "barpolar": [
           {
            "marker": {
             "line": {
              "color": "#E5ECF6",
              "width": 0.5
             },
             "pattern": {
              "fillmode": "overlay",
              "size": 10,
              "solidity": 0.2
             }
            },
            "type": "barpolar"
           }
          ],
          "carpet": [
           {
            "aaxis": {
             "endlinecolor": "#2a3f5f",
             "gridcolor": "white",
             "linecolor": "white",
             "minorgridcolor": "white",
             "startlinecolor": "#2a3f5f"
            },
            "baxis": {
             "endlinecolor": "#2a3f5f",
             "gridcolor": "white",
             "linecolor": "white",
             "minorgridcolor": "white",
             "startlinecolor": "#2a3f5f"
            },
            "type": "carpet"
           }
          ],
          "choropleth": [
           {
            "colorbar": {
             "outlinewidth": 0,
             "ticks": ""
            },
            "type": "choropleth"
           }
          ],
          "contour": [
           {
            "colorbar": {
             "outlinewidth": 0,
             "ticks": ""
            },
            "colorscale": [
             [
              0,
              "#0d0887"
             ],
             [
              0.1111111111111111,
              "#46039f"
             ],
             [
              0.2222222222222222,
              "#7201a8"
             ],
             [
              0.3333333333333333,
              "#9c179e"
             ],
             [
              0.4444444444444444,
              "#bd3786"
             ],
             [
              0.5555555555555556,
              "#d8576b"
             ],
             [
              0.6666666666666666,
              "#ed7953"
             ],
             [
              0.7777777777777778,
              "#fb9f3a"
             ],
             [
              0.8888888888888888,
              "#fdca26"
             ],
             [
              1,
              "#f0f921"
             ]
            ],
            "type": "contour"
           }
          ],
          "contourcarpet": [
           {
            "colorbar": {
             "outlinewidth": 0,
             "ticks": ""
            },
            "type": "contourcarpet"
           }
          ],
          "heatmap": [
           {
            "colorbar": {
             "outlinewidth": 0,
             "ticks": ""
            },
            "colorscale": [
             [
              0,
              "#0d0887"
             ],
             [
              0.1111111111111111,
              "#46039f"
             ],
             [
              0.2222222222222222,
              "#7201a8"
             ],
             [
              0.3333333333333333,
              "#9c179e"
             ],
             [
              0.4444444444444444,
              "#bd3786"
             ],
             [
              0.5555555555555556,
              "#d8576b"
             ],
             [
              0.6666666666666666,
              "#ed7953"
             ],
             [
              0.7777777777777778,
              "#fb9f3a"
             ],
             [
              0.8888888888888888,
              "#fdca26"
             ],
             [
              1,
              "#f0f921"
             ]
            ],
            "type": "heatmap"
           }
          ],
          "heatmapgl": [
           {
            "colorbar": {
             "outlinewidth": 0,
             "ticks": ""
            },
            "colorscale": [
             [
              0,
              "#0d0887"
             ],
             [
              0.1111111111111111,
              "#46039f"
             ],
             [
              0.2222222222222222,
              "#7201a8"
             ],
             [
              0.3333333333333333,
              "#9c179e"
             ],
             [
              0.4444444444444444,
              "#bd3786"
             ],
             [
              0.5555555555555556,
              "#d8576b"
             ],
             [
              0.6666666666666666,
              "#ed7953"
             ],
             [
              0.7777777777777778,
              "#fb9f3a"
             ],
             [
              0.8888888888888888,
              "#fdca26"
             ],
             [
              1,
              "#f0f921"
             ]
            ],
            "type": "heatmapgl"
           }
          ],
          "histogram": [
           {
            "marker": {
             "pattern": {
              "fillmode": "overlay",
              "size": 10,
              "solidity": 0.2
             }
            },
            "type": "histogram"
           }
          ],
          "histogram2d": [
           {
            "colorbar": {
             "outlinewidth": 0,
             "ticks": ""
            },
            "colorscale": [
             [
              0,
              "#0d0887"
             ],
             [
              0.1111111111111111,
              "#46039f"
             ],
             [
              0.2222222222222222,
              "#7201a8"
             ],
             [
              0.3333333333333333,
              "#9c179e"
             ],
             [
              0.4444444444444444,
              "#bd3786"
             ],
             [
              0.5555555555555556,
              "#d8576b"
             ],
             [
              0.6666666666666666,
              "#ed7953"
             ],
             [
              0.7777777777777778,
              "#fb9f3a"
             ],
             [
              0.8888888888888888,
              "#fdca26"
             ],
             [
              1,
              "#f0f921"
             ]
            ],
            "type": "histogram2d"
           }
          ],
          "histogram2dcontour": [
           {
            "colorbar": {
             "outlinewidth": 0,
             "ticks": ""
            },
            "colorscale": [
             [
              0,
              "#0d0887"
             ],
             [
              0.1111111111111111,
              "#46039f"
             ],
             [
              0.2222222222222222,
              "#7201a8"
             ],
             [
              0.3333333333333333,
              "#9c179e"
             ],
             [
              0.4444444444444444,
              "#bd3786"
             ],
             [
              0.5555555555555556,
              "#d8576b"
             ],
             [
              0.6666666666666666,
              "#ed7953"
             ],
             [
              0.7777777777777778,
              "#fb9f3a"
             ],
             [
              0.8888888888888888,
              "#fdca26"
             ],
             [
              1,
              "#f0f921"
             ]
            ],
            "type": "histogram2dcontour"
           }
          ],
          "mesh3d": [
           {
            "colorbar": {
             "outlinewidth": 0,
             "ticks": ""
            },
            "type": "mesh3d"
           }
          ],
          "parcoords": [
           {
            "line": {
             "colorbar": {
              "outlinewidth": 0,
              "ticks": ""
             }
            },
            "type": "parcoords"
           }
          ],
          "pie": [
           {
            "automargin": true,
            "type": "pie"
           }
          ],
          "scatter": [
           {
            "fillpattern": {
             "fillmode": "overlay",
             "size": 10,
             "solidity": 0.2
            },
            "type": "scatter"
           }
          ],
          "scatter3d": [
           {
            "line": {
             "colorbar": {
              "outlinewidth": 0,
              "ticks": ""
             }
            },
            "marker": {
             "colorbar": {
              "outlinewidth": 0,
              "ticks": ""
             }
            },
            "type": "scatter3d"
           }
          ],
          "scattercarpet": [
           {
            "marker": {
             "colorbar": {
              "outlinewidth": 0,
              "ticks": ""
             }
            },
            "type": "scattercarpet"
           }
          ],
          "scattergeo": [
           {
            "marker": {
             "colorbar": {
              "outlinewidth": 0,
              "ticks": ""
             }
            },
            "type": "scattergeo"
           }
          ],
          "scattergl": [
           {
            "marker": {
             "colorbar": {
              "outlinewidth": 0,
              "ticks": ""
             }
            },
            "type": "scattergl"
           }
          ],
          "scattermapbox": [
           {
            "marker": {
             "colorbar": {
              "outlinewidth": 0,
              "ticks": ""
             }
            },
            "type": "scattermapbox"
           }
          ],
          "scatterpolar": [
           {
            "marker": {
             "colorbar": {
              "outlinewidth": 0,
              "ticks": ""
             }
            },
            "type": "scatterpolar"
           }
          ],
          "scatterpolargl": [
           {
            "marker": {
             "colorbar": {
              "outlinewidth": 0,
              "ticks": ""
             }
            },
            "type": "scatterpolargl"
           }
          ],
          "scatterternary": [
           {
            "marker": {
             "colorbar": {
              "outlinewidth": 0,
              "ticks": ""
             }
            },
            "type": "scatterternary"
           }
          ],
          "surface": [
           {
            "colorbar": {
             "outlinewidth": 0,
             "ticks": ""
            },
            "colorscale": [
             [
              0,
              "#0d0887"
             ],
             [
              0.1111111111111111,
              "#46039f"
             ],
             [
              0.2222222222222222,
              "#7201a8"
             ],
             [
              0.3333333333333333,
              "#9c179e"
             ],
             [
              0.4444444444444444,
              "#bd3786"
             ],
             [
              0.5555555555555556,
              "#d8576b"
             ],
             [
              0.6666666666666666,
              "#ed7953"
             ],
             [
              0.7777777777777778,
              "#fb9f3a"
             ],
             [
              0.8888888888888888,
              "#fdca26"
             ],
             [
              1,
              "#f0f921"
             ]
            ],
            "type": "surface"
           }
          ],
          "table": [
           {
            "cells": {
             "fill": {
              "color": "#EBF0F8"
             },
             "line": {
              "color": "white"
             }
            },
            "header": {
             "fill": {
              "color": "#C8D4E3"
             },
             "line": {
              "color": "white"
             }
            },
            "type": "table"
           }
          ]
         },
         "layout": {
          "annotationdefaults": {
           "arrowcolor": "#2a3f5f",
           "arrowhead": 0,
           "arrowwidth": 1
          },
          "autotypenumbers": "strict",
          "coloraxis": {
           "colorbar": {
            "outlinewidth": 0,
            "ticks": ""
           }
          },
          "colorscale": {
           "diverging": [
            [
             0,
             "#8e0152"
            ],
            [
             0.1,
             "#c51b7d"
            ],
            [
             0.2,
             "#de77ae"
            ],
            [
             0.3,
             "#f1b6da"
            ],
            [
             0.4,
             "#fde0ef"
            ],
            [
             0.5,
             "#f7f7f7"
            ],
            [
             0.6,
             "#e6f5d0"
            ],
            [
             0.7,
             "#b8e186"
            ],
            [
             0.8,
             "#7fbc41"
            ],
            [
             0.9,
             "#4d9221"
            ],
            [
             1,
             "#276419"
            ]
           ],
           "sequential": [
            [
             0,
             "#0d0887"
            ],
            [
             0.1111111111111111,
             "#46039f"
            ],
            [
             0.2222222222222222,
             "#7201a8"
            ],
            [
             0.3333333333333333,
             "#9c179e"
            ],
            [
             0.4444444444444444,
             "#bd3786"
            ],
            [
             0.5555555555555556,
             "#d8576b"
            ],
            [
             0.6666666666666666,
             "#ed7953"
            ],
            [
             0.7777777777777778,
             "#fb9f3a"
            ],
            [
             0.8888888888888888,
             "#fdca26"
            ],
            [
             1,
             "#f0f921"
            ]
           ],
           "sequentialminus": [
            [
             0,
             "#0d0887"
            ],
            [
             0.1111111111111111,
             "#46039f"
            ],
            [
             0.2222222222222222,
             "#7201a8"
            ],
            [
             0.3333333333333333,
             "#9c179e"
            ],
            [
             0.4444444444444444,
             "#bd3786"
            ],
            [
             0.5555555555555556,
             "#d8576b"
            ],
            [
             0.6666666666666666,
             "#ed7953"
            ],
            [
             0.7777777777777778,
             "#fb9f3a"
            ],
            [
             0.8888888888888888,
             "#fdca26"
            ],
            [
             1,
             "#f0f921"
            ]
           ]
          },
          "colorway": [
           "#636efa",
           "#EF553B",
           "#00cc96",
           "#ab63fa",
           "#FFA15A",
           "#19d3f3",
           "#FF6692",
           "#B6E880",
           "#FF97FF",
           "#FECB52"
          ],
          "font": {
           "color": "#2a3f5f"
          },
          "geo": {
           "bgcolor": "white",
           "lakecolor": "white",
           "landcolor": "#E5ECF6",
           "showlakes": true,
           "showland": true,
           "subunitcolor": "white"
          },
          "hoverlabel": {
           "align": "left"
          },
          "hovermode": "closest",
          "mapbox": {
           "style": "light"
          },
          "paper_bgcolor": "white",
          "plot_bgcolor": "#E5ECF6",
          "polar": {
           "angularaxis": {
            "gridcolor": "white",
            "linecolor": "white",
            "ticks": ""
           },
           "bgcolor": "#E5ECF6",
           "radialaxis": {
            "gridcolor": "white",
            "linecolor": "white",
            "ticks": ""
           }
          },
          "scene": {
           "xaxis": {
            "backgroundcolor": "#E5ECF6",
            "gridcolor": "white",
            "gridwidth": 2,
            "linecolor": "white",
            "showbackground": true,
            "ticks": "",
            "zerolinecolor": "white"
           },
           "yaxis": {
            "backgroundcolor": "#E5ECF6",
            "gridcolor": "white",
            "gridwidth": 2,
            "linecolor": "white",
            "showbackground": true,
            "ticks": "",
            "zerolinecolor": "white"
           },
           "zaxis": {
            "backgroundcolor": "#E5ECF6",
            "gridcolor": "white",
            "gridwidth": 2,
            "linecolor": "white",
            "showbackground": true,
            "ticks": "",
            "zerolinecolor": "white"
           }
          },
          "shapedefaults": {
           "line": {
            "color": "#2a3f5f"
           }
          },
          "ternary": {
           "aaxis": {
            "gridcolor": "white",
            "linecolor": "white",
            "ticks": ""
           },
           "baxis": {
            "gridcolor": "white",
            "linecolor": "white",
            "ticks": ""
           },
           "bgcolor": "#E5ECF6",
           "caxis": {
            "gridcolor": "white",
            "linecolor": "white",
            "ticks": ""
           }
          },
          "title": {
           "x": 0.05
          },
          "xaxis": {
           "automargin": true,
           "gridcolor": "white",
           "linecolor": "white",
           "ticks": "",
           "title": {
            "standoff": 15
           },
           "zerolinecolor": "white",
           "zerolinewidth": 2
          },
          "yaxis": {
           "automargin": true,
           "gridcolor": "white",
           "linecolor": "white",
           "ticks": "",
           "title": {
            "standoff": 15
           },
           "zerolinecolor": "white",
           "zerolinewidth": 2
          }
         }
        },
        "title": {
         "text": "Sales in Units by Make and State"
        },
        "width": 1000,
        "xaxis": {
         "anchor": "y",
         "autorange": true,
         "domain": [
          0,
          1
         ],
         "range": [
          0,
          5401.0526315789475
         ],
         "title": {
          "text": "Sales in Units"
         },
         "type": "linear"
        },
        "yaxis": {
         "anchor": "x",
         "autorange": true,
         "domain": [
          0,
          1
         ],
         "range": [
          -0.5,
          36.5
         ],
         "title": {
          "text": "MAKE"
         },
         "type": "category"
        }
       }
      },
      "image/png": "[encoded data removed]"
     },
     "metadata": {},
     "output_type": "display_data"
    }
   ],
   "source": [
    "jsnbar =epx.bar(jsndt, orientation='h', barmode='group', title='Sales in Units by Make and State',labels={'Sales in Units': 'Sales in Units', 'make': 'MAKE', 'state': 'STATE'},\n",
    "                color='state',y='make', x='Sales in Units')\n",
    "jsnbar.update_layout(legend_title_text='State', width=1000, height=800)\n",
    "jsnbar.show()"
   ]
  },
  {
   "cell_type": "markdown",
   "metadata": {},
   "source": [
    "#####  <span style=\"font-weight: bold;\">&nbsp;&nbsp;&nbsp;&nbsp;&nbsp;&nbsp;💬&nbsp;&nbsp;Findings</span>"
   ]
  },
  {
   "cell_type": "markdown",
   "metadata": {},
   "source": [
    "- For the last 3 years of this dataset we can see that\n",
    "- Car sales are significantly higher in Texas in comparison to New York. We can see that sales in Texas are triple the units sold in New York for all the car makers.\n",
    "- In `both states` the sales of car maker `Ford` are the `best` of all.\n",
    "- In `New York` `second` best sales is for the car maker `Lincoln`\n",
    "- In `Texas`, `Nissan` has taken the second spot for sales in the last 3 years of data.\n",
    "- In `Texas` Chevrolet is not too behind.\n",
    "- With this data now my company knows which cars have the best sales in order for each state. With this data, my company can plan and purchase second-hand cars which had good demand so that customers get options for what was in demand. It will help them in managing and planning their inventory."
   ]
  },
  {
   "cell_type": "code",
   "execution_count": null,
   "metadata": {},
   "outputs": [],
   "source": []
  },
  {
   "cell_type": "markdown",
   "metadata": {},
   "source": [
    "<a id='q2'></a>  \n",
    "####     ❓ <span style=\"font-weight: bold;\">2️⃣ What was the vehicle sales pattern by month for the last 5 years of the data?</span>"
   ]
  },
  {
   "cell_type": "markdown",
   "metadata": {},
   "source": [
    "#####  <span style=\"font-weight: bold;\">&nbsp;&nbsp;&nbsp;&nbsp;&nbsp;&nbsp;💎&nbsp;&nbsp;Significance</span>"
   ]
  },
  {
   "cell_type": "markdown",
   "metadata": {},
   "source": [
    "1. This will give them insigts of which which months of the year the vehicle purchase is more\n",
    "2. This will help them to plan out the car purchange during these months so that they can provide more options to the buyers."
   ]
  },
  {
   "cell_type": "markdown",
   "metadata": {},
   "source": [
    "#####  <span style=\"font-weight: bold;\">&nbsp;&nbsp;&nbsp;&nbsp;&nbsp;&nbsp;📟&nbsp;&nbsp;Code</span>"
   ]
  },
  {
   "cell_type": "markdown",
   "metadata": {},
   "source": [
    "- I will first create a  for my question 2 i.e. `dataset_q2`. I will filter the data for column year is past 5 year of it's max.\n",
    "- Created a new column `sale_month_no` so that I can sort it based on month no.\n",
    "- Then I am grouping the data based on sale_month, and also getting a count for each month. \n",
    "- Sort the values based on `sale_month_no`.\n",
    "- I will create another  `data` jsndt2 `dataset_q1`, where I will group the data on `state` and `make` column and also get their count in `Sales in Units` column."
   ]
  },
  {
   "cell_type": "code",
   "execution_count": 69,
   "metadata": {},
   "outputs": [
    {
     "data": {
      "text/html": [
       "<div>\n",
       "<style scoped>\n",
       "    .dataframe tbody tr th:only-of-type {\n",
       "        vertical-align: middle;\n",
       "    }\n",
       "\n",
       "    .dataframe tbody tr th {\n",
       "        vertical-align: top;\n",
       "    }\n",
       "\n",
       "    .dataframe thead th {\n",
       "        text-align: right;\n",
       "    }\n",
       "</style>\n",
       "<table border=\"1\" class=\"dataframe\">\n",
       "  <thead>\n",
       "    <tr style=\"text-align: right;\">\n",
       "      <th></th>\n",
       "      <th>sale_month</th>\n",
       "      <th>sale_month_no</th>\n",
       "      <th>Sales in Units</th>\n",
       "    </tr>\n",
       "  </thead>\n",
       "  <tbody>\n",
       "    <tr>\n",
       "      <th>0</th>\n",
       "      <td>January</td>\n",
       "      <td>1</td>\n",
       "      <td>78504</td>\n",
       "    </tr>\n",
       "    <tr>\n",
       "      <th>1</th>\n",
       "      <td>February</td>\n",
       "      <td>2</td>\n",
       "      <td>94009</td>\n",
       "    </tr>\n",
       "    <tr>\n",
       "      <th>2</th>\n",
       "      <td>March</td>\n",
       "      <td>3</td>\n",
       "      <td>26597</td>\n",
       "    </tr>\n",
       "    <tr>\n",
       "      <th>3</th>\n",
       "      <td>April</td>\n",
       "      <td>4</td>\n",
       "      <td>627</td>\n",
       "    </tr>\n",
       "    <tr>\n",
       "      <th>4</th>\n",
       "      <td>May</td>\n",
       "      <td>5</td>\n",
       "      <td>30679</td>\n",
       "    </tr>\n",
       "    <tr>\n",
       "      <th>5</th>\n",
       "      <td>June</td>\n",
       "      <td>6</td>\n",
       "      <td>62991</td>\n",
       "    </tr>\n",
       "    <tr>\n",
       "      <th>6</th>\n",
       "      <td>July</td>\n",
       "      <td>7</td>\n",
       "      <td>834</td>\n",
       "    </tr>\n",
       "    <tr>\n",
       "      <th>7</th>\n",
       "      <td>December</td>\n",
       "      <td>12</td>\n",
       "      <td>22312</td>\n",
       "    </tr>\n",
       "  </tbody>\n",
       "</table>\n",
       "</div>"
      ],
      "text/plain": [
       "  sale_month  sale_month_no  Sales in Units\n",
       "0    January              1           78504\n",
       "1   February              2           94009\n",
       "2      March              3           26597\n",
       "3      April              4             627\n",
       "4        May              5           30679\n",
       "5       June              6           62991\n",
       "6       July              7             834\n",
       "7   December             12           22312"
      ]
     },
     "execution_count": 69,
     "metadata": {},
     "output_type": "execute_result"
    }
   ],
   "source": [
    "dataset_q2 = dataset.loc[(dataset['year'] >= (dataset['year'].max()-5))].copy()\n",
    "dataset_q2['sale_month_no'] = dataset_q2['saledate'].dt.month\n",
    "jsndt2 = dataset_q2.groupby ( ['sale_month','sale_month_no']).size().reset_index( name ='Sales in Units' )\n",
    "jsndt2 = jsndt2.sort_values(by='sale_month_no').reset_index(drop=True)\n",
    "jsndt2"
   ]
  },
  {
   "cell_type": "markdown",
   "metadata": {},
   "source": [
    "- Here I will be using plotly to create a bar graph for us\n",
    "- `fig` here is our Plotly figure object.\n",
    "- `epx.bar()` is the function we will be using to plot the graph.\n",
    "- `data` is the  we will be using for the figure.\n",
    "- `x` - we need to specify the column we want to plot on x-axis, in this case it's `make`.\n",
    "- `y` - we need to specify the column we want to plot on y-axis, in this case it's `Sales in Units`.\n",
    "- `color` - is based on which the color coding will be done.\n",
    "- `h` - is how we want to plot the bars. In this case h stands for horizontal\n",
    "- `title` is the title of the figure.\n",
    "- `labe's` - are the labels we want for each figure, in my case I have made it all caps for make and State.\n",
    "- `legend_title_text` - is the title we want to set the title of the legend as.\n",
    "- `width` and `height`is the pixel size of the figure. In this case 1300*1200px."
   ]
  },
  {
   "cell_type": "code",
   "execution_count": 70,
   "metadata": {},
   "outputs": [
    {
     "data": {
      "application/vnd.plotly.v1+json": {
       "config": {
        "plotlyServerURL": "https://plot.ly"
       },
       "data": [
        {
         "hovertemplate": "sale_month=%{x}<br>Sales in Units=%{y}<extra></extra>",
         "legendgroup": "",
         "line": {
          "color": "#636efa",
          "dash": "solid",
          "width": 4
         },
         "marker": {
          "symbol": "circle"
         },
         "mode": "lines+markers",
         "name": "",
         "orientation": "v",
         "showlegend": false,
         "type": "scatter",
         "x": [
          "January",
          "February",
          "March",
          "April",
          "May",
          "June",
          "July",
          "December"
         ],
         "xaxis": "x",
         "y": [
          78504,
          94009,
          26597,
          627,
          30679,
          62991,
          834,
          22312
         ],
         "yaxis": "y"
        }
       ],
       "layout": {
        "autosize": true,
        "legend": {
         "tracegroupgap": 0
        },
        "margin": {
         "t": 60
        },
        "template": {
         "data": {
          "bar": [
           {
            "error_x": {
             "color": "#2a3f5f"
            },
            "error_y": {
             "color": "#2a3f5f"
            },
            "marker": {
             "line": {
              "color": "#E5ECF6",
              "width": 0.5
             },
             "pattern": {
              "fillmode": "overlay",
              "size": 10,
              "solidity": 0.2
             }
            },
            "type": "bar"
           }
          ],
          "barpolar": [
           {
            "marker": {
             "line": {
              "color": "#E5ECF6",
              "width": 0.5
             },
             "pattern": {
              "fillmode": "overlay",
              "size": 10,
              "solidity": 0.2
             }
            },
            "type": "barpolar"
           }
          ],
          "carpet": [
           {
            "aaxis": {
             "endlinecolor": "#2a3f5f",
             "gridcolor": "white",
             "linecolor": "white",
             "minorgridcolor": "white",
             "startlinecolor": "#2a3f5f"
            },
            "baxis": {
             "endlinecolor": "#2a3f5f",
             "gridcolor": "white",
             "linecolor": "white",
             "minorgridcolor": "white",
             "startlinecolor": "#2a3f5f"
            },
            "type": "carpet"
           }
          ],
          "choropleth": [
           {
            "colorbar": {
             "outlinewidth": 0,
             "ticks": ""
            },
            "type": "choropleth"
           }
          ],
          "contour": [
           {
            "colorbar": {
             "outlinewidth": 0,
             "ticks": ""
            },
            "colorscale": [
             [
              0,
              "#0d0887"
             ],
             [
              0.1111111111111111,
              "#46039f"
             ],
             [
              0.2222222222222222,
              "#7201a8"
             ],
             [
              0.3333333333333333,
              "#9c179e"
             ],
             [
              0.4444444444444444,
              "#bd3786"
             ],
             [
              0.5555555555555556,
              "#d8576b"
             ],
             [
              0.6666666666666666,
              "#ed7953"
             ],
             [
              0.7777777777777778,
              "#fb9f3a"
             ],
             [
              0.8888888888888888,
              "#fdca26"
             ],
             [
              1,
              "#f0f921"
             ]
            ],
            "type": "contour"
           }
          ],
          "contourcarpet": [
           {
            "colorbar": {
             "outlinewidth": 0,
             "ticks": ""
            },
            "type": "contourcarpet"
           }
          ],
          "heatmap": [
           {
            "colorbar": {
             "outlinewidth": 0,
             "ticks": ""
            },
            "colorscale": [
             [
              0,
              "#0d0887"
             ],
             [
              0.1111111111111111,
              "#46039f"
             ],
             [
              0.2222222222222222,
              "#7201a8"
             ],
             [
              0.3333333333333333,
              "#9c179e"
             ],
             [
              0.4444444444444444,
              "#bd3786"
             ],
             [
              0.5555555555555556,
              "#d8576b"
             ],
             [
              0.6666666666666666,
              "#ed7953"
             ],
             [
              0.7777777777777778,
              "#fb9f3a"
             ],
             [
              0.8888888888888888,
              "#fdca26"
             ],
             [
              1,
              "#f0f921"
             ]
            ],
            "type": "heatmap"
           }
          ],
          "heatmapgl": [
           {
            "colorbar": {
             "outlinewidth": 0,
             "ticks": ""
            },
            "colorscale": [
             [
              0,
              "#0d0887"
             ],
             [
              0.1111111111111111,
              "#46039f"
             ],
             [
              0.2222222222222222,
              "#7201a8"
             ],
             [
              0.3333333333333333,
              "#9c179e"
             ],
             [
              0.4444444444444444,
              "#bd3786"
             ],
             [
              0.5555555555555556,
              "#d8576b"
             ],
             [
              0.6666666666666666,
              "#ed7953"
             ],
             [
              0.7777777777777778,
              "#fb9f3a"
             ],
             [
              0.8888888888888888,
              "#fdca26"
             ],
             [
              1,
              "#f0f921"
             ]
            ],
            "type": "heatmapgl"
           }
          ],
          "histogram": [
           {
            "marker": {
             "pattern": {
              "fillmode": "overlay",
              "size": 10,
              "solidity": 0.2
             }
            },
            "type": "histogram"
           }
          ],
          "histogram2d": [
           {
            "colorbar": {
             "outlinewidth": 0,
             "ticks": ""
            },
            "colorscale": [
             [
              0,
              "#0d0887"
             ],
             [
              0.1111111111111111,
              "#46039f"
             ],
             [
              0.2222222222222222,
              "#7201a8"
             ],
             [
              0.3333333333333333,
              "#9c179e"
             ],
             [
              0.4444444444444444,
              "#bd3786"
             ],
             [
              0.5555555555555556,
              "#d8576b"
             ],
             [
              0.6666666666666666,
              "#ed7953"
             ],
             [
              0.7777777777777778,
              "#fb9f3a"
             ],
             [
              0.8888888888888888,
              "#fdca26"
             ],
             [
              1,
              "#f0f921"
             ]
            ],
            "type": "histogram2d"
           }
          ],
          "histogram2dcontour": [
           {
            "colorbar": {
             "outlinewidth": 0,
             "ticks": ""
            },
            "colorscale": [
             [
              0,
              "#0d0887"
             ],
             [
              0.1111111111111111,
              "#46039f"
             ],
             [
              0.2222222222222222,
              "#7201a8"
             ],
             [
              0.3333333333333333,
              "#9c179e"
             ],
             [
              0.4444444444444444,
              "#bd3786"
             ],
             [
              0.5555555555555556,
              "#d8576b"
             ],
             [
              0.6666666666666666,
              "#ed7953"
             ],
             [
              0.7777777777777778,
              "#fb9f3a"
             ],
             [
              0.8888888888888888,
              "#fdca26"
             ],
             [
              1,
              "#f0f921"
             ]
            ],
            "type": "histogram2dcontour"
           }
          ],
          "mesh3d": [
           {
            "colorbar": {
             "outlinewidth": 0,
             "ticks": ""
            },
            "type": "mesh3d"
           }
          ],
          "parcoords": [
           {
            "line": {
             "colorbar": {
              "outlinewidth": 0,
              "ticks": ""
             }
            },
            "type": "parcoords"
           }
          ],
          "pie": [
           {
            "automargin": true,
            "type": "pie"
           }
          ],
          "scatter": [
           {
            "fillpattern": {
             "fillmode": "overlay",
             "size": 10,
             "solidity": 0.2
            },
            "type": "scatter"
           }
          ],
          "scatter3d": [
           {
            "line": {
             "colorbar": {
              "outlinewidth": 0,
              "ticks": ""
             }
            },
            "marker": {
             "colorbar": {
              "outlinewidth": 0,
              "ticks": ""
             }
            },
            "type": "scatter3d"
           }
          ],
          "scattercarpet": [
           {
            "marker": {
             "colorbar": {
              "outlinewidth": 0,
              "ticks": ""
             }
            },
            "type": "scattercarpet"
           }
          ],
          "scattergeo": [
           {
            "marker": {
             "colorbar": {
              "outlinewidth": 0,
              "ticks": ""
             }
            },
            "type": "scattergeo"
           }
          ],
          "scattergl": [
           {
            "marker": {
             "colorbar": {
              "outlinewidth": 0,
              "ticks": ""
             }
            },
            "type": "scattergl"
           }
          ],
          "scattermapbox": [
           {
            "marker": {
             "colorbar": {
              "outlinewidth": 0,
              "ticks": ""
             }
            },
            "type": "scattermapbox"
           }
          ],
          "scatterpolar": [
           {
            "marker": {
             "colorbar": {
              "outlinewidth": 0,
              "ticks": ""
             }
            },
            "type": "scatterpolar"
           }
          ],
          "scatterpolargl": [
           {
            "marker": {
             "colorbar": {
              "outlinewidth": 0,
              "ticks": ""
             }
            },
            "type": "scatterpolargl"
           }
          ],
          "scatterternary": [
           {
            "marker": {
             "colorbar": {
              "outlinewidth": 0,
              "ticks": ""
             }
            },
            "type": "scatterternary"
           }
          ],
          "surface": [
           {
            "colorbar": {
             "outlinewidth": 0,
             "ticks": ""
            },
            "colorscale": [
             [
              0,
              "#0d0887"
             ],
             [
              0.1111111111111111,
              "#46039f"
             ],
             [
              0.2222222222222222,
              "#7201a8"
             ],
             [
              0.3333333333333333,
              "#9c179e"
             ],
             [
              0.4444444444444444,
              "#bd3786"
             ],
             [
              0.5555555555555556,
              "#d8576b"
             ],
             [
              0.6666666666666666,
              "#ed7953"
             ],
             [
              0.7777777777777778,
              "#fb9f3a"
             ],
             [
              0.8888888888888888,
              "#fdca26"
             ],
             [
              1,
              "#f0f921"
             ]
            ],
            "type": "surface"
           }
          ],
          "table": [
           {
            "cells": {
             "fill": {
              "color": "#EBF0F8"
             },
             "line": {
              "color": "white"
             }
            },
            "header": {
             "fill": {
              "color": "#C8D4E3"
             },
             "line": {
              "color": "white"
             }
            },
            "type": "table"
           }
          ]
         },
         "layout": {
          "annotationdefaults": {
           "arrowcolor": "#2a3f5f",
           "arrowhead": 0,
           "arrowwidth": 1
          },
          "autotypenumbers": "strict",
          "coloraxis": {
           "colorbar": {
            "outlinewidth": 0,
            "ticks": ""
           }
          },
          "colorscale": {
           "diverging": [
            [
             0,
             "#8e0152"
            ],
            [
             0.1,
             "#c51b7d"
            ],
            [
             0.2,
             "#de77ae"
            ],
            [
             0.3,
             "#f1b6da"
            ],
            [
             0.4,
             "#fde0ef"
            ],
            [
             0.5,
             "#f7f7f7"
            ],
            [
             0.6,
             "#e6f5d0"
            ],
            [
             0.7,
             "#b8e186"
            ],
            [
             0.8,
             "#7fbc41"
            ],
            [
             0.9,
             "#4d9221"
            ],
            [
             1,
             "#276419"
            ]
           ],
           "sequential": [
            [
             0,
             "#0d0887"
            ],
            [
             0.1111111111111111,
             "#46039f"
            ],
            [
             0.2222222222222222,
             "#7201a8"
            ],
            [
             0.3333333333333333,
             "#9c179e"
            ],
            [
             0.4444444444444444,
             "#bd3786"
            ],
            [
             0.5555555555555556,
             "#d8576b"
            ],
            [
             0.6666666666666666,
             "#ed7953"
            ],
            [
             0.7777777777777778,
             "#fb9f3a"
            ],
            [
             0.8888888888888888,
             "#fdca26"
            ],
            [
             1,
             "#f0f921"
            ]
           ],
           "sequentialminus": [
            [
             0,
             "#0d0887"
            ],
            [
             0.1111111111111111,
             "#46039f"
            ],
            [
             0.2222222222222222,
             "#7201a8"
            ],
            [
             0.3333333333333333,
             "#9c179e"
            ],
            [
             0.4444444444444444,
             "#bd3786"
            ],
            [
             0.5555555555555556,
             "#d8576b"
            ],
            [
             0.6666666666666666,
             "#ed7953"
            ],
            [
             0.7777777777777778,
             "#fb9f3a"
            ],
            [
             0.8888888888888888,
             "#fdca26"
            ],
            [
             1,
             "#f0f921"
            ]
           ]
          },
          "colorway": [
           "#636efa",
           "#EF553B",
           "#00cc96",
           "#ab63fa",
           "#FFA15A",
           "#19d3f3",
           "#FF6692",
           "#B6E880",
           "#FF97FF",
           "#FECB52"
          ],
          "font": {
           "color": "#2a3f5f"
          },
          "geo": {
           "bgcolor": "white",
           "lakecolor": "white",
           "landcolor": "#E5ECF6",
           "showlakes": true,
           "showland": true,
           "subunitcolor": "white"
          },
          "hoverlabel": {
           "align": "left"
          },
          "hovermode": "closest",
          "mapbox": {
           "style": "light"
          },
          "paper_bgcolor": "white",
          "plot_bgcolor": "#E5ECF6",
          "polar": {
           "angularaxis": {
            "gridcolor": "white",
            "linecolor": "white",
            "ticks": ""
           },
           "bgcolor": "#E5ECF6",
           "radialaxis": {
            "gridcolor": "white",
            "linecolor": "white",
            "ticks": ""
           }
          },
          "scene": {
           "xaxis": {
            "backgroundcolor": "#E5ECF6",
            "gridcolor": "white",
            "gridwidth": 2,
            "linecolor": "white",
            "showbackground": true,
            "ticks": "",
            "zerolinecolor": "white"
           },
           "yaxis": {
            "backgroundcolor": "#E5ECF6",
            "gridcolor": "white",
            "gridwidth": 2,
            "linecolor": "white",
            "showbackground": true,
            "ticks": "",
            "zerolinecolor": "white"
           },
           "zaxis": {
            "backgroundcolor": "#E5ECF6",
            "gridcolor": "white",
            "gridwidth": 2,
            "linecolor": "white",
            "showbackground": true,
            "ticks": "",
            "zerolinecolor": "white"
           }
          },
          "shapedefaults": {
           "line": {
            "color": "#2a3f5f"
           }
          },
          "ternary": {
           "aaxis": {
            "gridcolor": "white",
            "linecolor": "white",
            "ticks": ""
           },
           "baxis": {
            "gridcolor": "white",
            "linecolor": "white",
            "ticks": ""
           },
           "bgcolor": "#E5ECF6",
           "caxis": {
            "gridcolor": "white",
            "linecolor": "white",
            "ticks": ""
           }
          },
          "title": {
           "x": 0.05
          },
          "xaxis": {
           "automargin": true,
           "gridcolor": "white",
           "linecolor": "white",
           "ticks": "",
           "title": {
            "standoff": 15
           },
           "zerolinecolor": "white",
           "zerolinewidth": 2
          },
          "yaxis": {
           "automargin": true,
           "gridcolor": "white",
           "linecolor": "white",
           "ticks": "",
           "title": {
            "standoff": 15
           },
           "zerolinecolor": "white",
           "zerolinewidth": 2
          }
         }
        },
        "xaxis": {
         "anchor": "y",
         "autorange": true,
         "domain": [
          0,
          1
         ],
         "range": [
          -0.4235615786970994,
          7.423561578697099
         ],
         "title": {
          "text": "sale_month"
         },
         "type": "category"
        },
        "yaxis": {
         "anchor": "x",
         "autorange": true,
         "domain": [
          0,
          1
         ],
         "range": [
          -6603.364829396326,
          101239.36482939632
         ],
         "title": {
          "text": "Sales in Units"
         },
         "type": "linear"
        }
       }
      },
      "image/png": "[encoded data removed]"
     },
     "metadata": {},
     "output_type": "display_data"
    }
   ],
   "source": [
    "jsnlin = epx.line(jsndt2, x = 'sale_month', y='Sales in Units', markers=True)\n",
    "jsnlin.update_traces(line={'width': 4})\n",
    "jsnlin.show()"
   ]
  },
  {
   "cell_type": "markdown",
   "metadata": {},
   "source": [
    "#####  <span style=\"font-weight: bold;\">&nbsp;&nbsp;&nbsp;&nbsp;&nbsp;&nbsp;💬&nbsp;&nbsp;Findings</span>"
   ]
  },
  {
   "cell_type": "markdown",
   "metadata": {},
   "source": [
    "- As we can in the diagram, the sales of the vehicles are high in the month of January, February and June.\n",
    "- It is just below 80k units in January.\n",
    "- The sales peak in February by 80k units.\n",
    "- There is a decline from march to April.\n",
    "- The sales rise steadily in May and June.\n",
    "- And then there is a decline again.\n",
    "\n",
    "- So, the company can hire more resources for sales so that they can make the maximum out of the customer buying behaviour. And they need to be mindful in April and July as the sales are 0 for these months."
   ]
  },
  {
   "cell_type": "markdown",
   "metadata": {},
   "source": []
  },
  {
   "cell_type": "markdown",
   "metadata": {},
   "source": [
    "<a id='q3'></a>  \n",
    "####     ❓ <span style=\"font-weight: bold;\">3️⃣ Which make and model are better conditioned for the car purchased 5 years ago?</span>"
   ]
  },
  {
   "cell_type": "markdown",
   "metadata": {},
   "source": [
    "#####  <span style=\"font-weight: bold;\">&nbsp;&nbsp;&nbsp;&nbsp;&nbsp;&nbsp;💎&nbsp;&nbsp;Significance</span>"
   ]
  },
  {
   "cell_type": "markdown",
   "metadata": {},
   "source": [
    "1. This will show us whether make and model have anything to do with the condition of the vehicles.\n",
    "2. We will see which car and model has good condition.\n",
    "3. This will help the company in setting the price of the cars. If a cars condition is better for most of the users means that the car is welll built and hence can be sold for for a higher price."
   ]
  },
  {
   "cell_type": "markdown",
   "metadata": {},
   "source": [
    "#####  <span style=\"font-weight: bold;\">&nbsp;&nbsp;&nbsp;&nbsp;&nbsp;&nbsp;📟&nbsp;&nbsp;Code</span>"
   ]
  },
  {
   "cell_type": "markdown",
   "metadata": {},
   "source": [
    "- To maintain a standard we will consider the data in which saledate is older than 5 years.\n",
    "- I will first create a  for my question 2 i.e. `dataset_q2`. I will filter the data for column year is past 5 year of it's max.\n",
    "- Created a new column `sale_month_no` so that I can sort it based on month no.\n",
    "- Then I am grouping the data based on sale_month, and also getting a count for each month. \n",
    "- Sort the values based on `sale_month_no`.\n",
    "- I will create another  `data` using `dataset_q1`, where I will group the data on `state` and `make` column and also get their count in `Sales in Units` column."
   ]
  },
  {
   "cell_type": "code",
   "execution_count": 71,
   "metadata": {},
   "outputs": [
    {
     "data": {
      "text/plain": [
       "<bound method NDFrame.head of           make  Avg Condition\n",
       "0      bentley           36.0\n",
       "1       hummer           34.0\n",
       "2      porsche           30.0\n",
       "3     mercedes           29.0\n",
       "4         mini           28.0\n",
       "5        lexus           28.0\n",
       "6      lincoln           28.0\n",
       "7       jaguar           28.0\n",
       "8       subaru           28.0\n",
       "9          bmw           27.0\n",
       "10        jeep           26.0\n",
       "11         gmc           26.0\n",
       "12    cadillac           26.0\n",
       "13        audi           26.0\n",
       "14       volvo           26.0\n",
       "15      toyota           25.0\n",
       "16  volkswagen           25.0\n",
       "17       acura           25.0\n",
       "18    infiniti           25.0\n",
       "19       buick           25.0\n",
       "20        saab           24.0\n",
       "21       mazda           24.0\n",
       "22       honda           24.0\n",
       "23     mercury           24.0\n",
       "24        ford           24.0\n",
       "25   chevrolet           24.0\n",
       "26       scion           24.0\n",
       "27    maserati           23.0\n",
       "28    chrysler           23.0\n",
       "29      saturn           23.0\n",
       "30         kia           22.0\n",
       "31      nissan           22.0\n",
       "32     pontiac           22.0\n",
       "33       isuzu           22.0\n",
       "34  mitsubishi           22.0\n",
       "35   landrover           22.0\n",
       "36       dodge           21.0\n",
       "37     hyundai           21.0\n",
       "38      suzuki           20.0>"
      ]
     },
     "execution_count": 71,
     "metadata": {},
     "output_type": "execute_result"
    }
   ],
   "source": [
    "dataset_q3 = dataset.loc[(dataset['year'] <= (dataset['year'].max()-5)) & (dataset['year'] == (dataset['year'].max()-10))].copy()\n",
    "jsndt3 = dataset_q3.groupby ( ['make'])['condition'].mean().reset_index( name ='Avg Condition' )\n",
    "jsndt3['Avg Condition'] = jsndt3['Avg Condition'].round()\n",
    "jsndt3 = jsndt3.sort_values(by='Avg Condition',  ascending=False).reset_index(drop=True)\n",
    "jsndt3.head"
   ]
  },
  {
   "cell_type": "markdown",
   "metadata": {},
   "source": [
    "- Here I will be using seaborn to create a bar graph for us\n",
    "- `ppt` is pyplot\n",
    "- I have set the dpi as 300\n",
    "- best for seaborn sbrn I am passing our data `jsndt3`"
   ]
  },
  {
   "cell_type": "code",
   "execution_count": 83,
   "metadata": {},
   "outputs": [
    {
     "data": {
      "image/png": "[encoded data removed]",
      "text/plain": [
       "<Figure size 960x720 with 1 Axes>"
      ]
     },
     "metadata": {},
     "output_type": "display_data"
    }
   ],
   "source": [
    "ppt.figure(dpi=150)\n",
    "sbrn.barplot(jsndt3,y=\"Avg Condition\", x=\"make\")\n",
    "ppt.xticks(rotation=90)\n",
    "ppt.show()"
   ]
  },
  {
   "cell_type": "markdown",
   "metadata": {},
   "source": [
    "#####  <span style=\"font-weight: bold;\">&nbsp;&nbsp;&nbsp;&nbsp;&nbsp;&nbsp;💬&nbsp;&nbsp;Findings</span>"
   ]
  },
  {
   "cell_type": "markdown",
   "metadata": {},
   "source": [
    "- As we can in the Bar chart, the dataset for cars brought in the year 2005\n",
    "- Among all the car makers in average condition, Bently takes the crown being the best-maintained. The condition is the best at 36.\n",
    "- And the second car maker was the Hummer at 34.\n",
    "- Followed by Porche and Mercedes.\n",
    "\n",
    "- With this chart, my company will be able to build a better price strategy for the car makers. Now that they know which car brands are the better lasting they can set higher prices."
   ]
  },
  {
   "cell_type": "code",
   "execution_count": null,
   "metadata": {},
   "outputs": [],
   "source": []
  },
  {
   "cell_type": "markdown",
   "metadata": {},
   "source": [
    "<a id='q4'></a>  \n",
    "####     ❓ <span style=\"font-weight: bold;\">4️⃣ What propotion of SUV sales have been taken up by each vehicle colors?</span>"
   ]
  },
  {
   "cell_type": "markdown",
   "metadata": {},
   "source": [
    "#####  <span style=\"font-weight: bold;\">&nbsp;&nbsp;&nbsp;&nbsp;&nbsp;&nbsp;💎&nbsp;&nbsp;Significance</span>"
   ]
  },
  {
   "cell_type": "markdown",
   "metadata": {},
   "source": [
    "1. This will show us the color preference of the customers in the market for SUV body type.\n",
    "2. This is will help the company is finding out what color is in demand.\n",
    "3. This is also help them in setting the re-sale price according to the demand."
   ]
  },
  {
   "cell_type": "markdown",
   "metadata": {},
   "source": [
    "#####  <span style=\"font-weight: bold;\">&nbsp;&nbsp;&nbsp;&nbsp;&nbsp;&nbsp;📟&nbsp;&nbsp;Code</span>"
   ]
  },
  {
   "cell_type": "markdown",
   "metadata": {},
   "source": [
    "- I will first create a dataset for my question 4 i.e. `dataset_q4`. I will filter the data for body.\n",
    "- Created a new column `propotion` which will have count of sales for each colors.\n",
    "- I will create another dataset `color_propotion` using `dataset_q4`, where I will devide the column `propotion` by total units to find a percentage.\n",
    "- And then we are going to present it in a form of pie chart."
   ]
  },
  {
   "cell_type": "code",
   "execution_count": 73,
   "metadata": {},
   "outputs": [
    {
     "data": {
      "text/html": [
       "<div>\n",
       "<style scoped>\n",
       "    .dataframe tbody tr th:only-of-type {\n",
       "        vertical-align: middle;\n",
       "    }\n",
       "\n",
       "    .dataframe tbody tr th {\n",
       "        vertical-align: top;\n",
       "    }\n",
       "\n",
       "    .dataframe thead th {\n",
       "        text-align: right;\n",
       "    }\n",
       "</style>\n",
       "<table border=\"1\" class=\"dataframe\">\n",
       "  <thead>\n",
       "    <tr style=\"text-align: right;\">\n",
       "      <th></th>\n",
       "      <th>color</th>\n",
       "      <th>propotion</th>\n",
       "    </tr>\n",
       "  </thead>\n",
       "  <tbody>\n",
       "    <tr>\n",
       "      <th>1</th>\n",
       "      <td>black</td>\n",
       "      <td>21.847100</td>\n",
       "    </tr>\n",
       "    <tr>\n",
       "      <th>17</th>\n",
       "      <td>white</td>\n",
       "      <td>17.321110</td>\n",
       "    </tr>\n",
       "    <tr>\n",
       "      <th>15</th>\n",
       "      <td>silver</td>\n",
       "      <td>15.014715</td>\n",
       "    </tr>\n",
       "    <tr>\n",
       "      <th>7</th>\n",
       "      <td>gray</td>\n",
       "      <td>14.273196</td>\n",
       "    </tr>\n",
       "    <tr>\n",
       "      <th>2</th>\n",
       "      <td>blue</td>\n",
       "      <td>8.132729</td>\n",
       "    </tr>\n",
       "    <tr>\n",
       "      <th>14</th>\n",
       "      <td>red</td>\n",
       "      <td>6.438066</td>\n",
       "    </tr>\n",
       "    <tr>\n",
       "      <th>19</th>\n",
       "      <td>—</td>\n",
       "      <td>4.982309</td>\n",
       "    </tr>\n",
       "    <tr>\n",
       "      <th>8</th>\n",
       "      <td>green</td>\n",
       "      <td>2.571755</td>\n",
       "    </tr>\n",
       "    <tr>\n",
       "      <th>6</th>\n",
       "      <td>gold</td>\n",
       "      <td>2.173302</td>\n",
       "    </tr>\n",
       "    <tr>\n",
       "      <th>4</th>\n",
       "      <td>burgundy</td>\n",
       "      <td>2.005489</td>\n",
       "    </tr>\n",
       "    <tr>\n",
       "      <th>0</th>\n",
       "      <td>beige</td>\n",
       "      <td>1.904636</td>\n",
       "    </tr>\n",
       "    <tr>\n",
       "      <th>3</th>\n",
       "      <td>brown</td>\n",
       "      <td>1.765756</td>\n",
       "    </tr>\n",
       "    <tr>\n",
       "      <th>11</th>\n",
       "      <td>orange</td>\n",
       "      <td>0.476986</td>\n",
       "    </tr>\n",
       "    <tr>\n",
       "      <th>13</th>\n",
       "      <td>purple</td>\n",
       "      <td>0.393492</td>\n",
       "    </tr>\n",
       "    <tr>\n",
       "      <th>10</th>\n",
       "      <td>off-white</td>\n",
       "      <td>0.352986</td>\n",
       "    </tr>\n",
       "    <tr>\n",
       "      <th>18</th>\n",
       "      <td>yellow</td>\n",
       "      <td>0.166986</td>\n",
       "    </tr>\n",
       "    <tr>\n",
       "      <th>5</th>\n",
       "      <td>charcoal</td>\n",
       "      <td>0.110773</td>\n",
       "    </tr>\n",
       "    <tr>\n",
       "      <th>16</th>\n",
       "      <td>turquoise</td>\n",
       "      <td>0.057040</td>\n",
       "    </tr>\n",
       "    <tr>\n",
       "      <th>12</th>\n",
       "      <td>pink</td>\n",
       "      <td>0.009920</td>\n",
       "    </tr>\n",
       "    <tr>\n",
       "      <th>9</th>\n",
       "      <td>lime</td>\n",
       "      <td>0.001653</td>\n",
       "    </tr>\n",
       "  </tbody>\n",
       "</table>\n",
       "</div>"
      ],
      "text/plain": [
       "        color  propotion\n",
       "1       black  21.847100\n",
       "17      white  17.321110\n",
       "15     silver  15.014715\n",
       "7        gray  14.273196\n",
       "2        blue   8.132729\n",
       "14        red   6.438066\n",
       "19          —   4.982309\n",
       "8       green   2.571755\n",
       "6        gold   2.173302\n",
       "4    burgundy   2.005489\n",
       "0       beige   1.904636\n",
       "3       brown   1.765756\n",
       "11     orange   0.476986\n",
       "13     purple   0.393492\n",
       "10  off-white   0.352986\n",
       "18     yellow   0.166986\n",
       "5    charcoal   0.110773\n",
       "16  turquoise   0.057040\n",
       "12       pink   0.009920\n",
       "9        lime   0.001653"
      ]
     },
     "execution_count": 73,
     "metadata": {},
     "output_type": "execute_result"
    }
   ],
   "source": [
    "dataset_q4 = dataset.loc[(dataset['body'].str.upper() == 'SUV'),['body','color']].copy()\n",
    "dataset_q4\n",
    "color_propotion = dataset_q4.groupby(['color']).size().reset_index()\n",
    "color_propotion\n",
    "color_propotion['propotion'] = color_propotion[0]\n",
    "color_propotion\n",
    "color_propotion.drop(0,axis=1,inplace=True)\n",
    "total_vehicle_sales = dataset_q4.groupby(['body','color']).size().sum()\n",
    "color_propotion['propotion'] = (color_propotion['propotion']/total_vehicle_sales)*100\n",
    "color_propotion.sort_values(by='propotion', ascending=False)"
   ]
  },
  {
   "cell_type": "markdown",
   "metadata": {},
   "source": [
    "- Here I will be using plotly to create a pie chart to represent the color propotions."
   ]
  },
  {
   "cell_type": "code",
   "execution_count": 84,
   "metadata": {},
   "outputs": [
    {
     "data": {
      "image/png": "[encoded data removed]",
      "text/plain": [
       "<Figure size 700x700 with 1 Axes>"
      ]
     },
     "metadata": {},
     "output_type": "display_data"
    }
   ],
   "source": [
    "colors = color_propotion['color']\n",
    "proportion = color_propotion['propotion']\n",
    "ppt.figure(figsize=(7,7))\n",
    "ppt.pie(proportion, labels=colors, autopct='%1.1f%%', startangle=140)\n",
    "ppt.title('Proportion of SUV Sales by Color') \n",
    "ppt.show()\n"
   ]
  },
  {
   "cell_type": "markdown",
   "metadata": {},
   "source": [
    "#####  <span style=\"font-weight: bold;\">&nbsp;&nbsp;&nbsp;&nbsp;&nbsp;&nbsp;💬&nbsp;&nbsp;Findings</span>"
   ]
  },
  {
   "cell_type": "markdown",
   "metadata": {},
   "source": [
    "- The sale of color `black` is the most prominent, constituting of 21.8% of the sales.\n",
    "- Followed by `white` and `silver` which is 17.32% and 15.0% of the sales respectively.\n",
    "- With this pie chart we come to know the color preferences of the users.\n",
    "- This will help the company in developing product, sales and inventory management decisions."
   ]
  },
  {
   "cell_type": "markdown",
   "metadata": {},
   "source": [
    "<a id='q5'></a>  \n",
    "####     ❓ <span style=\"font-weight: bold;\">5️⃣ What is the co-relation between odometer reading and the percentage decrease from selling price to MMR of the car?</span>"
   ]
  },
  {
   "cell_type": "markdown",
   "metadata": {},
   "source": [
    "#####  <span style=\"font-weight: bold;\">&nbsp;&nbsp;&nbsp;&nbsp;&nbsp;&nbsp;💎&nbsp;&nbsp;Significance</span>"
   ]
  },
  {
   "cell_type": "markdown",
   "metadata": {},
   "source": [
    "1. This will show us whether odometer reading have any connections for the MMR of the car.\n",
    "2. This will help the company to set pricing strategies accordingly."
   ]
  },
  {
   "cell_type": "markdown",
   "metadata": {},
   "source": [
    "#####  <span style=\"font-weight: bold;\">&nbsp;&nbsp;&nbsp;&nbsp;&nbsp;&nbsp;📟&nbsp;&nbsp;Code</span>"
   ]
  },
  {
   "cell_type": "markdown",
   "metadata": {},
   "source": [
    "- I will first create a dataset for my question i.e. `dataset_q5`. I will filter the data for body.\n",
    "- I will sample only the last 200 entries to simplify it for us.\n"
   ]
  },
  {
   "cell_type": "code",
   "execution_count": 75,
   "metadata": {},
   "outputs": [
    {
     "data": {
      "text/html": [
       "<div>\n",
       "<style scoped>\n",
       "    .dataframe tbody tr th:only-of-type {\n",
       "        vertical-align: middle;\n",
       "    }\n",
       "\n",
       "    .dataframe tbody tr th {\n",
       "        vertical-align: top;\n",
       "    }\n",
       "\n",
       "    .dataframe thead th {\n",
       "        text-align: right;\n",
       "    }\n",
       "</style>\n",
       "<table border=\"1\" class=\"dataframe\">\n",
       "  <thead>\n",
       "    <tr style=\"text-align: right;\">\n",
       "      <th></th>\n",
       "      <th>odometer</th>\n",
       "      <th>sellingprice</th>\n",
       "      <th>mmr</th>\n",
       "    </tr>\n",
       "  </thead>\n",
       "  <tbody>\n",
       "    <tr>\n",
       "      <th>292022</th>\n",
       "      <td>44778.0</td>\n",
       "      <td>13900.0</td>\n",
       "      <td>12750.0</td>\n",
       "    </tr>\n",
       "    <tr>\n",
       "      <th>283419</th>\n",
       "      <td>29330.0</td>\n",
       "      <td>8600.0</td>\n",
       "      <td>9850.0</td>\n",
       "    </tr>\n",
       "    <tr>\n",
       "      <th>395714</th>\n",
       "      <td>26078.0</td>\n",
       "      <td>14100.0</td>\n",
       "      <td>14050.0</td>\n",
       "    </tr>\n",
       "    <tr>\n",
       "      <th>252708</th>\n",
       "      <td>106485.0</td>\n",
       "      <td>7500.0</td>\n",
       "      <td>10250.0</td>\n",
       "    </tr>\n",
       "    <tr>\n",
       "      <th>136014</th>\n",
       "      <td>82415.0</td>\n",
       "      <td>2600.0</td>\n",
       "      <td>3300.0</td>\n",
       "    </tr>\n",
       "    <tr>\n",
       "      <th>...</th>\n",
       "      <td>...</td>\n",
       "      <td>...</td>\n",
       "      <td>...</td>\n",
       "    </tr>\n",
       "    <tr>\n",
       "      <th>271907</th>\n",
       "      <td>11667.0</td>\n",
       "      <td>20500.0</td>\n",
       "      <td>20700.0</td>\n",
       "    </tr>\n",
       "    <tr>\n",
       "      <th>96285</th>\n",
       "      <td>44078.0</td>\n",
       "      <td>11000.0</td>\n",
       "      <td>10850.0</td>\n",
       "    </tr>\n",
       "    <tr>\n",
       "      <th>236170</th>\n",
       "      <td>23009.0</td>\n",
       "      <td>14000.0</td>\n",
       "      <td>14900.0</td>\n",
       "    </tr>\n",
       "    <tr>\n",
       "      <th>33505</th>\n",
       "      <td>36118.0</td>\n",
       "      <td>27900.0</td>\n",
       "      <td>27500.0</td>\n",
       "    </tr>\n",
       "    <tr>\n",
       "      <th>461748</th>\n",
       "      <td>84664.0</td>\n",
       "      <td>9800.0</td>\n",
       "      <td>8750.0</td>\n",
       "    </tr>\n",
       "  </tbody>\n",
       "</table>\n",
       "<p>200 rows × 3 columns</p>\n",
       "</div>"
      ],
      "text/plain": [
       "        odometer  sellingprice      mmr\n",
       "292022   44778.0       13900.0  12750.0\n",
       "283419   29330.0        8600.0   9850.0\n",
       "395714   26078.0       14100.0  14050.0\n",
       "252708  106485.0        7500.0  10250.0\n",
       "136014   82415.0        2600.0   3300.0\n",
       "...          ...           ...      ...\n",
       "271907   11667.0       20500.0  20700.0\n",
       "96285    44078.0       11000.0  10850.0\n",
       "236170   23009.0       14000.0  14900.0\n",
       "33505    36118.0       27900.0  27500.0\n",
       "461748   84664.0        9800.0   8750.0\n",
       "\n",
       "[200 rows x 3 columns]"
      ]
     },
     "execution_count": 75,
     "metadata": {},
     "output_type": "execute_result"
    }
   ],
   "source": [
    "dataset_q5 = dataset[['odometer','sellingprice','mmr']].sample(n=200, random_state=59)\n",
    "# dataset_q5['price_decrease_percentage'] = round(((dataset['sellingprice'] - dataset['mmr'])/dataset['sellingprice'])*100)\n",
    "dataset_q5"
   ]
  },
  {
   "cell_type": "markdown",
   "metadata": {},
   "source": [
    "- Here I will be using seaborn to create a scatter plotto represent the relationship."
   ]
  },
  {
   "cell_type": "code",
   "execution_count": 76,
   "metadata": {},
   "outputs": [
    {
     "data": {
      "image/png": "[encoded data removed]",
      "text/plain": [
       "<Figure size 960x720 with 1 Axes>"
      ]
     },
     "metadata": {},
     "output_type": "display_data"
    }
   ],
   "source": [
    "ppt.figure(dpi=150)\n",
    "sbrn.scatterplot(data=dataset_q5, x=\"odometer\", y=\"mmr\")\n",
    "ppt.show()"
   ]
  },
  {
   "cell_type": "markdown",
   "metadata": {},
   "source": [
    "#####  <span style=\"font-weight: bold;\">&nbsp;&nbsp;&nbsp;&nbsp;&nbsp;&nbsp;💬&nbsp;&nbsp;Findings</span>"
   ]
  },
  {
   "cell_type": "markdown",
   "metadata": {},
   "source": [
    "- In this diagram, you can see that there is a clear relationship between selling price and odometer reading.\n",
    "- By this figure, we can easily say that they are both inversely proportional.\n",
    "- If the odometer reading is high then generally the selling price is low.\n",
    "- If the odometer reading is low then generally the selling price is very high.\n",
    "- With this details my company can clearly find what price needs to be set. They can put a linear regression an find an average price."
   ]
  },
  {
   "cell_type": "code",
   "execution_count": null,
   "metadata": {},
   "outputs": [],
   "source": []
  },
  {
   "cell_type": "markdown",
   "metadata": {},
   "source": [
    "<a id='q6'></a>  \n",
    "####     ❓ <span style=\"font-weight: bold;\">6️⃣ Find if there is a relation between the condition of the vehicle and the MMR of the cars sold in the year 2014</span>"
   ]
  },
  {
   "cell_type": "markdown",
   "metadata": {},
   "source": [
    "#####  <span style=\"font-weight: bold;\">&nbsp;&nbsp;&nbsp;&nbsp;&nbsp;&nbsp;💎&nbsp;&nbsp;Significance</span>"
   ]
  },
  {
   "cell_type": "markdown",
   "metadata": {},
   "source": [
    "1. This will show us whether odometer reading have any connections for the MMR of the car.\n",
    "2. This will help the company to set pricing strategies accordingly."
   ]
  },
  {
   "cell_type": "markdown",
   "metadata": {},
   "source": [
    "#####  <span style=\"font-weight: bold;\">&nbsp;&nbsp;&nbsp;&nbsp;&nbsp;&nbsp;📟&nbsp;&nbsp;Code</span>"
   ]
  },
  {
   "cell_type": "markdown",
   "metadata": {},
   "source": [
    "- I will first create a dataset for my question i.e. `dataset_q5`. I will filter the data for body.\n",
    "- I will sample only the last 200 entries to simplify it.\n"
   ]
  },
  {
   "cell_type": "code",
   "execution_count": 77,
   "metadata": {},
   "outputs": [
    {
     "data": {
      "text/html": [
       "<div>\n",
       "<style scoped>\n",
       "    .dataframe tbody tr th:only-of-type {\n",
       "        vertical-align: middle;\n",
       "    }\n",
       "\n",
       "    .dataframe tbody tr th {\n",
       "        vertical-align: top;\n",
       "    }\n",
       "\n",
       "    .dataframe thead th {\n",
       "        text-align: right;\n",
       "    }\n",
       "</style>\n",
       "<table border=\"1\" class=\"dataframe\">\n",
       "  <thead>\n",
       "    <tr style=\"text-align: right;\">\n",
       "      <th></th>\n",
       "      <th>condition</th>\n",
       "      <th>mmr</th>\n",
       "    </tr>\n",
       "  </thead>\n",
       "  <tbody>\n",
       "    <tr>\n",
       "      <th>0</th>\n",
       "      <td>5.0</td>\n",
       "      <td>20500.0</td>\n",
       "    </tr>\n",
       "    <tr>\n",
       "      <th>1</th>\n",
       "      <td>5.0</td>\n",
       "      <td>20800.0</td>\n",
       "    </tr>\n",
       "    <tr>\n",
       "      <th>4</th>\n",
       "      <td>43.0</td>\n",
       "      <td>66000.0</td>\n",
       "    </tr>\n",
       "    <tr>\n",
       "      <th>5</th>\n",
       "      <td>1.0</td>\n",
       "      <td>15350.0</td>\n",
       "    </tr>\n",
       "    <tr>\n",
       "      <th>6</th>\n",
       "      <td>34.0</td>\n",
       "      <td>69000.0</td>\n",
       "    </tr>\n",
       "    <tr>\n",
       "      <th>...</th>\n",
       "      <td>...</td>\n",
       "      <td>...</td>\n",
       "    </tr>\n",
       "    <tr>\n",
       "      <th>75655</th>\n",
       "      <td>44.0</td>\n",
       "      <td>15950.0</td>\n",
       "    </tr>\n",
       "    <tr>\n",
       "      <th>75683</th>\n",
       "      <td>5.0</td>\n",
       "      <td>30800.0</td>\n",
       "    </tr>\n",
       "    <tr>\n",
       "      <th>75695</th>\n",
       "      <td>33.0</td>\n",
       "      <td>8925.0</td>\n",
       "    </tr>\n",
       "    <tr>\n",
       "      <th>75712</th>\n",
       "      <td>35.0</td>\n",
       "      <td>14900.0</td>\n",
       "    </tr>\n",
       "    <tr>\n",
       "      <th>76042</th>\n",
       "      <td>5.0</td>\n",
       "      <td>18100.0</td>\n",
       "    </tr>\n",
       "  </tbody>\n",
       "</table>\n",
       "<p>36789 rows × 2 columns</p>\n",
       "</div>"
      ],
      "text/plain": [
       "       condition      mmr\n",
       "0            5.0  20500.0\n",
       "1            5.0  20800.0\n",
       "4           43.0  66000.0\n",
       "5            1.0  15350.0\n",
       "6           34.0  69000.0\n",
       "...          ...      ...\n",
       "75655       44.0  15950.0\n",
       "75683        5.0  30800.0\n",
       "75695       33.0   8925.0\n",
       "75712       35.0  14900.0\n",
       "76042        5.0  18100.0\n",
       "\n",
       "[36789 rows x 2 columns]"
      ]
     },
     "execution_count": 77,
     "metadata": {},
     "output_type": "execute_result"
    }
   ],
   "source": [
    "dataset_q6 = dataset[['condition', 'mmr']][dataset['sale_year'] == 2014]\n",
    "dataset_q6"
   ]
  },
  {
   "cell_type": "markdown",
   "metadata": {},
   "source": [
    "- Here I will be using seaborn to create a scatter plot to represent the relationship."
   ]
  },
  {
   "cell_type": "code",
   "execution_count": 85,
   "metadata": {},
   "outputs": [
    {
     "data": {
      "image/png": "[encoded data removed]",
      "text/plain": [
       "<Figure size 960x720 with 1 Axes>"
      ]
     },
     "metadata": {},
     "output_type": "display_data"
    }
   ],
   "source": [
    "ppt.figure(dpi=150)\n",
    "sbrn.scatterplot(data=dataset_q6, x=\"condition\", y=\"mmr\")\n",
    "ppt.show()"
   ]
  },
  {
   "cell_type": "markdown",
   "metadata": {},
   "source": [
    "#####  <span style=\"font-weight: bold;\">&nbsp;&nbsp;&nbsp;&nbsp;&nbsp;&nbsp;💬&nbsp;&nbsp;Findings</span>"
   ]
  },
  {
   "cell_type": "markdown",
   "metadata": {},
   "source": [
    "- In this diagram, we cannot see a clear connection between the condition of the vehicle and its market value of the car.\n",
    "- There are cars where condition is low but the selling price is high as well.\n",
    "- This is not giving us a clear picture."
   ]
  },
  {
   "cell_type": "code",
   "execution_count": null,
   "metadata": {},
   "outputs": [],
   "source": []
  },
  {
   "cell_type": "markdown",
   "metadata": {},
   "source": [
    "<a id='q7'></a>  \n",
    "####     ❓ <span style=\"font-weight: bold;\">7️⃣ What is the interior color preference of the buyers for Mercedes, Lamborghini, Ford and Chevrolet made cars?</span>"
   ]
  },
  {
   "cell_type": "markdown",
   "metadata": {},
   "source": [
    "#####  <span style=\"font-weight: bold;\">&nbsp;&nbsp;&nbsp;&nbsp;&nbsp;&nbsp;💎&nbsp;&nbsp;Significance</span>"
   ]
  },
  {
   "cell_type": "markdown",
   "metadata": {},
   "source": [
    "1. Mercedes, Lamborghini, Ford and Chevrolet are the top resold cars for my company.\n",
    "2. Hence they want to give their customer options based on their preference.\n",
    "3. This will show us the preference for interior colour.\n",
    "4. When reselling the cars my company usually modifies and at this time if they have this data they will able to attract our customers better by giving the option of colours which they like."
   ]
  },
  {
   "cell_type": "markdown",
   "metadata": {},
   "source": [
    "#####  <span style=\"font-weight: bold;\">&nbsp;&nbsp;&nbsp;&nbsp;&nbsp;&nbsp;📟&nbsp;&nbsp;Code</span>"
   ]
  },
  {
   "cell_type": "markdown",
   "metadata": {},
   "source": [
    "- I will first create a dataset for my question i.e. `dataset_q5`. I will filter the data for for the makers."
   ]
  },
  {
   "cell_type": "code",
   "execution_count": 79,
   "metadata": {},
   "outputs": [
    {
     "data": {
      "text/html": [
       "<div>\n",
       "<style scoped>\n",
       "    .dataframe tbody tr th:only-of-type {\n",
       "        vertical-align: middle;\n",
       "    }\n",
       "\n",
       "    .dataframe tbody tr th {\n",
       "        vertical-align: top;\n",
       "    }\n",
       "\n",
       "    .dataframe thead th {\n",
       "        text-align: right;\n",
       "    }\n",
       "</style>\n",
       "<table border=\"1\" class=\"dataframe\">\n",
       "  <thead>\n",
       "    <tr style=\"text-align: right;\">\n",
       "      <th></th>\n",
       "      <th>make</th>\n",
       "      <th>interior</th>\n",
       "    </tr>\n",
       "  </thead>\n",
       "  <tbody>\n",
       "    <tr>\n",
       "      <th>7</th>\n",
       "      <td>chevrolet</td>\n",
       "      <td>black</td>\n",
       "    </tr>\n",
       "    <tr>\n",
       "      <th>9</th>\n",
       "      <td>chevrolet</td>\n",
       "      <td>black</td>\n",
       "    </tr>\n",
       "    <tr>\n",
       "      <th>12</th>\n",
       "      <td>ford</td>\n",
       "      <td>beige</td>\n",
       "    </tr>\n",
       "    <tr>\n",
       "      <th>18</th>\n",
       "      <td>chevrolet</td>\n",
       "      <td>black</td>\n",
       "    </tr>\n",
       "    <tr>\n",
       "      <th>20</th>\n",
       "      <td>chevrolet</td>\n",
       "      <td>black</td>\n",
       "    </tr>\n",
       "    <tr>\n",
       "      <th>...</th>\n",
       "      <td>...</td>\n",
       "      <td>...</td>\n",
       "    </tr>\n",
       "    <tr>\n",
       "      <th>558818</th>\n",
       "      <td>chevrolet</td>\n",
       "      <td>black</td>\n",
       "    </tr>\n",
       "    <tr>\n",
       "      <th>558821</th>\n",
       "      <td>ford</td>\n",
       "      <td>gray</td>\n",
       "    </tr>\n",
       "    <tr>\n",
       "      <th>558822</th>\n",
       "      <td>mercedes</td>\n",
       "      <td>black</td>\n",
       "    </tr>\n",
       "    <tr>\n",
       "      <th>558823</th>\n",
       "      <td>chevrolet</td>\n",
       "      <td>black</td>\n",
       "    </tr>\n",
       "    <tr>\n",
       "      <th>558836</th>\n",
       "      <td>ford</td>\n",
       "      <td>gray</td>\n",
       "    </tr>\n",
       "  </tbody>\n",
       "</table>\n",
       "<p>149174 rows × 2 columns</p>\n",
       "</div>"
      ],
      "text/plain": [
       "             make interior\n",
       "7       chevrolet    black\n",
       "9       chevrolet    black\n",
       "12           ford    beige\n",
       "18      chevrolet    black\n",
       "20      chevrolet    black\n",
       "...           ...      ...\n",
       "558818  chevrolet    black\n",
       "558821       ford     gray\n",
       "558822   mercedes    black\n",
       "558823  chevrolet    black\n",
       "558836       ford     gray\n",
       "\n",
       "[149174 rows x 2 columns]"
      ]
     },
     "execution_count": 79,
     "metadata": {},
     "output_type": "execute_result"
    }
   ],
   "source": [
    "dataset_q7 = dataset[['make', 'interior']][dataset['make'].isin(['mercedes','lamborghini','ford','chevrolet'])]\n",
    "dataset_q7"
   ]
  },
  {
   "cell_type": "markdown",
   "metadata": {},
   "source": [
    "- Here I will be using seaborn violin chart to  plot and represent the preference."
   ]
  },
  {
   "cell_type": "code",
   "execution_count": 86,
   "metadata": {},
   "outputs": [
    {
     "data": {
      "text/plain": [
       "<Axes: xlabel='make', ylabel='interior'>"
      ]
     },
     "execution_count": 86,
     "metadata": {},
     "output_type": "execute_result"
    },
    {
     "data": {
      "image/png": "[encoded data removed]",
      "text/plain": [
       "<Figure size 960x720 with 1 Axes>"
      ]
     },
     "metadata": {},
     "output_type": "display_data"
    }
   ],
   "source": [
    "ppt.figure(dpi=150)\n",
    "sbrn.violinplot(data=dataset_q7, x=\"make\", y=\"interior\")"
   ]
  },
  {
   "cell_type": "markdown",
   "metadata": {},
   "source": [
    "#####  <span style=\"font-weight: bold;\">&nbsp;&nbsp;&nbsp;&nbsp;&nbsp;&nbsp;💬&nbsp;&nbsp;Findings</span>"
   ]
  },
  {
   "cell_type": "markdown",
   "metadata": {},
   "source": [
    "- In this diagram, we can see that there is a clear preference of black-colored interior.\n",
    "- For lamborghini we have very less data to analyze, but out of what we have only black color interiors are preffered.\n",
    "- And the second most preffered color for chevrolet, ford and mercedes is color grey."
   ]
  },
  {
   "cell_type": "code",
   "execution_count": null,
   "metadata": {},
   "outputs": [],
   "source": []
  },
  {
   "cell_type": "markdown",
   "metadata": {},
   "source": [
    "<a id='conclusion'></a>\n",
    "## 💡 <span style=\"color: #20479b; font-weight: bold;\">Conclusion</span>"
   ]
  },
  {
   "cell_type": "markdown",
   "metadata": {},
   "source": [
    "To summarize everything we did\n",
    "- we started with loading the dataset\n",
    "- In our EDA, we noticed that the data we are working on was not very clean\n",
    "- We have to preprocess our data before we start to work with our business data.\n",
    "\n",
    "To conclude from the insights we got from the dataset, here is a summary,\n",
    "1. Texas sales were much higher than that of New York. And form sales performed the best in both the states.\n",
    "2. Sales were very high in Jan, Feb and June and low in July and Apr.\n",
    "3. Bentry took the crown as being the best-maintained car of all.\n",
    "4. We saw an inverse relationship between the odometer reading and the MMR of the car.\n",
    "5. Most of the customers preferred black or grey interiors in their vehicles, with black being the favourite."
   ]
  },
  {
   "cell_type": "code",
   "execution_count": null,
   "metadata": {},
   "outputs": [],
   "source": []
  },
  {
   "cell_type": "code",
   "execution_count": null,
   "metadata": {},
   "outputs": [],
   "source": []
  }
 ],
 "metadata": {
  "kernelspec": {
   "display_name": "Python 3 (ipykernel)",
   "language": "python",
   "name": "python3"
  },
  "language_info": {
   "codemirror_mode": {
    "name": "ipython",
    "version": 3
   },
   "file_extension": ".py",
   "mimetype": "text/x-python",
   "name": "python",
   "nbconvert_exporter": "python",
   "pygments_lexer": "ipython3",
   "version": "3.11.5"
  }
 },
 "nbformat": 4,
 "nbformat_minor": 4
}
