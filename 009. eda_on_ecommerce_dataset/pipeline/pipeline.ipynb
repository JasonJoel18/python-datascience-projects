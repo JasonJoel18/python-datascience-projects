{
 "cells": [
  {
   "cell_type": "markdown",
   "metadata": {},
   "source": [
    "**<h1 style=\"text-align: center;\">🕵🏻 EDA on Vehicle Sales Data 🏎️</h1>**"
   ]
  },
  {
   "cell_type": "markdown",
   "metadata": {},
   "source": [
    "## 👋🏼 **Introduction**\n",
    "\n",
    "<p style=\"text-align: justify;\">They are one of the leading car resellers in the US. They have chosen me as their data scientist so that I can analyze some data for them and give some business insights by which they can improve their sales. They have provided me with a dataset of vehicle sales data. They want to find some business insights from this dataset so that they can improve their sales in the market.</p>\n",
    "\n",
    "## 🧿 **Objective**\n",
    " <p style=\"text-align: justify;\">The sales of JJ motors have not been very good lately and hence they had to make some very hard business decisions of laying off people in many of their offices. And they are not happy with the performance for the past 4-5 years. Hence they want to study and analyze the market so that they can improve their sales and get back in the business. They have chosen a huge dataset for me, which has details about the car sales until the year 2015.\n",
    "     \n",
    "In their past survey, the people said that their customers were not happy with the options provided by them. So my plan is to focus on the preferences of the customers. This will help me really to get into the minds of the customers and understand what are they looking for in a car they are buying so that my company can use this data to polish their marketing and sales techniques. I will be conducting Exploratory Data Analysis (EDA) on the Vehicle Sales Data dataset and try to get an insight of the dataset. I have some business questions in mind which will help the company in improving their sales. Let's see how we can find the answers to these questions. I will be loading the dataset and then try to find any relationships, trends and patterns between among the various features of the dataset. Also, I will be trying to find answers to the below set of questions.\n",
    " \n",
    " </p>\n",
    "\n",
    "**About the data**  \n",
    "This dataset contains 16 columns. This data set is from Kaggle. You can [**click here**](https://www.kaggle.com/datasets/syedanwarafridi/vehicle-sales-data/code) to view the dataset on kaggle."
   ]
  },
  {
   "cell_type": "markdown",
   "metadata": {},
   "source": [
    "## ***Table of Content***\n",
    "\n",
    "##### ⬇ [**Importing Libraries**](#library)\n",
    "##### 📊 [**Importing Dataset**](#dataset)\n",
    "##### 💭 [**My taughts on the dataset**](#thoughts)\n",
    "##### 🧹 [**Data Cleaning**](#cleaning)\n",
    "##### ❓ [**Business Questions**](#questions)\n",
    "##### 💡 [**Conclusion**](#conclusion)\n",
    "\n",
    "\n",
    "\n",
    "\n"
   ]
  },
  {
   "cell_type": "markdown",
   "metadata": {},
   "source": [
    "## ***Let's go....***"
   ]
  },
  {
   "cell_type": "markdown",
   "metadata": {},
   "source": []
  },
  {
   "cell_type": "markdown",
   "metadata": {},
   "source": [
    "<a id='library'></a>\n",
    "## ⬇ <span style=\"color: #20479b; font-weight: bold;\">Importing Libraries</span>"
   ]
  },
  {
   "cell_type": "markdown",
   "metadata": {},
   "source": [
    "I start by importing the necessary libraries for my Exploratory Data Analysis tasks in Python."
   ]
  },
  {
   "cell_type": "code",
   "execution_count": null,
   "metadata": {},
   "outputs": [],
   "source": [
    "import pandas as pnds\n",
    "import numpy as nmpi\n",
    "import matplotlib.pyplot as ppt\n",
    "import seaborn as sbrn\n",
    "import plotly.express as epx\n",
    "%matplotlib inline\n",
    "from dateutil import parser\n",
    "import datetime as dati\n",
    "import plotly.graph_objs as grp_ob"
   ]
  },
  {
   "cell_type": "markdown",
   "metadata": {},
   "source": [
    "This are the basic libraries I will be using for this pipeline. I am using pandas for the dataframe, numpy for all the calculations. matplotlib, plotly an seaborn I will be using to plot the graphs to better understand the graph. And I have also used dateutil to clean the datetime columns and covert it into a correct format which cleaning."
   ]
  },
  {
   "cell_type": "markdown",
   "metadata": {},
   "source": [
    "<a id='dataset'></a>  \n",
    "\n",
    "## 📊 <span style=\"color: #20479b; font-weight: bold;\">Importing Dataset</span>"
   ]
  },
  {
   "cell_type": "code",
   "execution_count": null,
   "metadata": {},
   "outputs": [],
   "source": [
    "dataset = pnds.read_csv('/Users/jasonjoelpinto/Documents/GitHub/python-datascience-projects/009. eda_on_ecommerce_dataset/dataset/car_prices.csv')\n",
    "\n",
    "print(\"Dataframe rows.   :\", len(dataset))\n",
    "print(\"Dataframe cols.   :\", len(dataset.columns))  \n",
    "print(\"=\"*27)\n",
    "\n",
    "dataset.head(5)"
   ]
  },
  {
   "cell_type": "markdown",
   "metadata": {},
   "source": [
    "I can see that we have 558837 rows in this dataset. There are 16 columns in total. I can see that there are very insightful data in this dataset. But the data does not look very clean. At this point, I can see VIN columns which I feel like its unnecessary and also `saledate` column does not look in the correct format. It has time zones and all are included in them. I think we might have to clean these columns. But let's explore the dataset further and see what we can do about these columns and others. "
   ]
  },
  {
   "cell_type": "markdown",
   "metadata": {},
   "source": []
  },
  {
   "cell_type": "markdown",
   "metadata": {},
   "source": [
    "<a id='exploration'></a>\n",
    "## 🗺️ <span style=\"color: #20479b; font-weight: bold;\">Exploring the dataset</span>"
   ]
  },
  {
   "cell_type": "markdown",
   "metadata": {},
   "source": [
    "After loading the dataset into the DataFrame `dataset`, I will check the `dataset` shape using the `.shape` attribute."
   ]
  },
  {
   "cell_type": "code",
   "execution_count": null,
   "metadata": {},
   "outputs": [],
   "source": [
    "dataset.shape"
   ]
  },
  {
   "cell_type": "markdown",
   "metadata": {},
   "source": [
    "As you can see above there are 5558837 rows and 16 columns.\n",
    "This is a good start for us a as there is a lot of data for us to analyse."
   ]
  },
  {
   "cell_type": "markdown",
   "metadata": {},
   "source": [
    "I will use `.info` method to get a shortsummary of the DataFrame. It will include the number of non-null values, Data Types, and Memory Usage etc."
   ]
  },
  {
   "cell_type": "code",
   "execution_count": null,
   "metadata": {},
   "outputs": [],
   "source": [
    "dataset.info()"
   ]
  },
  {
   "cell_type": "markdown",
   "metadata": {},
   "source": [
    "I can see that the \n",
    "- count in the **Non-Null** column is less than the total columns i.e. 558837\n",
    "- that means that there are many NULL values in the dataset. \n",
    "- which we will take care in the data cleaning part.\n",
    "- Looking at the datatype, I can see that datatype looks fine, except for the saledate column. It is of object datatype. I will change the datatype of this column.\n",
    "- The size of our dataset is arround 68.2 MegaBytes.\n",
    "- There are 3 datatypes in this dataframe i.e. float, int and object."
   ]
  },
  {
   "cell_type": "markdown",
   "metadata": {},
   "source": [
    "I will use `dtypes` attribute to get the datatypes of the columns.  \n",
    "I will also get the same details in `.info()` attribute above. But I like to view it seperately we get a getter understanding."
   ]
  },
  {
   "cell_type": "code",
   "execution_count": null,
   "metadata": {},
   "outputs": [],
   "source": [
    "dataset.dtypes"
   ]
  },
  {
   "cell_type": "markdown",
   "metadata": {},
   "source": [
    "I want to get a statistics of the dataframe using describe\n",
    "- It will provide us various functions such as mean, count, Standard Deviation, Min, Max and percentiles.\n",
    "- I have used **Transpose** here as I want the columns of my DataFrame as the index.\n",
    "- This especially helps when I have many numrical columns."
   ]
  },
  {
   "cell_type": "code",
   "execution_count": null,
   "metadata": {},
   "outputs": [],
   "source": [
    "dataset.describe().transpose()"
   ]
  },
  {
   "cell_type": "markdown",
   "metadata": {},
   "source": [
    "From the above table, we can get very insightful details of the columns. Let's go one column at a time.\n",
    "\n",
    "1. **Year**:\n",
    "   - I can see that this dataset's sales details dated from the year 1982 to 2015.\n",
    "   - Even if the data has old data, the old sales details are not many. The mean column says that rows are mostly around 2010. This means this is comparatively recent data.\n",
    "   - The average year of sale is approximately 2010, indicating that the dataset predominantly consists of relatively recent vehicle sales.\n",
    "\n",
    "2. **Condition**:\n",
    "   - The condition is rated from 1 to 50 in this dataset. 1 being low and 50 being the best condition.\n",
    "   - Average is 30, which means that most vehicles are moderately maintained.\n",
    "\n",
    "4. **Odometer**:\n",
    "   - Based on the average values, it looks like most of the vehicles run for long miles on average they run for 68,320 miles.\n",
    "   The minimum value is 1, which suggests that there are vehicles as well.\n",
    "   - The 50th percentile suggests that half of the vehicles run less than 52,254 miles.\n",
    "\n",
    "5. **MMR (Which stands for Market Median Retail)**:\n",
    "   - There are records for MMR 25 dollars as well, which might be because the vehicle is old or also if it is not maintained well.\n",
    "   - On average, the MMR is around 13000 dollars.\n",
    "   - The median suggests that in half of the data, the MMR is below 12,250 dollars.\n",
    "\n",
    "6. **Selling Price**:\n",
    "   - One thing I noticed something odd is that the minimum selling price is 1 dollar.\n",
    "   - I need to check which records have selling price as 1.\n",
    "   - median values suggest that for almost half of the data, the selling price is less than 12100 dollars.\n",
    "\n",
    "Overall, this summary provides valuable insights into the distribution and characteristics of the vehicle sales dataset, including information about the years of sale, vehicle conditions, mileage, market median retail prices, and selling prices."
   ]
  },
  {
   "cell_type": "markdown",
   "metadata": {},
   "source": [
    "Now, I will check if there are any null values"
   ]
  },
  {
   "cell_type": "code",
   "execution_count": null,
   "metadata": {},
   "outputs": [],
   "source": [
    "print(\" \"*30)\n",
    "print(\"Dataframe rows :\", len(dataset))\n",
    "print(\" \"*30)\n",
    "print(\"=\"*30)\n",
    "\n",
    "dataset.isnull().sum()"
   ]
  },
  {
   "cell_type": "markdown",
   "metadata": {},
   "source": [
    "Now I am going to check how much percentage of the columns are null. If they are negligible percentage then we can just drop the columns. Otherwise I will fill the na values with the meaninfull values."
   ]
  },
  {
   "cell_type": "code",
   "execution_count": null,
   "metadata": {},
   "outputs": [],
   "source": [
    "null_percentage = {}\n",
    "for column in dataset:\n",
    "    null_percentage[column] = round(( ( dataset[column].isnull().sum() ) / len(dataset)) * 100,2)\n",
    "np_dataset = pnds.DataFrame( list( null_percentage.items() ),  columns=[  'column_name'  , 'null_percentage' ])\n",
    "np_dataset"
   ]
  },
  {
   "cell_type": "markdown",
   "metadata": {},
   "source": [
    "If you see the above table, the max null percentage is for the column. Transmission is around 11 per cent. It is difficult to guess the transmision of the cars because there is no engine details in this data. And all the other columns have null percentages less than 3. So if you see the size of the data it is not very huge. And if we start guess and filling the data, we might loose quality in the data. I want to preserve the quality and hence I can drop these rows. And also, \n",
    "\n",
    "As the null percentage is negligible when compared to the size of the dataset, we can drop these null columns. "
   ]
  },
  {
   "cell_type": "markdown",
   "metadata": {},
   "source": [
    "Let me check if there are unwanted records in our dataset now."
   ]
  },
  {
   "cell_type": "code",
   "execution_count": null,
   "metadata": {},
   "outputs": [],
   "source": [
    "dataset[\"state\"].unique()"
   ]
  },
  {
   "cell_type": "markdown",
   "metadata": {},
   "source": [
    "I can see a lot of rows with unwanted data here. We have to delete these error data."
   ]
  },
  {
   "cell_type": "markdown",
   "metadata": {},
   "source": [
    "Checking for transmission column now"
   ]
  },
  {
   "cell_type": "code",
   "execution_count": null,
   "metadata": {},
   "outputs": [],
   "source": [
    "dataset[\"transmission\"].unique()"
   ]
  },
  {
   "cell_type": "markdown",
   "metadata": {},
   "source": [
    "Generally there are two types that are automatic and manual, but in this dataset, I can see that In the transmission column there are, **nan**, **sedan** and **Sedan** entries which are definetly data errors.\n",
    "Now similar to transmission column I think that it is better to drop these columns as we loose the data quality if we fill these entries."
   ]
  },
  {
   "cell_type": "code",
   "execution_count": null,
   "metadata": {},
   "outputs": [],
   "source": [
    "dataset['make'].unique()"
   ]
  },
  {
   "cell_type": "markdown",
   "metadata": {},
   "source": [
    "In make columns see a lot of entries where the name is same but they are in different case, To better represent the data and study from it will essential for me to clean this data, and connect the make names in the column. I am thinking of making this all small. And also for records where there are additional letters I will replace the columns with standard name."
   ]
  },
  {
   "cell_type": "markdown",
   "metadata": {},
   "source": [
    "Let me view the data sorting in alphabetical order, so that I can recognize which are the similar names which I can rename."
   ]
  },
  {
   "cell_type": "code",
   "execution_count": null,
   "metadata": {},
   "outputs": [],
   "source": [
    "sorted(dataset['make'].astype(str).unique())"
   ]
  },
  {
   "cell_type": "markdown",
   "metadata": {},
   "source": [
    "There are many entries which are very similar."
   ]
  },
  {
   "cell_type": "markdown",
   "metadata": {},
   "source": []
  },
  {
   "cell_type": "markdown",
   "metadata": {},
   "source": [
    "<a id='thoughts'></a>\n",
    "## 💭 <span style=\"color: #20479b; font-weight: bold;\">My thoughts on the dataset</span>"
   ]
  },
  {
   "cell_type": "markdown",
   "metadata": {},
   "source": [
    "As per my initial Data Exploration,\n",
    "- I can see that the dataset is huge with 558837 columns.\n",
    "- This dataset consits of alot of null values which can be deleted considering the size of the data.\n",
    "- VIN number is unique for each vahicle, hence it is not useful for me, hence I will drop the column.\n",
    "- I also noticed that the datatype of `saledate` column is object, and it also can time and timezone which we may not need.\n",
    "- `state` and `transmission` column has error data, which I can delete.\n",
    "\n",
    "\n",
    "\n",
    "I will be following the below steps to 🧹 clean my data for further analysis.\n",
    "1. ❎ Drop all the rows containing `null` values.\n",
    "2. ❎ Drop columns `VIN`.\n",
    "3. 🪛 Convert the saledate column to Datetime format.\n",
    "4. 🪛 Add columns `sale_year` and  `sale_month` using the `saledate` column.\n",
    "4. 🪛 Make column `make` all smalll.\n",
    "5. 🪛 Replace the make error in make with the standard make name.\n",
    "5. ❎ Drop the rows with error data from `state` and `transmission` columns.\n",
    "6. ✅ Re-arranging the columns for better readablity. "
   ]
  },
  {
   "cell_type": "markdown",
   "metadata": {},
   "source": []
  },
  {
   "cell_type": "markdown",
   "metadata": {},
   "source": [
    "<a id='cleaning' ></a>\n",
    "## 🧹 <span style=\"color: #20479b; font-weight: bold;\">Data Cleaning</span>\n"
   ]
  },
  {
   "cell_type": "markdown",
   "metadata": {},
   "source": [
    "1. **❎ Drop all the rows containing `null` values.**"
   ]
  },
  {
   "cell_type": "markdown",
   "metadata": {},
   "source": [
    "You can see that the null_percentage for each column is negligible. The max is for Transmission is 11.69%, which is negligible when we consider the datasize, i.e. 558837 of data. Hence I will be droping the rows with null values."
   ]
  },
  {
   "cell_type": "code",
   "execution_count": null,
   "metadata": {},
   "outputs": [],
   "source": [
    "dataset.dropna(inplace=True)"
   ]
  },
  {
   "cell_type": "code",
   "execution_count": null,
   "metadata": {},
   "outputs": [],
   "source": [
    "print(\" \"*30)\n",
    "print(\"Dataset rows   :\", len(dataset))\n",
    "print(\"=\"*30)\n",
    "print(\" \"*30)\n",
    "\n",
    "dataset.isnull().sum()"
   ]
  },
  {
   "cell_type": "markdown",
   "metadata": {},
   "source": [
    "According to me VIN number will not be useful at all for me because it is unique for all cars. It is better to delete it to reduce teh complexity of the dataset because it's not useful for my analysis."
   ]
  },
  {
   "cell_type": "markdown",
   "metadata": {},
   "source": [
    "2. **❎ Drop columns `VIN`**"
   ]
  },
  {
   "cell_type": "code",
   "execution_count": null,
   "metadata": {},
   "outputs": [],
   "source": [
    "dataset.drop(\"vin\",axis=1,inplace=True)\n",
    "dataset.sample(5)"
   ]
  },
  {
   "cell_type": "markdown",
   "metadata": {},
   "source": [
    "3. **🪛 Convert the saledate column to Datetime format.**"
   ]
  },
  {
   "cell_type": "markdown",
   "metadata": {},
   "source": [
    "Like I said before the sale date column in this format is very difficult to work with because if I want to filter the data or sort the data based on date then it will not be possible for me to do it accurately which this format. So I will clean it up using `dateutil.parser` package to clean it and convert it to the right datetime format. This module will automatically detect various formats and convert them for us. I will convert them to utc standard to maintain the uniformity."
   ]
  },
  {
   "cell_type": "code",
   "execution_count": null,
   "metadata": {},
   "outputs": [],
   "source": [
    "dataset['saledatetime']  =    pnds.to_datetime( dataset['saledate' ].apply(parser.parse), utc=True )\n",
    "dataset.head(5)"
   ]
  },
  {
   "cell_type": "markdown",
   "metadata": {},
   "source": [
    "4. **🪛 Add columns `sale_year` and  `sale_month` using the `saledate` column.**"
   ]
  },
  {
   "cell_type": "markdown",
   "metadata": {},
   "source": [
    "Now that I have got the datetime in a new column, I want to drop the older column. Then since time is not important to me I will move the data to the new column `saledate` and also divide `year` and `month`.\n",
    "\n",
    "Simply, there are the steps.\n",
    "1. drop the older  `saledate` column, \n",
    "2. create a new `saledate` column which will have only the saledate and remove the time as it is not important for us.\n",
    "3. drop the `saledatetime`.\n",
    "4. add `sale_date` and `sale_year` columns."
   ]
  },
  {
   "cell_type": "code",
   "execution_count": null,
   "metadata": {},
   "outputs": [],
   "source": [
    "dataset.head(3)"
   ]
  },
  {
   "cell_type": "code",
   "execution_count": null,
   "metadata": {},
   "outputs": [],
   "source": [
    "dataset.drop(\"saledate\",axis=1,inplace=True)\n",
    "dataset.sample(3)"
   ]
  },
  {
   "cell_type": "code",
   "execution_count": null,
   "metadata": {},
   "outputs": [],
   "source": [
    "dataset[\"saledate\"] = pnds.to_datetime(dataset[\"saledatetime\"])"
   ]
  },
  {
   "cell_type": "code",
   "execution_count": null,
   "metadata": {},
   "outputs": [],
   "source": [
    "dataset.drop(\"saledatetime\",axis=1,inplace=True)\n",
    "dataset['sale_month'] = dataset['saledate'].dt.strftime('%B')\n",
    "dataset['sale_year'] = dataset['saledate'].dt.year\n",
    "dataset.head(5)"
   ]
  },
  {
   "cell_type": "markdown",
   "metadata": {},
   "source": [
    "5. **🪛 Make column `make` all smalll**"
   ]
  },
  {
   "cell_type": "markdown",
   "metadata": {},
   "source": [
    "Next, I will change the `make` column to all small letter to standardize them."
   ]
  },
  {
   "cell_type": "code",
   "execution_count": null,
   "metadata": {},
   "outputs": [],
   "source": [
    "dataset['make'] = dataset['make'].str.lower()"
   ]
  },
  {
   "cell_type": "markdown",
   "metadata": {},
   "source": [
    "6. **🪛 Replace the make error in make with the standard make name**"
   ]
  },
  {
   "cell_type": "markdown",
   "metadata": {},
   "source": [
    "And we also saw that the data were the same makes but they have been updated as slightly different names. To standardize them,\n",
    "Here I will replace the make names with standard ones."
   ]
  },
  {
   "cell_type": "code",
   "execution_count": null,
   "metadata": {},
   "outputs": [],
   "source": [
    "dataset['make'] = dataset['make'].replace({'chev truck':'chevrolet','dodge tk':'dodge','ford tk':'ford','ford truck':'ford','gmc truck':'gmc','hyundai tk':'hyundai','land rover':'landrover',\n",
    "                    'mazda tk':'mazda','mercedes-b':'mercedes','mercedes-benz':'mercedes','vw':'volkswagen'})\n",
    "sorted(dataset['make'].astype(str).unique())"
   ]
  },
  {
   "cell_type": "markdown",
   "metadata": {},
   "source": [
    "make column looks so much better now."
   ]
  },
  {
   "cell_type": "markdown",
   "metadata": {},
   "source": [
    "7. **❎ Drop the rows with error data from `state` and `transmission` columns**"
   ]
  },
  {
   "cell_type": "markdown",
   "metadata": {},
   "source": [
    "If I search each error entry and delete them it will take time. Since all the error records first 4 records are same I will filter them based on that and delete it."
   ]
  },
  {
   "cell_type": "code",
   "execution_count": null,
   "metadata": {},
   "outputs": [],
   "source": [
    "dataset =  dataset[ ~dataset[ 'state'].str.startswith('3vwd'  )]\n",
    "dataset.sample(5)"
   ]
  },
  {
   "cell_type": "markdown",
   "metadata": {},
   "source": [
    "I feel like the order of the column is not so accurate, which is not good for reading. Hence I will rearrange the columns. This will make it easier for us to read."
   ]
  },
  {
   "cell_type": "code",
   "execution_count": null,
   "metadata": {},
   "outputs": [],
   "source": [
    "rearranged_columns = ['year','make','model','trim','body','transmission','state','condition','color','interior','saledate','sale_year','sale_month','seller','sellingprice','mmr','odometer']\n",
    "dataset = dataset[rearranged_columns]\n",
    "dataset.head(5)"
   ]
  },
  {
   "cell_type": "markdown",
   "metadata": {},
   "source": [
    "Dataset looks better now."
   ]
  },
  {
   "cell_type": "markdown",
   "metadata": {},
   "source": [
    "Just to verify let me just check the datatype of the dataset if it looks good."
   ]
  },
  {
   "cell_type": "code",
   "execution_count": null,
   "metadata": {},
   "outputs": [],
   "source": [
    "dataset.dtypes"
   ]
  },
  {
   "cell_type": "markdown",
   "metadata": {},
   "source": [
    "Looks fine now"
   ]
  },
  {
   "cell_type": "markdown",
   "metadata": {},
   "source": []
  },
  {
   "cell_type": "markdown",
   "metadata": {},
   "source": [
    "<a id='questions'></a>  \n",
    "\n",
    "\n",
    "## ❓ <span style=\"color: #20479b; font-weight: bold;\">Business Questions</span>"
   ]
  },
  {
   "cell_type": "markdown",
   "metadata": {},
   "source": [
    "#####  [**❓1️⃣ What is the sales comparison of car makers in New York(ny) and Texas(tx) for the last 3 years from the data?**](#q1)\n",
    "#####  [**❓2️⃣ What was the vehicle sales pattern by month for the last 5 years of the data?**](#q2)\n",
    "#####  [**❓1️⃣ What is the sales comparison of car makers in New York(ny) and Texas(tx) for the last 3 years from the data?**](#q1)\n",
    "#####  [**❓1️⃣ What is the sales comparison of car makers in New York(ny) and Texas(tx) for the last 3 years from the data?**](#q1)\n",
    "#####  [**❓1️⃣ What is the sales comparison of car makers in New York(ny) and Texas(tx) for the last 3 years from the data?**](#q1)\n",
    "#####  [**❓1️⃣ What is the sales comparison of car makers in New York(ny) and Texas(tx) for the last 3 years from the data?**](#q1)\n",
    "#####  [**❓1️⃣ What is the sales comparison of car makers in New York(ny) and Texas(tx) for the last 3 years from the data?**](#q1)\n"
   ]
  },
  {
   "cell_type": "code",
   "execution_count": null,
   "metadata": {},
   "outputs": [],
   "source": [
    "dataset.head(5)"
   ]
  },
  {
   "cell_type": "markdown",
   "metadata": {},
   "source": [
    "<a id='q1'></a>  \n",
    "####     ❓ <span style=\"font-weight: bold;\">1️⃣ What is the sales comparison of car makers in New York(ny) and Texas(tx) for the last 3 years from the data?</span>"
   ]
  },
  {
   "cell_type": "markdown",
   "metadata": {},
   "source": [
    "#####  <span style=\"font-weight: bold;\">&nbsp;&nbsp;&nbsp;&nbsp;&nbsp;&nbsp;💎&nbsp;&nbsp;Significance</span>"
   ]
  },
  {
   "cell_type": "markdown",
   "metadata": {},
   "source": [
    "1. This will give them insigts of which car makers are in demand in New York and Texas. \n",
    "2. Further help them to plan out their purchase of second hand cars which are in demand.\n",
    "3. Help them deliver the their customers needs better."
   ]
  },
  {
   "cell_type": "markdown",
   "metadata": {},
   "source": [
    "#####  <span style=\"font-weight: bold;\">&nbsp;&nbsp;&nbsp;&nbsp;&nbsp;&nbsp;📟&nbsp;&nbsp;Code</span>"
   ]
  },
  {
   "cell_type": "markdown",
   "metadata": {},
   "source": [
    "- I will first create a dataset for my q1 i.e. `dataset_q1`.\n",
    "- Here I will filter the data for states NY and TX and where column year is past 3 year of it's max.\n",
    "- I will create another dataset `data` using `dataset_q1`, where I will group the data on `state` and `make` column and also get their count in `Sales in Units` column."
   ]
  },
  {
   "cell_type": "code",
   "execution_count": null,
   "metadata": {},
   "outputs": [],
   "source": [
    "dataset_q1 = dataset.loc[(dataset['state'].isin(['ny', 'tx'])) & (dataset['year'] >= (dataset['year'].max()-3))]\n",
    "jsndt = dataset_q1.groupby ( ['state' , 'make']).size().reset_index( name ='Sales in Units' )\n",
    "jsndt = jsndt.sort_values(by='make').reset_index(drop=True)\n",
    "jsndt"
   ]
  },
  {
   "cell_type": "markdown",
   "metadata": {},
   "source": [
    "- Here I will be using plotly to create a bar graph for us\n",
    "- `jsnbar` here is our Plotly figure object.\n",
    "- `epx.bar()` is the function we will be using to plot the graph.\n",
    "- `jsndt` is the data we will be using for the figure.\n",
    "- `x` - we need to specify the column we want to plot on x-axis, in this case it's `make`.\n",
    "- `y` - we need to specify the column we want to plot on y-axis, in this case it's `Sales in Units`.\n",
    "- `color` - is based on which the color coding will be done.\n",
    "- `h` - is how we want to plot the bars. In this case h stands for horizontal\n",
    "- `title` is the title of the figure.\n",
    "- `labe's` - are the labels we want for each figure, in my case I have made it all caps for make and State.\n",
    "- `legend_title_text` - is the title we want to set the title of the legend as.\n",
    "- `width` and `height`is the pixel size of the figure."
   ]
  },
  {
   "cell_type": "code",
   "execution_count": null,
   "metadata": {},
   "outputs": [],
   "source": [
    "jsnbar =epx.bar(jsndt, orientation='h', barmode='group', title='Sales in Units by Make and State',labels={'Sales in Units': 'Sales in Units', 'make': 'MAKE', 'state': 'STATE'},\n",
    "                color='state',y='make', x='Sales in Units')\n",
    "jsnbar.update_layout(legend_title_text='State', width=1000, height=800)\n",
    "jsnbar.show()"
   ]
  },
  {
   "cell_type": "markdown",
   "metadata": {},
   "source": [
    "#####  <span style=\"font-weight: bold;\">&nbsp;&nbsp;&nbsp;&nbsp;&nbsp;&nbsp;💬&nbsp;&nbsp;Findings</span>"
   ]
  },
  {
   "cell_type": "markdown",
   "metadata": {},
   "source": [
    "- For the last 3 years of this dataset we can see that\n",
    "- Car sales are significantly higher in Texas in comparison to New York. We can see that sales in Texas are triple the units sold in New York for all the car makers.\n",
    "- In `both states` the sales of car maker `Ford` are the `best` of all.\n",
    "- In `New York` `second` best sales is for the car maker `Lincoln`\n",
    "- In `Texas`, `Nissan` has taken the second spot for sales in the last 3 years of data.\n",
    "- In `Texas` Chevrolet is not too behind.\n",
    "- With this data now my company knows which cars have the best sales in order for each state. With this data, my company can plan and purchase second-hand cars which had good demand so that customers get options for what was in demand."
   ]
  },
  {
   "cell_type": "code",
   "execution_count": null,
   "metadata": {},
   "outputs": [],
   "source": []
  },
  {
   "cell_type": "markdown",
   "metadata": {},
   "source": [
    "<a id='q2'></a>  \n",
    "####     ❓ <span style=\"font-weight: bold;\">2️⃣ What was the vehicle sales pattern by month for the last 5 years of the data?</span>"
   ]
  },
  {
   "cell_type": "markdown",
   "metadata": {},
   "source": [
    "#####  <span style=\"font-weight: bold;\">&nbsp;&nbsp;&nbsp;&nbsp;&nbsp;&nbsp;💎&nbsp;&nbsp;Significance</span>"
   ]
  },
  {
   "cell_type": "markdown",
   "metadata": {},
   "source": [
    "1. This will give them insigts of which which months of the year the vehicle purchase is more\n",
    "2. This will help them to plan out the car purchange during these months so that they can provide more options to the buyers."
   ]
  },
  {
   "cell_type": "markdown",
   "metadata": {},
   "source": [
    "#####  <span style=\"font-weight: bold;\">&nbsp;&nbsp;&nbsp;&nbsp;&nbsp;&nbsp;📟&nbsp;&nbsp;Code</span>"
   ]
  },
  {
   "cell_type": "markdown",
   "metadata": {},
   "source": [
    "- I will first create a  for my question 2 i.e. `dataset_q2`. I will filter the data for column year is past 5 year of it's max.\n",
    "- Created a new column `sale_month_no` so that I can sort it based on month no.\n",
    "- Then I am grouping the data based on sale_month, and also getting a count for each month. \n",
    "- Sort the values based on `sale_month_no`.\n",
    "- I will create another  `data` jsndt2 `dataset_q1`, where I will group the data on `state` and `make` column and also get their count in `Sales in Units` column."
   ]
  },
  {
   "cell_type": "code",
   "execution_count": null,
   "metadata": {},
   "outputs": [],
   "source": [
    "dataset_q2 = dataset.loc[(dataset['year'] >= (dataset['year'].max()-5))].copy()\n",
    "dataset_q2['sale_month_no'] = dataset_q2['saledate'].dt.month\n",
    "jsndt2 = dataset_q2.groupby ( ['sale_month','sale_month_no']).size().reset_index( name ='Sales in Units' )\n",
    "jsndt2 = jsndt2.sort_values(by='sale_month_no').reset_index(drop=True)\n",
    "jsndt2"
   ]
  },
  {
   "cell_type": "markdown",
   "metadata": {},
   "source": [
    "- Here I will be using plotly to create a bar graph for us\n",
    "- `fig` here is our Plotly figure object.\n",
    "- `epx.bar()` is the function we will be using to plot the graph.\n",
    "- `data` is the  we will be using for the figure.\n",
    "- `x` - we need to specify the column we want to plot on x-axis, in this case it's `make`.\n",
    "- `y` - we need to specify the column we want to plot on y-axis, in this case it's `Sales in Units`.\n",
    "- `color` - is based on which the color coding will be done.\n",
    "- `h` - is how we want to plot the bars. In this case h stands for horizontal\n",
    "- `title` is the title of the figure.\n",
    "- `labe's` - are the labels we want for each figure, in my case I have made it all caps for make and State.\n",
    "- `legend_title_text` - is the title we want to set the title of the legend as.\n",
    "- `width` and `height`is the pixel size of the figure. In this case 1300*1200px."
   ]
  },
  {
   "cell_type": "code",
   "execution_count": null,
   "metadata": {},
   "outputs": [],
   "source": [
    "jsnlin = epx.line(jsndt2, x = 'sale_month', y='Sales in Units', markers=True)\n",
    "jsnlin.update_traces(line={'width': 4})\n",
    "jsnlin.show()"
   ]
  },
  {
   "cell_type": "markdown",
   "metadata": {},
   "source": [
    "#####  <span style=\"font-weight: bold;\">&nbsp;&nbsp;&nbsp;&nbsp;&nbsp;&nbsp;💬&nbsp;&nbsp;Findings</span>"
   ]
  },
  {
   "cell_type": "markdown",
   "metadata": {},
   "source": [
    "- As we can in the diagram, the sales of the vehicles are high in the month of January, February and June.\n",
    "- It is just below 80k units in January.\n",
    "- The sales peak in February by 80k units.\n",
    "- There is a decline from march to April.\n",
    "- The sales rise steadily in May and June.\n",
    "- And then there is a decline again.\n",
    "\n",
    "- So, the company can hire more resources for sales so that they can make the maximum out of the customer buying behaviour. And they need to be mindful in April and July as the sales are 0 for these months."
   ]
  },
  {
   "cell_type": "markdown",
   "metadata": {},
   "source": []
  },
  {
   "cell_type": "markdown",
   "metadata": {},
   "source": [
    "####     ❓ <span style=\"font-weight: bold;\">3️⃣ Which make and model are better conditioned for the car purchased 5 years ago?</span>"
   ]
  },
  {
   "cell_type": "markdown",
   "metadata": {},
   "source": [
    "#####  <span style=\"font-weight: bold;\">&nbsp;&nbsp;&nbsp;&nbsp;&nbsp;&nbsp;💎&nbsp;&nbsp;Significance</span>"
   ]
  },
  {
   "cell_type": "markdown",
   "metadata": {},
   "source": [
    "1. This will show us whether make and model have anything to do with the condition of the vehicles.\n",
    "2. We will see which car and model has good condition.\n",
    "3. This will help the company in setting the price of the cars. If a cars condition is better for most of the users means that the car is welll built and hence can be sold for for a higher price."
   ]
  },
  {
   "cell_type": "markdown",
   "metadata": {},
   "source": [
    "#####  <span style=\"font-weight: bold;\">&nbsp;&nbsp;&nbsp;&nbsp;&nbsp;&nbsp;📟&nbsp;&nbsp;Code</span>"
   ]
  },
  {
   "cell_type": "markdown",
   "metadata": {},
   "source": [
    "- To maintain a standard we will consider the data in which saledate is older than 5 years.\n",
    "- I will first create a  for my question 2 i.e. `dataset_q2`. I will filter the data for column year is past 5 year of it's max.\n",
    "- Created a new column `sale_month_no` so that I can sort it based on month no.\n",
    "- Then I am grouping the data based on sale_month, and also getting a count for each month. \n",
    "- Sort the values based on `sale_month_no`.\n",
    "- I will create another  `data` using `dataset_q1`, where I will group the data on `state` and `make` column and also get their count in `Sales in Units` column."
   ]
  },
  {
   "cell_type": "code",
   "execution_count": null,
   "metadata": {},
   "outputs": [],
   "source": [
    "dataset_q3 = dataset.loc[(dataset['year'] <= (dataset['year'].max()-5)) & (dataset['year'] == (dataset['year'].max()-10))].copy()\n",
    "jsndt3 = dataset_q3.groupby ( ['make'])['condition'].mean().reset_index( name ='Avg Condition' )\n",
    "jsndt3['Avg Condition'] = jsndt3['Avg Condition'].round()\n",
    "jsndt3 = jsndt3.sort_values(by='Avg Condition',  ascending=False).reset_index(drop=True)\n",
    "jsndt3.head"
   ]
  },
  {
   "cell_type": "markdown",
   "metadata": {},
   "source": [
    "- Here I will be using seaborn to create a bar graph for us\n",
    "- `ppt` is pyplot\n",
    "- I have set the dpi as 300\n",
    "- best for seaborn sbrn I am passing our data `jsndt3`"
   ]
  },
  {
   "cell_type": "code",
   "execution_count": null,
   "metadata": {},
   "outputs": [],
   "source": [
    "ppt.figure(dpi=300)\n",
    "sbrn.barplot(jsndt3,y=\"Avg Condition\", x=\"make\")\n",
    "ppt.xticks(rotation=90)\n",
    "ppt.show()"
   ]
  },
  {
   "cell_type": "markdown",
   "metadata": {},
   "source": [
    "#####  <span style=\"font-weight: bold;\">&nbsp;&nbsp;&nbsp;&nbsp;&nbsp;&nbsp;💬&nbsp;&nbsp;Findings</span>"
   ]
  },
  {
   "cell_type": "markdown",
   "metadata": {},
   "source": [
    "- As we can in the Bar chart, the dataset for cars brought in the year 2005\n",
    "- Among all the car makers in average condition, Bently takes the crown being the best-maintained. The condition is the best at 36.\n",
    "- And the second car maker was the Hummer at 34.\n",
    "- Followed by Porche and Mercedes.\n",
    "\n",
    "- With this chart, my company will be able to build a better price strategy for the car makers. Now that they know which car brands are the better lasting they can set higher prices."
   ]
  },
  {
   "cell_type": "code",
   "execution_count": null,
   "metadata": {},
   "outputs": [],
   "source": []
  },
  {
   "cell_type": "markdown",
   "metadata": {},
   "source": [
    "####     ❓ <span style=\"font-weight: bold;\">4️⃣ What propotion of SUV sales have been taken up by each vehicle colors?</span>"
   ]
  },
  {
   "cell_type": "markdown",
   "metadata": {},
   "source": [
    "#####  <span style=\"font-weight: bold;\">&nbsp;&nbsp;&nbsp;&nbsp;&nbsp;&nbsp;💎&nbsp;&nbsp;Significance</span>"
   ]
  },
  {
   "cell_type": "markdown",
   "metadata": {},
   "source": [
    "1. This will show us the color preference of the customers in the market for SUV body type.\n",
    "2. This is will help the company is finding out what color is in demand.\n",
    "3. This is also help them in setting the re-sale price according to the demand."
   ]
  },
  {
   "cell_type": "markdown",
   "metadata": {},
   "source": [
    "#####  <span style=\"font-weight: bold;\">&nbsp;&nbsp;&nbsp;&nbsp;&nbsp;&nbsp;📟&nbsp;&nbsp;Code</span>"
   ]
  },
  {
   "cell_type": "markdown",
   "metadata": {},
   "source": [
    "- I will first create a dataset for my question 4 i.e. `dataset_q4`. I will filter the data for body.\n",
    "- Created a new column `propotion` which will have count of sales for each colors.\n",
    "- I will create another dataset `color_propotion` using `dataset_q4`, where I will devide the column `propotion` by total units to find a percentage.\n",
    "- And then we are going to present it in a form of pie chart."
   ]
  },
  {
   "cell_type": "code",
   "execution_count": null,
   "metadata": {},
   "outputs": [],
   "source": [
    "dataset_q4 = dataset.loc[(dataset['body'].str.upper() == 'SUV'),['body','color']].copy()\n",
    "dataset_q4\n",
    "color_propotion = dataset_q4.groupby(['color']).size().reset_index()\n",
    "color_propotion\n",
    "color_propotion['propotion'] = color_propotion[0]\n",
    "color_propotion\n",
    "color_propotion.drop(0,axis=1,inplace=True)\n",
    "total_vehicle_sales = dataset_q4.groupby(['body','color']).size().sum()\n",
    "color_propotion['propotion'] = (color_propotion['propotion']/total_vehicle_sales)*100\n",
    "color_propotion.sort_values(by='propotion', ascending=False)"
   ]
  },
  {
   "cell_type": "markdown",
   "metadata": {},
   "source": [
    "- Here I will be using plotly to create a pie chart to represent the color propotions."
   ]
  },
  {
   "cell_type": "code",
   "execution_count": null,
   "metadata": {},
   "outputs": [],
   "source": [
    "colors = color_propotion['color']\n",
    "proportion = color_propotion['propotion']\n",
    "ppt.figure(figsize=(10,10))\n",
    "ppt.pie(proportion, labels=colors, autopct='%1.1f%%', startangle=140)\n",
    "ppt.title('Proportion of SUV Sales by Color') \n",
    "ppt.show()\n"
   ]
  },
  {
   "cell_type": "markdown",
   "metadata": {},
   "source": [
    "#####  <span style=\"font-weight: bold;\">&nbsp;&nbsp;&nbsp;&nbsp;&nbsp;&nbsp;💬&nbsp;&nbsp;Findings</span>"
   ]
  },
  {
   "cell_type": "markdown",
   "metadata": {},
   "source": [
    "- The sale of color `black` is the most prominent, constituting of 21.8% of the sales.\n",
    "- Followed by `white` and `silver` which is 17.32% and 15.0% of the sales respectively.\n",
    "- With this pie chart we come to know the color preferences of the users.\n",
    "- This will help the company in developing product, sales and inventory management decisions."
   ]
  },
  {
   "cell_type": "markdown",
   "metadata": {},
   "source": [
    "####     ❓ <span style=\"font-weight: bold;\">5️⃣ What is the co-relation between odometer reading and the percentage decrease from selling price to MMR of the car?</span>"
   ]
  },
  {
   "cell_type": "markdown",
   "metadata": {},
   "source": [
    "#####  <span style=\"font-weight: bold;\">&nbsp;&nbsp;&nbsp;&nbsp;&nbsp;&nbsp;💎&nbsp;&nbsp;Significance</span>"
   ]
  },
  {
   "cell_type": "markdown",
   "metadata": {},
   "source": [
    "1. This will show us whether odometer reading have any connections for the MMR of the car.\n",
    "2. This will help the company to set pricing strategies accordingly."
   ]
  },
  {
   "cell_type": "markdown",
   "metadata": {},
   "source": [
    "#####  <span style=\"font-weight: bold;\">&nbsp;&nbsp;&nbsp;&nbsp;&nbsp;&nbsp;📟&nbsp;&nbsp;Code</span>"
   ]
  },
  {
   "cell_type": "markdown",
   "metadata": {},
   "source": [
    "- I will first create a dataset for my question i.e. `dataset_q5`. I will filter the data for body.\n",
    "- I will sample only the last 200 entries to simplify it for us.\n"
   ]
  },
  {
   "cell_type": "code",
   "execution_count": null,
   "metadata": {},
   "outputs": [],
   "source": [
    "dataset_q5 = dataset[['odometer','sellingprice','mmr']].sample(n=200, random_state=59)\n",
    "# dataset_q5['price_decrease_percentage'] = round(((dataset['sellingprice'] - dataset['mmr'])/dataset['sellingprice'])*100)\n",
    "dataset_q5"
   ]
  },
  {
   "cell_type": "markdown",
   "metadata": {},
   "source": [
    "- Here I will be using seaborn to create a scatter plotto represent the relationship."
   ]
  },
  {
   "cell_type": "code",
   "execution_count": null,
   "metadata": {},
   "outputs": [],
   "source": [
    "ppt.figure(dpi=150)\n",
    "sbrn.scatterplot(data=dataset_q5, x=\"odometer\", y=\"mmr\")\n",
    "ppt.show()"
   ]
  },
  {
   "cell_type": "markdown",
   "metadata": {},
   "source": [
    "#####  <span style=\"font-weight: bold;\">&nbsp;&nbsp;&nbsp;&nbsp;&nbsp;&nbsp;💬&nbsp;&nbsp;Findings</span>"
   ]
  },
  {
   "cell_type": "markdown",
   "metadata": {},
   "source": [
    "- In this diagram, you can see that there is a clear relationship between selling price and odometer reading.\n",
    "- By this figure, we can easily say that they are both inversely proportional.\n",
    "- If the odometer reading is high then generally the selling price is low.\n",
    "- If the odometer reading is low then generally the selling price is very high.\n",
    "- With this details my company can clearly find what price needs to be set. They can put a linear regression an find an average price."
   ]
  },
  {
   "cell_type": "code",
   "execution_count": null,
   "metadata": {},
   "outputs": [],
   "source": []
  },
  {
   "cell_type": "markdown",
   "metadata": {},
   "source": [
    "####     ❓ <span style=\"font-weight: bold;\">6️⃣ Find if there is a relation between the condition of the vehicle and the MMR of the cars sold in the year 2014</span>"
   ]
  },
  {
   "cell_type": "markdown",
   "metadata": {},
   "source": [
    "#####  <span style=\"font-weight: bold;\">&nbsp;&nbsp;&nbsp;&nbsp;&nbsp;&nbsp;💎&nbsp;&nbsp;Significance</span>"
   ]
  },
  {
   "cell_type": "markdown",
   "metadata": {},
   "source": [
    "1. This will show us whether odometer reading have any connections for the MMR of the car.\n",
    "2. This will help the company to set pricing strategies accordingly."
   ]
  },
  {
   "cell_type": "markdown",
   "metadata": {},
   "source": [
    "#####  <span style=\"font-weight: bold;\">&nbsp;&nbsp;&nbsp;&nbsp;&nbsp;&nbsp;📟&nbsp;&nbsp;Code</span>"
   ]
  },
  {
   "cell_type": "markdown",
   "metadata": {},
   "source": [
    "- I will first create a dataset for my question i.e. `dataset_q5`. I will filter the data for body.\n",
    "- I will sample only the last 200 entries to simplify it.\n"
   ]
  },
  {
   "cell_type": "code",
   "execution_count": null,
   "metadata": {},
   "outputs": [],
   "source": [
    "dataset_q6 = dataset[['condition', 'mmr']][dataset['sale_year'] == 2014]\n",
    "dataset_q6"
   ]
  },
  {
   "cell_type": "markdown",
   "metadata": {},
   "source": [
    "- Here I will be using seaborn to create a scatter plot to represent the relationship."
   ]
  },
  {
   "cell_type": "code",
   "execution_count": null,
   "metadata": {},
   "outputs": [],
   "source": [
    "ppt.figure(dpi=100)\n",
    "sbrn.scatterplot(data=dataset_q6, x=\"condition\", y=\"mmr\")\n",
    "ppt.show()"
   ]
  },
  {
   "cell_type": "markdown",
   "metadata": {},
   "source": [
    "#####  <span style=\"font-weight: bold;\">&nbsp;&nbsp;&nbsp;&nbsp;&nbsp;&nbsp;💬&nbsp;&nbsp;Findings</span>"
   ]
  },
  {
   "cell_type": "markdown",
   "metadata": {},
   "source": [
    "- In this diagram, we cannot see a clear connection between the condition of the vehicle and its market value of the car.\n",
    "- There are cars where condition is low but the selling price is high as well.\n",
    "- This is not giving us a clear picture."
   ]
  },
  {
   "cell_type": "code",
   "execution_count": null,
   "metadata": {},
   "outputs": [],
   "source": []
  },
  {
   "cell_type": "markdown",
   "metadata": {},
   "source": [
    "####     ❓ <span style=\"font-weight: bold;\">7️⃣ What is the interior color preference of the buyers for Mercedes, Lamborghini, Ford and Chevrolet made cars?</span>"
   ]
  },
  {
   "cell_type": "markdown",
   "metadata": {},
   "source": [
    "#####  <span style=\"font-weight: bold;\">&nbsp;&nbsp;&nbsp;&nbsp;&nbsp;&nbsp;💎&nbsp;&nbsp;Significance</span>"
   ]
  },
  {
   "cell_type": "markdown",
   "metadata": {},
   "source": [
    "1. Mercedes, Lamborghini, Ford and Chevrolet are the top resold cars for my company.\n",
    "2. Hence they want to give their customer options based on their preference.\n",
    "3. This will show us the preference for interior colour.\n",
    "4. When reselling the cars my company usually modifies and at this time if they have this data they will able to attract our customers better by giving the option of colours which they like."
   ]
  },
  {
   "cell_type": "markdown",
   "metadata": {},
   "source": [
    "#####  <span style=\"font-weight: bold;\">&nbsp;&nbsp;&nbsp;&nbsp;&nbsp;&nbsp;📟&nbsp;&nbsp;Code</span>"
   ]
  },
  {
   "cell_type": "markdown",
   "metadata": {},
   "source": [
    "- I will first create a dataset for my question i.e. `dataset_q5`. I will filter the data for for the makers."
   ]
  },
  {
   "cell_type": "code",
   "execution_count": null,
   "metadata": {},
   "outputs": [],
   "source": [
    "dataset_q7 = dataset[['make', 'interior']][dataset['make'].isin(['mercedes','lamborghini','ford','chevrolet'])]\n",
    "dataset_q7"
   ]
  },
  {
   "cell_type": "markdown",
   "metadata": {},
   "source": [
    "- Here I will be using seaborn violin chart to  plot and represent the preference."
   ]
  },
  {
   "cell_type": "code",
   "execution_count": null,
   "metadata": {},
   "outputs": [],
   "source": [
    "ppt.figure(dpi=300)\n",
    "sbrn.violinplot(data=grouped_df, x=\"make\", y=\"interior\")"
   ]
  },
  {
   "cell_type": "markdown",
   "metadata": {},
   "source": [
    "#####  <span style=\"font-weight: bold;\">&nbsp;&nbsp;&nbsp;&nbsp;&nbsp;&nbsp;💬&nbsp;&nbsp;Findings</span>"
   ]
  },
  {
   "cell_type": "markdown",
   "metadata": {},
   "source": [
    "- In this diagram, we can see that there is a clear preference of black-colored interior.\n",
    "- For lamborghini we have very less data to analyze, but out of what we have only black color interiors are preffered.\n",
    "- And the second most preffered color for chevrolet, ford and mercedes is color grey."
   ]
  },
  {
   "cell_type": "code",
   "execution_count": null,
   "metadata": {},
   "outputs": [],
   "source": []
  },
  {
   "cell_type": "markdown",
   "metadata": {},
   "source": [
    "<a id='conclusion'></a>\n",
    "## 💡 <span style=\"color: #20479b; font-weight: bold;\">Conclusion</span>"
   ]
  },
  {
   "cell_type": "markdown",
   "metadata": {},
   "source": [
    "To summarize everythin we did\n",
    "- we started with loading the dataset\n",
    "- In our eda we noticed that\n",
    "    - identity column was unnessary.\n",
    "    - body_mass_index column had null values.\n",
    "    - dataset was pretty imbalanced.\n",
    "- cleaned the data, by deleting null rows, dropping identity column, and split the data to avoid data leakage.\n",
    "- And then we scaled the numerical and categorical values.\n",
    "- oversampled the data using smote.\n",
    "\n",
    "I tried 5 different model. Out of which `random forest classifier` and `xgboost` model performed the best.  \n",
    "I tuned tuned the hyper parameters using `gridsearchCV` and found that amond both the models, `random forest classifier` outperformed `xgboost` slightly.\n",
    "\n",
    "As per the valuation metrics I  found `random forest classifier` with `{'C': 1.4, 'degree': 4, 'kernel': 'poly'}` parameters provided the best with pretty good acccuracy of 93%.\n",
    "\n",
    "With this model in place, now my company can use this model to take inputs from the users and prompt them if there are chances of getting a stroke for them. This solves the problem that we stated before. This will significantly help the users in reducing the rist of strokes, and notify them to get medical help as soon as possible.\n",
    "\n",
    "I felt that if the data has more parametrics we could have improved more. Also `body_mass_index` of a person does impact on the chances of getting an stroke, but in this dataset it did not show the signs of it. Hence it will be better if data collection is done even more accurately to improve the accuracy of the model."
   ]
  }
 ],
 "metadata": {
  "language_info": {
   "name": "python"
  }
 },
 "nbformat": 4,
 "nbformat_minor": 4
}
