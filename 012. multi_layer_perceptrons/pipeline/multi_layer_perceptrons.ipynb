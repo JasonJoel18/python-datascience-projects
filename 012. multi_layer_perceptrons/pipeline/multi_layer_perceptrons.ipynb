{
 "cells": [
  {
   "cell_type": "markdown",
   "id": "9330c94d",
   "metadata": {},
   "source": [
    "# Multilayer Perceptrons\n",
    "You should build an end-to-end machine learning pipeline using a multilayer perceptron model. In particular, you should do the following:\n",
    "- Load the `mnist` dataset using [Pandas](https://pandas.pydata.org/docs/reference/api/pandas.read_csv.html). You can find this dataset in the datasets folder.\n",
    "- Split the dataset into training and test sets using [Scikit-Learn](https://scikit-learn.org/stable/modules/generated/sklearn.model_selection.train_test_split.html).\n",
    "- Build an end-to-end machine learning pipeline, including a [multilayer perceptron](https://scikit-learn.org/stable/modules/generated/sklearn.neural_network.MLPClassifier.html) model.\n",
    "- Optimize your pipeline by validating your design decisions. \n",
    "- Test the best pipeline on the test set and report various [evaluation metrics](https://scikit-learn.org/0.15/modules/model_evaluation.html).  \n",
    "- Check the documentation to identify the most important hyperparameters, attributes, and methods of the model. Use them in practice."
   ]
  },
  {
   "cell_type": "code",
   "execution_count": null,
   "id": "96df522f",
   "metadata": {},
   "outputs": [],
   "source": [
    "import pandas as pd\n",
    "import numpy as np\n",
    "import matplotlib.pyplot as pt\n",
    "import seaborn as sns\n",
    "%matplotlib inline\n",
    "from sklearn.preprocessing import OneHotEncoder, StandardScaler\n",
    "from sklearn.compose import ColumnTransformer\n",
    "from sklearn.linear_model import SGDClassifier\n",
    "from sklearn.model_selection import GridSearchCV\n",
    "from sklearn.metrics import accuracy_score, classification_report\n",
    "from sklearn.model_selection import train_test_split"
   ]
  },
  {
   "cell_type": "code",
   "execution_count": null,
   "id": "78d2ada1-ee69-497b-ade5-21a1b6231d80",
   "metadata": {},
   "outputs": [],
   "source": [
    "df = pd.read_csv('https://raw.githubusercontent.com/m-mahdavi/teaching/main/datasets/mnist.csv')\n",
    "df.head(5)"
   ]
  },
  {
   "cell_type": "code",
   "execution_count": null,
   "id": "f92e5fe0-3cc2-4f8a-bce1-dbc67562a4dc",
   "metadata": {},
   "outputs": [],
   "source": [
    "df.isna().sum()"
   ]
  },
  {
   "cell_type": "code",
   "execution_count": null,
   "id": "c7b42c4b-6987-42fe-9371-928392077f88",
   "metadata": {},
   "outputs": [],
   "source": [
    "df[df.duplicated()]"
   ]
  },
  {
   "cell_type": "code",
   "execution_count": null,
   "id": "fe9b0b23-2a8a-4d10-a6a0-251911adffb7",
   "metadata": {},
   "outputs": [],
   "source": [
    "X = df.drop('class',axis=1)\n",
    "X.sample(5)"
   ]
  },
  {
   "cell_type": "code",
   "execution_count": null,
   "id": "77281889-8a8a-465b-ae92-56bc5395de71",
   "metadata": {},
   "outputs": [],
   "source": [
    "y = df['class']\n",
    "y.sample(5)"
   ]
  },
  {
   "cell_type": "code",
   "execution_count": null,
   "id": "6287a7ea-1c57-4a3a-ad65-51f3d49ea054",
   "metadata": {},
   "outputs": [],
   "source": [
    "X_train, X_test, y_train, y_test = train_test_split(X,y,random_state=42)"
   ]
  },
  {
   "cell_type": "code",
   "execution_count": null,
   "id": "166b76af-f092-467a-adea-1c09fc426421",
   "metadata": {},
   "outputs": [],
   "source": [
    "print(f'The X_train size is : {X_train.shape}')\n",
    "print(f'The X_test size is  : {X_test.shape}')\n",
    "print(f'The y_train size is : {y_train.shape}')\n",
    "print(f'The y_test size is  : {y_test.shape}')"
   ]
  },
  {
   "cell_type": "code",
   "execution_count": null,
   "id": "7a5129c2-1927-4056-b78f-ee8d2956efaf",
   "metadata": {},
   "outputs": [],
   "source": [
    "categorical_attributes = X_train.select_dtypes(['object']).columns\n",
    "numerical_attributes = X_train.select_dtypes(['int64','float64']).columns"
   ]
  },
  {
   "cell_type": "code",
   "execution_count": null,
   "id": "91c2c29b-b001-42ff-b9a1-9848af955c1c",
   "metadata": {},
   "outputs": [],
   "source": [
    "ct = ColumnTransformer ([\n",
    "    ('OneHotEncoder',OneHotEncoder(handle_unknown='ignore'),categorical_attributes),\n",
    "    ('StandardScaler',StandardScaler(),numerical_attributes)\n",
    "     ])\n",
    "\n",
    "x_train = ct.fit_transform(X_train)\n",
    "x_test = ct.fit_transform(X_test)"
   ]
  },
  {
   "cell_type": "code",
   "execution_count": null,
   "id": "2e74a5bc-7af0-4d2e-9c13-d9ff9c11b689",
   "metadata": {},
   "outputs": [],
   "source": [
    "sgd_clf = SGDClassifier()"
   ]
  },
  {
   "cell_type": "code",
   "execution_count": null,
   "id": "32f52a21-8831-4761-9452-4c206cfbdd50",
   "metadata": {},
   "outputs": [],
   "source": [
    "param_grid = {\n",
    "    'loss' : ['hinge','log_loss'],\n",
    "    'penalty' : ['l2', 'l1'],\n",
    "    'alpha' : [0.0001,0.001,0.01]\n",
    "}"
   ]
  },
  {
   "cell_type": "code",
   "execution_count": null,
   "id": "42d49f4b-3f6d-4ebe-97cf-578e77c5a9db",
   "metadata": {},
   "outputs": [],
   "source": [
    "grid_search = GridSearchCV(sgd_clf, param_grid, cv=2, scoring='accuracy', n_jobs=1)"
   ]
  },
  {
   "cell_type": "code",
   "execution_count": null,
   "id": "1ca1710e-ead7-49cd-a953-e1379e261653",
   "metadata": {},
   "outputs": [],
   "source": [
    "grid_search.fit(x_train,y_train)"
   ]
  },
  {
   "cell_type": "code",
   "execution_count": null,
   "id": "25eacff3-b3de-464a-b9c9-77275b0687d4",
   "metadata": {},
   "outputs": [],
   "source": []
  },
  {
   "cell_type": "code",
   "execution_count": null,
   "id": "0ef3658d-53d3-44df-9d8f-d1cb88f4da50",
   "metadata": {},
   "outputs": [],
   "source": [
    "best_model = grid_search.best_estimator_\n",
    "best_params = grid_search.best_params_\n",
    "best_score = grid_search.best_score_\n",
    "\n",
    "print(f'Best model : {best_model}')\n",
    "print(f'Best params : {best_params}')\n",
    "print(f'Best score  : {best_score}')"
   ]
  },
  {
   "cell_type": "code",
   "execution_count": null,
   "id": "b03ee504-c966-4da7-b269-058073e90bec",
   "metadata": {},
   "outputs": [],
   "source": [
    "y_pred = best_model.predict(x_test)\n",
    "\n",
    "accuracy = accuracy_score(y_test, y_pred)\n",
    "print('Accuracy:', accuracy)\n",
    "\n",
    "print('Classification Report:')\n",
    "print(classification_report(y_test,y_pred))"
   ]
  }
 ],
 "metadata": {
  "language_info": {
   "name": "python"
  }
 },
 "nbformat": 4,
 "nbformat_minor": 5
}
