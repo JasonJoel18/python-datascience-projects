{
 "cells": [
  {
   "cell_type": "markdown",
   "id": "88f47b73",
   "metadata": {},
   "source": [
    "# Ensemble Learning\n",
    "You should build a machine learning pipeline using an ensemble learning model. In particular, you should do the following:\n",
    "- Load the `mnist` dataset using [Pandas](https://pandas.pydata.org/docs/reference/api/pandas.read_csv.html). You can find this dataset in the datasets folder.\n",
    "- Split the dataset into training and test sets using [Scikit-Learn](https://scikit-learn.org/stable/modules/generated/sklearn.model_selection.train_test_split.html). \n",
    "- Conduct data exploration, data preprocessing, and feature engineering if necessary. \n",
    "- Train and test an ensemble learning model, such as [random forest](https://scikit-learn.org/stable/modules/generated/sklearn.ensemble.RandomForestClassifier.html) or [gradient boosting](https://scikit-learn.org/stable/modules/generated/sklearn.ensemble.GradientBoostingClassifier.html).\n",
    "- Check the documentation to identify the most important hyperparameters, attributes, and methods of the model. Use them in practice."
   ]
  },
  {
   "cell_type": "code",
   "execution_count": null,
   "id": "08a7a1c5",
   "metadata": {},
   "outputs": [],
   "source": [
    "import pandas as pd\n",
    "import numpy as np\n",
    "import sklearn.model_selection\n",
    "import sklearn.compose\n",
    "import sklearn.preprocessing\n",
    "import sklearn.tree\n",
    "import sklearn.metrics\n",
    "from sklearn.metrics import accuracy_score,classification_report\n",
    "from sklearn import tree\n",
    "import matplotlib.pyplot as plt"
   ]
  },
  {
   "cell_type": "code",
   "execution_count": null,
   "id": "f6db2819",
   "metadata": {},
   "outputs": [],
   "source": [
    "df = pd.read_csv('https://raw.githubusercontent.com/m-mahdavi/teaching/main/datasets/mnist.csv')\n",
    "df.head()"
   ]
  },
  {
   "cell_type": "code",
   "execution_count": null,
   "id": "59763f6d",
   "metadata": {},
   "outputs": [],
   "source": [
    "x = df.drop(['id','class'],axis=1)\n",
    "y = df['class']\n",
    "\n",
    "x_train, x_test, y_train, y_test = sklearn.model_selection.train_test_split(x,y)\n",
    "\n",
    "print(\"df size:\",df.shape)\n",
    "print(\"df train size:\",x_train.shape)\n",
    "print(\"df test size:\",x_test.shape)"
   ]
  },
  {
   "cell_type": "code",
   "execution_count": null,
   "id": "48c44633",
   "metadata": {},
   "outputs": [],
   "source": []
  },
  {
   "cell_type": "markdown",
   "id": "c319dd9b",
   "metadata": {},
   "source": [
    "### DATA EXPLORATION"
   ]
  },
  {
   "cell_type": "markdown",
   "id": "97080f51",
   "metadata": {},
   "source": []
  },
  {
   "cell_type": "code",
   "execution_count": null,
   "id": "6ee619de",
   "metadata": {},
   "outputs": [],
   "source": [
    "# Data Overview\n",
    "print(\"Dataset dimensions:\", x_train.shape)\n",
    "print(\"Number of samples:\", len(x_train))\n",
    "print(\"Image dimensions:\", (28, 28))\n",
    "print(\"Classes:\", np.unique(y_train))\n",
    "print(\"Class distribution:\", np.bincount(y_train))"
   ]
  },
  {
   "cell_type": "code",
   "execution_count": null,
   "id": "b123d244",
   "metadata": {},
   "outputs": [],
   "source": [
    "numerical_attributes = x_train.select_dtypes(include=\"int64\").columns.tolist()\n",
    "\n",
    "ct = sklearn.compose.ColumnTransformer([('standard_scaling', sklearn.preprocessing.StandardScaler(),numerical_attributes)],remainder='passthrough')\n",
    "ct.fit(x_train)\n",
    "x_train = ct.transform(x_train)\n",
    "x_test = ct.transform(x_test)"
   ]
  },
  {
   "cell_type": "code",
   "execution_count": null,
   "id": "6b0ad15b",
   "metadata": {},
   "outputs": [],
   "source": [
    "from sklearn.ensemble import RandomForestClassifier\n",
    "RFmodel = RandomForestClassifier(criterion='gini',max_depth=10)\n",
    "RFmodel.fit(x_train,y_train)"
   ]
  },
  {
   "cell_type": "code",
   "execution_count": null,
   "id": "df9162cf",
   "metadata": {},
   "outputs": [],
   "source": [
    "y_predicted = RFmodel.predict(x_test)\n",
    "Cresult = sklearn.metrics.classification_report(y_test,y_predicted)\n",
    "print(Cresult)\n",
    "\n",
    "Aresult = sklearn.metrics.accuracy_score(y_test,y_predicted)\n",
    "print(Aresult)"
   ]
  }
 ],
 "metadata": {
  "language_info": {
   "name": "python"
  }
 },
 "nbformat": 4,
 "nbformat_minor": 5
}
