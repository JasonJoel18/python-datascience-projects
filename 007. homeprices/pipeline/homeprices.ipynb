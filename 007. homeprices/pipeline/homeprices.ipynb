{
 "cells": [
  {
   "cell_type": "markdown",
   "metadata": {},
   "source": [
    "1. Import the pandas library, aliased as `pd`.\n",
    "2. Import the numpy library, aliased as `np`.\n",
    "3. Import the pyplot module from the matplotlib library, aliased as `plt`.\n",
    "\n",
    "\n",
    "    ### Choice of Linear Regression:\n",
    "    Linear regression is a common and simple approach to modeling the relationship between a dependent variable and one or more independent variables. I have chosen it for this model due to it's simplicity, interpretability, and effectiveness in modeling linear relationships in data.\n"
   ]
  },
  {
   "cell_type": "code",
   "execution_count": null,
   "metadata": {},
   "outputs": [],
   "source": [
    "import pandas as pd\n",
    "import numpy as numpy\n",
    "import matplotlib.pyplot as plt\n",
    "from sklearn import linear_model"
   ]
  },
  {
   "cell_type": "markdown",
   "metadata": {},
   "source": [
    "### Explanation:\n",
    "Loading data from a CSV file named \"homeprices.csv\" into a pandas DataFrame named `df`. This dataset likely contains information about home prices, as suggested by the file name. By loading the data into a DataFrame, we can easily manipulate, analyze, and visualize the data using pandas and other Python libraries. This step is crucial for data analysis and modeling tasks, as it provides access to the dataset for further exploration and processing.\n"
   ]
  },
  {
   "cell_type": "code",
   "execution_count": null,
   "metadata": {},
   "outputs": [],
   "source": [
    "df = pd.read_csv(\"/Users/jasonjoelpinto/Documents/GitHub/python-datascience-projects/007. homeprices/dataset/homeprices.csv\")\n",
    "df"
   ]
  },
  {
   "cell_type": "markdown",
   "metadata": {},
   "source": [
    "### Explanation:\n",
    "\n",
    "1. `%matplotlib inline`:\n",
    "   - This line ensures that plots appear directly within the Jupyter Notebook, making visualization seamless and interactive.\n",
    "\n",
    "2. `plt.xlabel('area in sqft')`:\n",
    "   - Sets the label for the x-axis as \"area in sqft\", indicating the size of properties in square feet.\n",
    "\n",
    "3. `plt.ylabel('price in euros (€)')`:\n",
    "   - Sets the label for the y-axis as \"price in euros (€)\", denoting the price of properties in euros.\n",
    "\n",
    "4. `plt.scatter(df.area, df.price, color='black')`:\n",
    "   - Generates a scatter plot using property data from DataFrame `df`, where:\n",
    "     - The x-axis represents property areas.\n",
    "     - The y-axis represents property prices.\n",
    "     - Each point on the plot represents a property, with black dots highlighting the data points.\n",
    "\n",
    "### Summary:\n",
    "These lines create a simple scatter plot to visualize the relationship between property areas and prices. It helps beginners understand how prices vary with property sizes, aiding in data exploration and pattern identification.\n"
   ]
  },
  {
   "cell_type": "code",
   "execution_count": null,
   "metadata": {},
   "outputs": [],
   "source": [
    "%matplotlib inline\n",
    "plt.xlabel('area in sqft',fontsize=15)\n",
    "plt.ylabel('price in euros (€)',fontsize=15)\n",
    "plt.scatter(df.area,df.price, color='black')"
   ]
  },
  {
   "cell_type": "markdown",
   "metadata": {},
   "source": [
    "### Explanation:\n",
    "\n",
    "1. `reg = linear_model.LinearRegression()`:\n",
    "   - This line creates a linear regression model object named `reg` using scikit-learn's `LinearRegression()` class.\n",
    "   - Linear regression is a simple and widely-used technique for modeling the relationship between a dependent variable and one or more independent variables.\n",
    "2. `reg.fit(df[['area']],df[['price']])`\n",
    "   - This line I am fitting the data to the linear regression model so that it can train. So in this case I will have to pass two arguments. i.e `df.area` and `df.price`.\n"
   ]
  },
  {
   "cell_type": "code",
   "execution_count": null,
   "metadata": {},
   "outputs": [],
   "source": [
    "reg = linear_model.LinearRegression()\n",
    "reg.fit(df[['area']],df[['price']])"
   ]
  },
  {
   "cell_type": "markdown",
   "metadata": {},
   "source": [
    "### Explanation:\n",
    "\n",
    "1. `reg.predict([[3300]])`:\n",
    "   - This line predicts the price of a property with an area of 3300 square feet using the linear regression model `reg` that was previously created.\n",
    "   - The `predict()` method takes an array-like object containing the features (in this case, the area of the property) and returns the predicted target variable (price) based on the fitted model.\n"
   ]
  },
  {
   "cell_type": "code",
   "execution_count": null,
   "metadata": {},
   "outputs": [],
   "source": [
    "reg.predict([[3300]])"
   ]
  },
  {
   "cell_type": "markdown",
   "metadata": {},
   "source": [
    "Now let us check the coefficient values i.e\n",
    "- In `y = mx + b`\n",
    "- When we pass `x,y` to the model, it will find the `m(slope/coefficient)` and `b(intercept)`.\n",
    "- When we passed `3300` as `x` to the model. Using the `m` and `b` which it had found in the model. It predicts `y` for us. In this case it was `628715.75342466`.\n",
    "- Now let's find that is m(slope/coefficient) and b intercept."
   ]
  },
  {
   "cell_type": "code",
   "execution_count": null,
   "metadata": {},
   "outputs": [],
   "source": [
    "reg.coef_"
   ]
  },
  {
   "cell_type": "code",
   "execution_count": null,
   "metadata": {},
   "outputs": [],
   "source": [
    "reg.intercept_"
   ]
  },
  {
   "cell_type": "markdown",
   "metadata": {},
   "source": [
    "area x = 3300 \n",
    "price y - ? price we need to findd\n",
    "\n",
    "So the formula will be `y = mx + b`\n",
    "m = reg.coef_\n",
    "b = reg.intercept_\n",
    "If we replace it will be `y = reg.coef_ * x + reg.intercept_`"
   ]
  },
  {
   "cell_type": "code",
   "execution_count": null,
   "metadata": {},
   "outputs": [],
   "source": [
    "x = 3300\n",
    "\n",
    "print(reg.predict([[3300]]))\n",
    "\n",
    "y = (reg.coef_ * x) + reg.intercept_\n",
    "print(y)"
   ]
  },
  {
   "cell_type": "markdown",
   "metadata": {},
   "source": [
    "It's exactly the same as our model predited. Yayy!!!"
   ]
  },
  {
   "cell_type": "markdown",
   "metadata": {},
   "source": [
    "Now let try to predict the price of the area which we have in area.csv"
   ]
  },
  {
   "cell_type": "code",
   "execution_count": null,
   "metadata": {},
   "outputs": [],
   "source": [
    "df2 = pd.read_csv('/Users/jasonjoelpinto/Documents/GitHub/python-datascience-projects/007. homeprices/dataset/area.csv')\n",
    "df2"
   ]
  },
  {
   "cell_type": "code",
   "execution_count": null,
   "metadata": {},
   "outputs": [],
   "source": [
    "reg.predict(df2[['area']])\n",
    "# OR\n",
    "reg.predict(df2)"
   ]
  },
  {
   "cell_type": "markdown",
   "metadata": {},
   "source": [
    "Now let's store the result in variable p\n",
    "and then add it to "
   ]
  },
  {
   "cell_type": "code",
   "execution_count": null,
   "metadata": {},
   "outputs": [],
   "source": [
    "p = reg.predict(df2)\n",
    "df2['price'] = p\n",
    "df2"
   ]
  },
  {
   "cell_type": "markdown",
   "metadata": {},
   "source": [
    "Exporting the values to prediction.csv"
   ]
  },
  {
   "cell_type": "code",
   "execution_count": null,
   "metadata": {},
   "outputs": [],
   "source": [
    "df2.to_csv('/Users/jasonjoelpinto/Documents/GitHub/python-datascience-projects/007. homeprices/dataset/prediction.csv')\n"
   ]
  },
  {
   "cell_type": "markdown",
   "metadata": {},
   "source": [
    "Now I want to plot the scatter plot, but additonally want to add the predition line it it"
   ]
  },
  {
   "cell_type": "code",
   "execution_count": null,
   "metadata": {},
   "outputs": [],
   "source": [
    "%matplotlib inline\n",
    "plt.xlabel('area in sqft',fontsize=15)\n",
    "plt.ylabel('price in euros (€)',fontsize=15)\n",
    "plt.scatter(df.area,df.price, color='black')\n",
    "plt.plot(df.area,reg.predict(df[['area']]),color='blue')"
   ]
  }
 ],
 "metadata": {},
 "nbformat": 4,
 "nbformat_minor": 2
}
