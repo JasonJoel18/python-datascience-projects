{
 "cells": [
  {
   "cell_type": "markdown",
   "metadata": {},
   "source": [
    "<a id='top'></a>\n",
    "<h1 style=\"display: flex; align-items: center; justify-content: center; font-weight: bold; font-size: 2em; padding: 10px; border: 2px solid #20479b; border-radius: 5px;\">\n",
    "  <img src=\"data:image/png;base64,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\" alt=\"\" style=\"height: 2.5em; margin-right: 15px;\">\n",
    "  Twitter Post Classification\n",
    "</h1>"
   ]
  },
  {
   "cell_type": "markdown",
   "metadata": {},
   "source": []
  },
  {
   "cell_type": "markdown",
   "metadata": {},
   "source": [
    "## 👋🏼 **Introduction**\n",
    "\n",
    "<p style=\"text-align: justify;\">I am a data scientist. And my company wants me to build and NLP pipeline where it wants me to categorize the tweets as racist/sexist or not. The problem that currently we are facing is that there are many people on twitter which is now X, where they do now have someone to talk to when they get suicidical taughts. They generally pen down their taughts online. So our company want to help these people someone. And first problem that we have to we do not have model which can predict this wethere the tweets are related to suicide or not.</p>\n",
    "\n",
    "## 🧿 **Objective**\n",
    " <p style=\"text-align: justify;\">The objective of this project is that I will have to build a module which will try to classify the category of tweets. For this my company has given me a dataset which is in csv format. It has two columns, tweet and the suicide. Suicide column has labels whether the tweets are suicidical or not. So I will be using these data in the csv file and building an NLP model. Firstly I will be going through the full csv dataset and trying to remove the unwanted data. And then using these data I will be building a model. I will also be doing several experiments in order to improve the performance of the model. I will check if our dataset is balanced and if there is a requirement to increase the dataset so that our model can learn better from the data. Then I will choose the best-performing model to build my final model with the best-suited parameters.\n",
    " </p>\n",
    "\n",
    "**About the data**  \n",
    "This dataset contains 2 columns. This data set is from Kaggle. You can [**click here**](https://www.kaggle.com/datasets/aunanya875/suicidal-tweet-detection-dataset) to view the dataset on kaggle."
   ]
  },
  {
   "cell_type": "code",
   "execution_count": null,
   "metadata": {},
   "outputs": [],
   "source": []
  },
  {
   "cell_type": "markdown",
   "metadata": {},
   "source": [
    "## 🗺️ **Notebook Navigation**\n",
    "Note: In the below Table of content you will find all the steps that I am following to build this nlp model. \n",
    "You can click on each step, and it will take you to those steps.\n",
    "\n",
    "Also, there will be two buttons in each steps. i.e. 🔝 and 📜.\n",
    "1. 🔝 will take you to the top of the notebook\n",
    "2. 📜 will take you to Table of Content."
   ]
  },
  {
   "cell_type": "markdown",
   "metadata": {},
   "source": []
  },
  {
   "cell_type": "markdown",
   "metadata": {},
   "source": [
    "<a id='toc'></a>\n",
    "<div style=\"background-color: #f0f0f0; border: 1px solid #ccc; padding: 10px; border-radius: 5px; position: relative;\">\n",
    "    <a href=\"#top\" style=\"position: absolute; top: 0px; right: 10px; text-decoration: none; font-size: 24px; margin-left: 10px;\">🔝</a>\n",
    "    <h2 style=\"color: #20479b; font-weight: bold;\">📜 Table of Content</h2>\n",
    "    <ul style=\"list-style-type: none; padding-left: 0;\">\n",
    "        <li style=\"margin-bottom: 5px;\">\n",
    "            <a href=\"#library\" style=\"text-decoration: none; color: #333;\">\n",
    "                ⬇ <strong>Importing Libraries</strong>\n",
    "            </a>\n",
    "        </li>\n",
    "        <li style=\"margin-bottom: 5px;\">\n",
    "            <a href=\"#dataset\" style=\"text-decoration: none; color: #333;\">\n",
    "                📊 <strong>Importing Dataset</strong>\n",
    "            </a>\n",
    "        </li>\n",
    "        <li style=\"margin-bottom: 5px;\">\n",
    "            <a href=\"#exploration\" style=\"text-decoration: none; color: #333;\">\n",
    "                🗺️ <strong>Exploring the dataset</strong>\n",
    "            </a>\n",
    "        </li>\n",
    "        <li style=\"margin-bottom: 5px;\">\n",
    "            <a href=\"#thoughts\" style=\"text-decoration: none; color: #333;\">\n",
    "                💭 <strong>My thoughts on the dataset</strong>\n",
    "            </a>\n",
    "        </li>\n",
    "        <li style=\"margin-bottom: 5px;\">\n",
    "            <a href=\"#processing\" style=\"text-decoration: none; color: #333;\">\n",
    "                ⚙️ <strong>Pre-processing the data</strong>\n",
    "            </a>\n",
    "        </li>\n",
    "        <li style=\"margin-bottom: 5px;\">\n",
    "            <a href=\"#feature\" style=\"text-decoration: none; color: #333;\">\n",
    "                🔧 <strong>Feature Engineering</strong>\n",
    "            </a>\n",
    "        </li>\n",
    "        <li style=\"margin-bottom: 5px;\">\n",
    "            <a href=\"#selection\" style=\"text-decoration: none; color: #333;\">\n",
    "                🗂️ <strong>Selecting the best model for our dataset</strong>\n",
    "            </a>\n",
    "        </li>\n",
    "        <li style=\"margin-bottom: 5px;\">\n",
    "            <a href=\"#tuning\" style=\"text-decoration: none; color: #333;\">\n",
    "                🎛️ <strong>Hyper-Parameter Tuning</strong>\n",
    "            </a>\n",
    "        </li>\n",
    "        <li style=\"margin-bottom: 5px;\">\n",
    "            <a href=\"#Final\" style=\"text-decoration: none; color: #333;\">\n",
    "                🏁 <strong>Final Model</strong>\n",
    "            </a>\n",
    "        </li>\n",
    "        <li style=\"margin-bottom: 5px;\">\n",
    "            <a href=\"#Evaluation\" style=\"text-decoration: none; color: #333;\">\n",
    "                🔎 <strong>Model Evaluation</strong>\n",
    "            </a>\n",
    "        </li>\n",
    "        <li style=\"margin-bottom: 5px;\">\n",
    "            <a href=\"#conclusion\" style=\"text-decoration: none; color: #333;\">\n",
    "                💡 <strong>Conclusion</strong>\n",
    "            </a>\n",
    "        </li>\n",
    "    </ul>\n",
    "</div>"
   ]
  },
  {
   "cell_type": "markdown",
   "metadata": {},
   "source": [
    "<a id='toc'></a>\n",
    "<div style=\"background-color: #f0f0f0; border: 1px solid #ccc; padding: 10px; border-radius: 5px; position: relative;\">\n",
    "    <a href=\"#top\" style=\"position: absolute; top: 0px; right: 10px; text-decoration: none; font-size: 24px; margin-left: 10px;\">🔝</a>\n",
    "    <h2 style=\"color: #20479b; font-weight: bold;\">📜 Table of Content</h2>\n",
    "    <ul style=\"list-style-type: none; padding-left: 0;\">\n",
    "        <li style=\"margin-bottom: 5px;\">\n",
    "            <a href=\"#library\" style=\"text-decoration: none; color: #333;\" onmouseover=\"this.style.color='#20479b';\" onmouseout=\"this.style.color='#333';\">\n",
    "                ⬇ <strong>Importing Libraries</strong>\n",
    "            </a>\n",
    "        </li>\n",
    "        <li style=\"margin-bottom: 5px;\">\n",
    "            <a href=\"#dataset\" style=\"text-decoration: none; color: #333;\" onmouseover=\"this.style.color='#20479b';\" onmouseout=\"this.style.color='#333';\">\n",
    "                📊 <strong>Importing Dataset</strong>\n",
    "            </a>\n",
    "        </li>\n",
    "        <li style=\"margin-bottom: 5px;\">\n",
    "            <a href=\"#exploration\" style=\"text-decoration: none; color: #333;\" onmouseover=\"this.style.color='#20479b';\" onmouseout=\"this.style.color='#333';\">\n",
    "                🗺️ <strong>Exploring the dataset</strong>\n",
    "            </a>\n",
    "        </li>\n",
    "        <li style=\"margin-bottom: 5px;\">\n",
    "            <a href=\"#thoughts\" style=\"text-decoration: none; color: #333;\" onmouseover=\"this.style.color='#20479b';\" onmouseout=\"this.style.color='#333';\">\n",
    "                💭 <strong>My thoughts on the dataset</strong>\n",
    "            </a>\n",
    "        </li>\n",
    "        <li style=\"margin-bottom: 5px;\">\n",
    "            <a href=\"#processing\" style=\"text-decoration: none; color: #333;\" onmouseover=\"this.style.color='#20479b';\" onmouseout=\"this.style.color='#333';\">\n",
    "                ⚙️ <strong>Pre-processing the data</strong>\n",
    "            </a>\n",
    "        </li>\n",
    "        <li style=\"margin-bottom: 5px;\">\n",
    "            <a href=\"#feature\" style=\"text-decoration: none; color: #333;\" onmouseover=\"this.style.color='#20479b';\" onmouseout=\"this.style.color='#333';\">\n",
    "                🔧 <strong>Feature Engineering</strong>\n",
    "            </a>\n",
    "        </li>\n",
    "        <li style=\"margin-bottom: 5px;\">\n",
    "            <a href=\"#selection\" style=\"text-decoration: none; color: #333;\" onmouseover=\"this.style.color='#20479b';\" onmouseout=\"this.style.color='#333';\">\n",
    "                🗂️ <strong>Selecting the best model for our dataset</strong>\n",
    "            </a>\n",
    "        </li>\n",
    "        <li style=\"margin-bottom: 5px;\">\n",
    "            <a href=\"#tuning\" style=\"text-decoration: none; color: #333;\" onmouseover=\"this.style.color='#20479b';\" onmouseout=\"this.style.color='#333';\">\n",
    "                🎛️ <strong>Hyper-Parameter Tuning</strong>\n",
    "            </a>\n",
    "        </li>\n",
    "        <li style=\"margin-bottom: 5px;\">\n",
    "            <a href=\"#Final\" style=\"text-decoration: none; color: #333;\" onmouseover=\"this.style.color='#20479b';\" onmouseout=\"this.style.color='#333';\">\n",
    "                🏁 <strong>Final Model</strong>\n",
    "            </a>\n",
    "        </li>\n",
    "        <li style=\"margin-bottom: 5px;\">\n",
    "            <a href=\"#Evaluation\" style=\"text-decoration: none; color: #333;\" onmouseover=\"this.style.color='#20479b';\" onmouseout=\"this.style.color='#333';\">\n",
    "                🔎 <strong>Model Evaluation</strong>\n",
    "            </a>\n",
    "        </li>\n",
    "        <li style=\"margin-bottom: 5px;\">\n",
    "            <a href=\"#conclusion\" style=\"text-decoration: none; color: #333;\" onmouseover=\"this.style.color='#20479b';\" onmouseout=\"this.style.color='#333';\">\n",
    "                💡 <strong>Conclusion</strong>\n",
    "            </a>\n",
    "        </li>\n",
    "    </ul>\n",
    "</div>"
   ]
  },
  {
   "cell_type": "markdown",
   "metadata": {},
   "source": [
    "<a id='toc'></a>\n",
    "<div style=\"background-color: #f0f0f0; border: 1px solid #ccc; padding: 10px; border-radius: 5px; position: relative;\">\n",
    "    <a href=\"#top\" style=\"position: absolute; top: 0px; right: 10px; text-decoration: none; font-size: 24px; margin-left: 10px;\">🔝</a>\n",
    "    <h2 style=\"color: #20479b; font-weight: bold;\">📜 Table of Content</h2>\n",
    "    <ul style=\"list-style-type: none; padding-left: 0;\">\n",
    "        <li style=\"margin-bottom: 5px;\">\n",
    "            <a href=\"#library\" style=\"text-decoration: none; color: #333; position: relative;\"\n",
    "               onmouseover=\"this.style.color='#20479b'; this.style.textDecoration='underline';\"\n",
    "               onmouseout=\"this.style.color='#333'; this.style.textDecoration='none';\">\n",
    "                ⬇ <strong>Importing Libraries</strong>\n",
    "            </a>\n",
    "        </li>\n",
    "        <li style=\"margin-bottom: 5px;\">\n",
    "            <a href=\"#dataset\" style=\"text-decoration: none; color: #333; position: relative;\"\n",
    "               onmouseover=\"this.style.color='#20479b'; this.style.textDecoration='underline';\"\n",
    "               onmouseout=\"this.style.color='#333'; this.style.textDecoration='none';\">\n",
    "                📊 <strong>Importing Dataset</strong>\n",
    "            </a>\n",
    "        </li>\n",
    "        <li style=\"margin-bottom: 5px;\">\n",
    "            <a href=\"#exploration\" style=\"text-decoration: none; color: #333; position: relative;\"\n",
    "               onmouseover=\"this.style.color='#20479b'; this.style.textDecoration='underline';\"\n",
    "               onmouseout=\"this.style.color='#333'; this.style.textDecoration='none';\">\n",
    "                🗺️ <strong>Exploring the dataset</strong>\n",
    "            </a>\n",
    "        </li>\n",
    "        <li style=\"margin-bottom: 5px;\">\n",
    "            <a href=\"#thoughts\" style=\"text-decoration: none; color: #333; position: relative;\"\n",
    "               onmouseover=\"this.style.color='#20479b'; this.style.textDecoration='underline';\"\n",
    "               onmouseout=\"this.style.color='#333'; this.style.textDecoration='none';\">\n",
    "                💭 <strong>My thoughts on the dataset</strong>\n",
    "            </a>\n",
    "        </li>\n",
    "        <li style=\"margin-bottom: 5px;\">\n",
    "            <a href=\"#processing\" style=\"text-decoration: none; color: #333; position: relative;\"\n",
    "               onmouseover=\"this.style.color='#20479b'; this.style.textDecoration='underline';\"\n",
    "               onmouseout=\"this.style.color='#333'; this.style.textDecoration='none';\">\n",
    "                ⚙️ <strong>Pre-processing the data</strong>\n",
    "            </a>\n",
    "        </li>\n",
    "        <li style=\"margin-bottom: 5px;\">\n",
    "            <a href=\"#feature\" style=\"text-decoration: none; color: #333; position: relative;\"\n",
    "               onmouseover=\"this.style.color='#20479b'; this.style.textDecoration='underline';\"\n",
    "               onmouseout=\"this.style.color='#333'; this.style.textDecoration='none';\">\n",
    "                🔧 <strong>Feature Engineering</strong>\n",
    "            </a>\n",
    "        </li>\n",
    "        <li style=\"margin-bottom: 5px;\">\n",
    "            <a href=\"#selection\" style=\"text-decoration: none; color: #333; position: relative;\"\n",
    "               onmouseover=\"this.style.color='#20479b'; this.style.textDecoration='underline';\"\n",
    "               onmouseout=\"this.style.color='#333'; this.style.textDecoration='none';\">\n",
    "                🗂️ <strong>Selecting the best model for our dataset</strong>\n",
    "            </a>\n",
    "        </li>\n",
    "        <li style=\"margin-bottom: 5px;\">\n",
    "            <a href=\"#tuning\" style=\"text-decoration: none; color: #333; position: relative;\"\n",
    "               onmouseover=\"this.style.color='#20479b'; this.style.textDecoration='underline';\"\n",
    "               onmouseout=\"this.style.color='#333'; this.style.textDecoration='none';\">\n",
    "                🎛️ <strong>Hyper-Parameter Tuning</strong>\n",
    "            </a>\n",
    "        </li>\n",
    "        <li style=\"margin-bottom: 5px;\">\n",
    "            <a href=\"#Final\" style=\"text-decoration: none; color: #333; position: relative;\"\n",
    "               onmouseover=\"this.style.color='#20479b'; this.style.textDecoration='underline';\"\n",
    "               onmouseout=\"this.style.color='#333'; this.style.textDecoration='none';\">\n",
    "                🏁 <strong>Final Model</strong>\n",
    "            </a>\n",
    "        </li>\n",
    "        <li style=\"margin-bottom: 5px;\">\n",
    "            <a href=\"#Evaluation\" style=\"text-decoration: none; color: #333; position: relative;\"\n",
    "               onmouseover=\"this.style.color='#20479b'; this.style.textDecoration='underline';\"\n",
    "               onmouseout=\"this.style.color='#333'; this.style.textDecoration='none';\">\n",
    "                🔎 <strong>Model Evaluation</strong>\n",
    "            </a>\n",
    "        </li>\n",
    "        <li style=\"margin-bottom: 5px;\">\n",
    "            <a href=\"#conclusion\" style=\"text-decoration: none; color: #333; position: relative;\"\n",
    "               onmouseover=\"this.style.color='#20479b'; this.style.textDecoration='underline';\"\n",
    "               onmouseout=\"this.style.color='#333'; this.style.textDecoration='none';\">\n",
    "                💡 <strong>Conclusion</strong>\n",
    "            </a>\n",
    "        </li>\n",
    "    </ul>\n",
    "</div>"
   ]
  },
  {
   "cell_type": "markdown",
   "metadata": {},
   "source": [
    "## ***Let's begin....***"
   ]
  },
  {
   "cell_type": "markdown",
   "metadata": {},
   "source": []
  },
  {
   "cell_type": "markdown",
   "metadata": {},
   "source": [
    "<a id='library'></a>\n",
    "## ⬇ <span style=\"color: #20479b; font-weight: bold;\">Importing Libraries</span> <a href=\"#top\" style=\"float: right; text-decoration: none; font-size: 24px; margin-left: 10px;\">🔝</a> <a href=\"#toc\" style=\"float: right; text-decoration: none; font-size: 24px;\">📜</a>"
   ]
  },
  {
   "cell_type": "markdown",
   "metadata": {},
   "source": [
    "I start by importing the necessary libraries for my Exploratory Data Analysis tasks in Python."
   ]
  },
  {
   "cell_type": "code",
   "execution_count": null,
   "metadata": {},
   "outputs": [],
   "source": [
    "import numpy as np\n",
    "import  pandas as  pd\n",
    "import re\n",
    "import nltk\n",
    "import seaborn as sns\n",
    "import os\n",
    "import warnings\n",
    "import string\n",
    "import emoji\n",
    "\n",
    "from IPython.display import display\n",
    "from sklearn.feature_extraction.text import TfidfVectorizer\n",
    "import sklearn.model_selection\n",
    "from  imblearn.over_sampling import SMOTE\n",
    "from  imblearn.over_sampling import ADASYN\n",
    "from sklearn.metrics import accuracy_score, f1_score, precision_score, recall_score,classification_report,confusion_matrix, ConfusionMatrixDisplay\n",
    "from sklearn.ensemble import GradientBoostingClassifier, RandomForestClassifier\n",
    "from sklearn.linear_model import LogisticRegression\n",
    "from imblearn.metrics import geometric_mean_score\n",
    "from xgboost import XGBClassifier\n",
    "from sklearn.preprocessing import LabelEncoder\n",
    "from sklearn.feature_extraction.text import CountVectorizer\n",
    "from nltk.corpus import stopwords\n",
    "from nltk.tokenize import word_tokenize\n",
    "\n",
    "import optuna\n",
    " "
   ]
  },
  {
   "cell_type": "markdown",
   "metadata": {},
   "source": [
    "<a id='dataset'></a>\n",
    "## 📊 <span style=\"color: #20479b; font-weight: bold;\">Importing Dataset</span> <a href=\"#top\" style=\"float: right; text-decoration: none; font-size: 24px; margin-left: 10px;\">🔝</a> <a href=\"#toc\" style=\"float: right; text-decoration: none; font-size: 24px;\">📜</a>"
   ]
  },
  {
   "cell_type": "code",
   "execution_count": null,
   "metadata": {},
   "outputs": [],
   "source": [
    "dtst_dir = '/Users/jasonjoelpinto/Documents/GitHub/python-datascience-projects/016. sentiment_analysis_NLP_project/dataset/Suicide_Ideation_Dataset(Twitter-based).csv'\n",
    "dtst = pd.read_csv(dtst_dir)\n",
    "print(display(dtst.sample(5)))"
   ]
  },
  {
   "cell_type": "markdown",
   "metadata": {},
   "source": []
  },
  {
   "cell_type": "markdown",
   "metadata": {},
   "source": [
    "<a id='exploration'></a>\n",
    "## 🗺️ <span style=\"color: #20479b; font-weight: bold;\">Exploring the dataset</span> <a href=\"#top\" style=\"float: right; text-decoration: none; font-size: 24px; margin-left: 10px;\">🔝</a> <a href=\"#toc\" style=\"float: right; text-decoration: none; font-size: 24px;\">📜</a>"
   ]
  },
  {
   "cell_type": "code",
   "execution_count": null,
   "metadata": {},
   "outputs": [],
   "source": [
    "dtst.sample(5)"
   ]
  },
  {
   "cell_type": "markdown",
   "metadata": {},
   "source": [
    "I can see that \n",
    "1. Tweet column has lot of unwanted data. Which might make our model very slow and less efficient and effective. Which we need to delete.\n",
    "2. Suicide column has string data which we need to change to 0 and 1."
   ]
  },
  {
   "cell_type": "code",
   "execution_count": null,
   "metadata": {},
   "outputs": [],
   "source": [
    "dtst.shape"
   ]
  },
  {
   "cell_type": "markdown",
   "metadata": {},
   "source": [
    "There are 1787 rows of data which is good so that the model can learn better from the dataset."
   ]
  },
  {
   "cell_type": "code",
   "execution_count": null,
   "metadata": {},
   "outputs": [],
   "source": [
    "dtst.info()"
   ]
  },
  {
   "cell_type": "markdown",
   "metadata": {},
   "source": [
    "Info gives us information regarding whether there are null values or not etc. The datatype of of the columns in object here."
   ]
  },
  {
   "cell_type": "code",
   "execution_count": null,
   "metadata": {},
   "outputs": [],
   "source": [
    "null_percentage = {}\n",
    "for column in dtst:\n",
    "    null_percentage[column] = round(( ( dtst[column].isnull().sum() ) / len(dtst)) * 100,2)\n",
    "np_dataset = pd.DataFrame( list( null_percentage.items() ),  columns=[  'column_name'  , 'null_percentage' ])\n",
    "np_dataset"
   ]
  },
  {
   "cell_type": "markdown",
   "metadata": {},
   "source": [
    "There are null entries in our dataset in tweet column. There are 11% null values. We can delete these rows as we have enough data."
   ]
  },
  {
   "cell_type": "code",
   "execution_count": null,
   "metadata": {},
   "outputs": [],
   "source": [
    "dtst[\"Suicide\"].unique()"
   ]
  },
  {
   "cell_type": "markdown",
   "metadata": {},
   "source": [
    "There are no unnessary entries too. Which is a good thing for us."
   ]
  },
  {
   "cell_type": "markdown",
   "metadata": {},
   "source": []
  },
  {
   "cell_type": "markdown",
   "metadata": {},
   "source": [
    "<a id='thoughts'></a>\n",
    "## 💭 <span style=\"color: #20479b; font-weight: bold;\">My thoughts on the dataset</span> <a href=\"#top\" style=\"float: right; text-decoration: none; font-size: 24px; margin-left: 10px;\">🔝</a> <a href=\"#toc\" style=\"float: right; text-decoration: none; font-size: 24px;\">📜</a>"
   ]
  },
  {
   "cell_type": "markdown",
   "metadata": {},
   "source": [
    "As per my initial Data Exploration,\n",
    "- There are null values.\n",
    "- I can see that the dataset big enough to build a good ML model.\n",
    "- I need to rename the suicide column to 0 and 1 \n",
    "- I will be also restructuring the column and moving the labels to the end to ease of reading.\n",
    "- The dataset consists of 31962 rows of data.\n",
    "- There are usertags and special characters in the column tweet. We need to remove those.\n",
    "- We need to also remove hashtags.\n",
    "- I noticed there are numbers as well. Which we don't really need for nlp.\n",
    "- There were also unwanted giberish characters, which I will be deleting.\n",
    "- The dataset is heavily imbalanced. Hence we need to oversample the data.\n",
    "\n",
    "\n",
    "Evaluation Metrics:\n",
    "For this dataset I will be using, Accuracy, precision, F1 are the evaluation metrics.\n",
    "\n",
    "Considering all these above points, I will be following the below steps to \n",
    "\n",
    "**⚙️ pre-process**\n",
    "1. 🗑️ [Delete the null values](#delnull)\n",
    "2. 🔄 [Change the column values](#chval)\n",
    "3. 🔄 [Convert the body to lower case](#cnvl)\n",
    "4. #️⃣ [Remove hashtags](#remhash)\n",
    "5. 🧹 [Remove usertags](#remtag)\n",
    "6. ‼️  [Remove Punctuation](#rempunc)\n",
    "7. 🔢 [Clear all numbers](#clrnum)\n",
    "8. 🀄️ [Remove special characters](#remspl)\n",
    "9. 🈲 [Remove unwanted giberish characters](#remgib)\n",
    "10. 🧮 [Creating a TD-IDF matrix for the tweets](#tdidf)\n",
    "11. ➗ [Splitting the data](#split)<br>\n",
    "        I will be spliting  datset into three parts, one for training, second one for validation and the third one for testing.\n",
    "\n",
    "**🔧 feature Engineer**\n",
    "1. 📈 [Oversampling the data](#ovrsmpl)<br>\n",
    "        Here as we saw there is heavy imbalance of the data. Hence it is necessary that I oversample the data. I will be using both adasyn and smote. And choosing which performs the best.\n",
    "\n",
    "<!-- 1. ⚖️ Scalling the numerical and categorical labels -->\n",
    "\n",
    "<!-- 2. 📈 Oversampling the data for stroke = 1, Because of two main reasons.\n",
    "    - Our focus is on stroke detection and data for people who have stroke is very less.\n",
    "    - We do not have to worry about data size as well here, since it's not very huge. -->"
   ]
  },
  {
   "cell_type": "markdown",
   "metadata": {},
   "source": []
  },
  {
   "cell_type": "markdown",
   "metadata": {},
   "source": [
    "<a id='processing' ></a>\n",
    "## ⚙️ <span style=\"color: #20479b; font-weight: bold;\">Pre-processing the data</span> <a href=\"#top\" style=\"float: right; text-decoration: none; font-size: 24px; margin-left: 10px;\">🔝</a> <a href=\"#toc\" style=\"float: right; text-decoration: none; font-size: 24px;\">📜</a>\n"
   ]
  },
  {
   "cell_type": "markdown",
   "metadata": {},
   "source": [
    "<a id='delnull' ></a>\n",
    "**1. 🗑️ Delete the null values**"
   ]
  },
  {
   "cell_type": "code",
   "execution_count": null,
   "metadata": {},
   "outputs": [],
   "source": [
    "dtst = dtst.dropna()\n",
    "dtst.head(5)"
   ]
  },
  {
   "cell_type": "markdown",
   "metadata": {},
   "source": [
    "<a id='chval' ></a>\n",
    "**2. 🔄 Change the column values**"
   ]
  },
  {
   "cell_type": "code",
   "execution_count": null,
   "metadata": {},
   "outputs": [],
   "source": [
    "dtst['Suicide'] = dtst['Suicide'].str.lower()\n",
    "dtst['Suicide'] = dtst['Suicide'].str.replace(' ', '', regex=False)\n",
    "def chg_col_vl(vl):\n",
    "    if vl == 'notsuicidepost':\n",
    "        return 0\n",
    "    elif vl == 'potentialsuicidepost':\n",
    "        return 1\n",
    "    \n",
    "dtst['Suicide'] =  dtst['Suicide'].apply(chg_col_vl)\n",
    "dtst.head(5)"
   ]
  },
  {
   "cell_type": "markdown",
   "metadata": {},
   "source": [
    "<a id='cnvl' ></a>\n",
    "**3. 🔄 Convert the body to lower case**"
   ]
  },
  {
   "cell_type": "code",
   "execution_count": null,
   "metadata": {},
   "outputs": [],
   "source": [
    "dtst['tweet_processed'] = dtst['Tweet'].str.lower()\n",
    "dtst.head(5)"
   ]
  },
  {
   "cell_type": "markdown",
   "metadata": {},
   "source": [
    "<a id='remhash' ></a>\n",
    "**4. #️⃣ Remove hashtags**"
   ]
  },
  {
   "cell_type": "code",
   "execution_count": null,
   "metadata": {},
   "outputs": [],
   "source": [
    "dtst['tweet_processed'] = dtst[\n",
    "                             'tweet_processed'\n",
    "                             ].replace(\n",
    "                                        r'#([^\\s]+)', r'\\1', regex=True\n",
    "                                        )\n",
    "dtst.head(5)"
   ]
  },
  {
   "cell_type": "markdown",
   "metadata": {},
   "source": [
    "<a id='remtag' ></a>\n",
    "**5.  🧹 Remove usertags**"
   ]
  },
  {
   "cell_type": "code",
   "execution_count": null,
   "metadata": {},
   "outputs": [],
   "source": [
    "dtst['tweet_processed'] = dtst['tweet_processed'].replace(r'@', '', regex=True)\n",
    "dtst.head(5)  "
   ]
  },
  {
   "cell_type": "markdown",
   "metadata": {},
   "source": [
    "<a id='rempunc' ></a>\n",
    "**6.‼️ Remove Punctuation**"
   ]
  },
  {
   "cell_type": "code",
   "execution_count": null,
   "metadata": {},
   "outputs": [],
   "source": [
    "def rem_punc(tweet):\n",
    "    tweet = tweet.translate(str.maketrans('','',string.punctuation))\n",
    "    return tweet\n",
    "\n",
    "dtst['tweet_processed'] = dtst['tweet_processed'].apply(rem_punc)\n",
    "dtst.head(5)"
   ]
  },
  {
   "cell_type": "markdown",
   "metadata": {},
   "source": [
    "<a id='clrnum' ></a>\n",
    "**7. 🔢 Clear all numbers**"
   ]
  },
  {
   "cell_type": "code",
   "execution_count": null,
   "metadata": {},
   "outputs": [],
   "source": [
    "dtst['tweet_processed'] = dtst[\n",
    "                            'tweet_processed'\n",
    "                            ].replace(\n",
    "                                        r'\\d+', '', regex=True\n",
    "                                        )\n",
    "dtst.head(5)"
   ]
  },
  {
   "cell_type": "markdown",
   "metadata": {},
   "source": []
  },
  {
   "cell_type": "markdown",
   "metadata": {},
   "source": [
    "<a id='remspl' ></a>\n",
    "**8. 🀄️ Remove special characters**"
   ]
  },
  {
   "cell_type": "code",
   "execution_count": null,
   "metadata": {},
   "outputs": [],
   "source": [
    "dtst['tweet_processed'] = dtst['tweet_processed'].str.replace(\"[^a-zA-Z#]\", \" \")\n",
    "dtst.head()"
   ]
  },
  {
   "cell_type": "markdown",
   "metadata": {},
   "source": [
    "<a id='remgib' ></a>\n",
    "**9.🈲 Remove unwanted giberish characters**"
   ]
  },
  {
   "cell_type": "code",
   "execution_count": null,
   "metadata": {},
   "outputs": [],
   "source": [
    "def rem_gib_space(twt):\n",
    "    twt = twt.encode('ascii', 'ignore').decode('ascii')\n",
    "    twt = re.sub(r'\\s+', ' ', twt).strip()\n",
    "    return twt\n",
    "\n",
    "dtst['tweet_processed'] = dtst['tweet_processed'].apply(rem_gib_space)\n",
    "dtst.head(5)"
   ]
  },
  {
   "cell_type": "code",
   "execution_count": null,
   "metadata": {},
   "outputs": [],
   "source": [
    "dtst.head(5)"
   ]
  },
  {
   "cell_type": "markdown",
   "metadata": {},
   "source": [
    "<a id='tdidf' ></a>\n",
    "**10. 🧮 Creating a TD-IDF matrix for the tweets**"
   ]
  },
  {
   "cell_type": "code",
   "execution_count": null,
   "metadata": {},
   "outputs": [],
   "source": [
    "trm_mdl = TfidfVectorizer(min_df=2)\n",
    "m3 = trm_mdl.fit_transform(dtst['tweet_processed'])\n",
    "inf = pd.DataFrame(m3.toarray(), index=dtst.index)\n",
    "dtst = dtst.join(inf)\n",
    "inverted_index = {id: term for term, id in trm_mdl.vocabulary_.items()}"
   ]
  },
  {
   "cell_type": "markdown",
   "metadata": {},
   "source": [
    "<a id='split' ></a>\n",
    "**11. ➗ Splitting the data**"
   ]
  },
  {
   "cell_type": "code",
   "execution_count": null,
   "metadata": {},
   "outputs": [],
   "source": [
    "tr = dtst['Suicide'].values\n",
    "tr = tr.astype(float)\n",
    "\n",
    "ft = dtst.drop(columns=[\n",
    "                        'Tweet',\n",
    "                        'tweet_processed',\n",
    "                        'Suicide'\n",
    "                        ])"
   ]
  },
  {
   "cell_type": "code",
   "execution_count": null,
   "metadata": {},
   "outputs": [],
   "source": [
    "print(f'No of features     : {ft.shape[1]}')\n",
    "print(f'Total rows of data : {ft.shape[0]}')"
   ]
  },
  {
   "cell_type": "markdown",
   "metadata": {},
   "source": [
    "I want the divinde the dataset into 65:17.5:17.5 ratio for test, validation and train respectively.\n",
    "To achive that first I am going to divide our dataframe into two parts i.e train(65%) and val_test(35%) set. And then I am deviding the val_test set into half. This way I am achieving the split that I want."
   ]
  },
  {
   "cell_type": "code",
   "execution_count": null,
   "metadata": {},
   "outputs": [],
   "source": [
    "ft_train_df,  ft_val_test_df,   tr_train_df,  tar_val_test_df = sklearn.model_selection.train_test_split(  ft , tr  ,  test_size = 0.35, shuffle=True, stratify=tr, random_state  =  40)\n",
    "ft_val_df,  ft_test_df,   tar_val_df,  tar_test_df = sklearn.model_selection.train_test_split(  ft_val_test_df , tar_val_test_df  ,  test_size = 0.50,shuffle=True, stratify=tar_val_test_df,random_state  =  40)\n",
    "\n",
    "print(f'Train features shape     : {ft_train_df.shape}')\n",
    "print(f'Train target shape       : {tr_train_df.shape}')\n",
    "print(39*'=')\n",
    "print(f'Validation features shape: {ft_val_df.shape}')\n",
    "print(f'Validation target shape  : {tar_val_df.shape}')\n",
    "print(39*'=')\n",
    "print(f'Test features shape      : {ft_test_df.shape}')\n",
    "print(f'Test target shape        : {tar_test_df.shape}')\n",
    "print(39*'=')\n"
   ]
  },
  {
   "cell_type": "markdown",
   "metadata": {},
   "source": []
  },
  {
   "cell_type": "markdown",
   "metadata": {},
   "source": [
    "<a id='feature' ></a>\n",
    "## 🔧 <span style=\"color: #20479b; font-weight: bold;\">Feature Engineering</span> <a href=\"#top\" style=\"float: right; text-decoration: none; font-size: 24px; margin-left: 10px;\">🔝</a> <a href=\"#toc\" style=\"float: right; text-decoration: none; font-size: 24px;\">📜</a>"
   ]
  },
  {
   "cell_type": "markdown",
   "metadata": {},
   "source": [
    "<a id='ovrsmpl' ></a>\n",
    "**1. 📈 Oversampling the data**"
   ]
  },
  {
   "cell_type": "markdown",
   "metadata": {},
   "source": [
    "Applying **SMOTE** oversampling to the dataset"
   ]
  },
  {
   "cell_type": "code",
   "execution_count": null,
   "metadata": {},
   "outputs": [],
   "source": [
    "mod_smt =  SMOTE(  )\n",
    "ft_train_df_smt, tr_train_df_smt   =    mod_smt.fit_resample(\n",
    "                                                            ft_train_df, \n",
    "                                                            tr_train_df)\n",
    "\n",
    "print(\"fet_train_smot size :\",ft_train_df_smt.shape)\n",
    "print(\"tar_train_smot size :\",tr_train_df_smt.shape)"
   ]
  },
  {
   "cell_type": "markdown",
   "metadata": {},
   "source": [
    "Applying **ADASYN** oversampling to the dataset"
   ]
  },
  {
   "cell_type": "code",
   "execution_count": null,
   "metadata": {},
   "outputs": [],
   "source": [
    "mod_adc =  ADASYN(  )\n",
    "ft_train_df_adc, tr_train_df_adc   =    mod_adc.fit_resample(\n",
    "                                                            ft_train_df, \n",
    "                                                            tr_train_df)\n",
    "\n",
    "print(\"fet_train_smot size :\",ft_train_df_adc.shape)\n",
    "print(\"tar_train_smot size :\",tr_train_df_adc.shape)"
   ]
  },
  {
   "cell_type": "markdown",
   "metadata": {},
   "source": []
  },
  {
   "cell_type": "markdown",
   "metadata": {},
   "source": [
    "<a id='selection'></a>\n",
    "## 🗂️ <span style=\"color: #20479b; font-weight: bold;\">Selecting the best model</span> <a href=\"#top\" style=\"float: right; text-decoration: none; font-size: 24px; margin-left: 10px;\">🔝</a> <a href=\"#toc\" style=\"float: right; text-decoration: none; font-size: 24px;\">📜</a>"
   ]
  },
  {
   "cell_type": "code",
   "execution_count": null,
   "metadata": {},
   "outputs": [],
   "source": [
    "log_reg = sklearn.linear_model.LogisticRegression()\n",
    "svc = sklearn.svm.SVC()\n",
    "ran_for_cls =  sklearn.ensemble.RandomForestClassifier()\n",
    "xg_bst = XGBClassifier()\n",
    "# k_n_n =   sklearn.neighbors.KNeighborsClassifier()\n",
    "# gb = sklearn.ensemble.GradientBoostingClassifier()"
   ]
  },
  {
   "cell_type": "code",
   "execution_count": null,
   "metadata": {},
   "outputs": [],
   "source": [
    "def evaluate_model(ml, trf, trl, vlf, vll, mtd):\n",
    "        ml.fit(trf, trl)\n",
    "        p = pd.Series(ml.predict(vlf))\n",
    "        return [\n",
    "            mtd,\n",
    "            ml.__class__.__name__,\n",
    "            geometric_mean_score(vll, p),\n",
    "            f1_score(vll, p),\n",
    "            precision_score(vll, p),\n",
    "            recall_score(vll, p),\n",
    "            accuracy_score(vll, p)\n",
    "                ]\n",
    "\n",
    "mt_vl_lts = []\n",
    "lt = [log_reg,svc,ran_for_cls,xg_bst]\n",
    "cmb = [\n",
    "        ('IM', ft_train_df, tr_train_df),\n",
    "        ('SM', ft_train_df_smt, tr_train_df_smt),\n",
    "        ('AD', ft_train_df_adc, tr_train_df_adc)\n",
    "        ]\n",
    "for ml in lt:\n",
    "    for mtd, trf, trl in cmb:\n",
    "        mt_vl_lt = evaluate_model(ml, trf, trl, ft_val_df, tar_val_df, mtd)\n",
    "        if mt_vl_lt:\n",
    "            mt_vl_lts.append(mt_vl_lt)\n",
    "mt_vl_lts = pd.DataFrame(mt_vl_lts, columns=['Method', 'Model Name', 'G-mean','F1','PRE','REC', 'ACC'])\n",
    "mt_vl_lts = mt_vl_lts.sort_values(ascending=False, by=['G-mean','F1','PRE','REC', 'ACC'])\n",
    "\n",
    "display(mt_vl_lts.head(30))\n",
    "\n",
    "print('\\n')\n",
    "print('*****'*15)\n",
    "bm_name = mt_vl_lts.head(1)['Model Name'].values[0]\n",
    "osty = mt_vl_lts.head(1)['Method'].values[0]\n",
    "print(f'The best performing model is  :{bm_name} with oversampling method : {osty}')\n",
    "print('*****'*15)\n",
    "\n",
    "model_mapping = {\n",
    "    'LogisticRegression': LogisticRegression,\n",
    "    'SVC': SVC,\n",
    "    'RandomForestClassifier': RandomForestClassifier,\n",
    "    'XGBClassifier': XGBClassifier\n",
    "}\n",
    "\n",
    "# Retrieve the best model class\n",
    "bm = model_mapping[bm_name]"
   ]
  },
  {
   "cell_type": "code",
   "execution_count": null,
   "metadata": {},
   "outputs": [],
   "source": []
  },
  {
   "cell_type": "code",
   "execution_count": null,
   "metadata": {},
   "outputs": [],
   "source": [
    "tuning_dsets = {\n",
    "    'AD': {'X': ft_train_df_adc, 'y': tr_train_df_adc},\n",
    "    'SM': {'X': ft_train_df_smt, 'y': tr_train_df_smt},\n",
    "    'IM': {'X': ft_train_df, 'y': tr_train_df},\n",
    "}\n",
    "ft = tuning_dsets[osty]['X']\n",
    "tr = tuning_dsets[osty]['y']"
   ]
  },
  {
   "cell_type": "markdown",
   "metadata": {},
   "source": [
    "<a id='tuning'></a>\n",
    "## 🎛️ <span style=\"color: #20479b; font-weight: bold;\">Hyperparameter Tuning</span> <a href=\"#top\" style=\"float: right; text-decoration: none; font-size: 24px; margin-left: 10px;\">🔝</a> <a href=\"#toc\" style=\"float: right; text-decoration: none; font-size: 24px;\">📜</a>"
   ]
  },
  {
   "cell_type": "code",
   "execution_count": null,
   "metadata": {},
   "outputs": [],
   "source": [
    "def hyptune(t):\n",
    "    prs = {\n",
    "        'objective': 'binary:logistic',\n",
    "        'n_estimators': trial.suggest_int('n_estimators', 80, 950),\n",
    "        'max_depth': trial.suggest_int('max_depth', 2, 9),\n",
    "        'min_child_weight': trial.suggest_int('min_child_weight', 2, 9),\n",
    "        'learning_rate': trial.suggest_float('learning_rate', 0.01, 0.1, log=True),\n",
    "        'gamma': trial.suggest_float('gamma', 0.0, 5.0),\n",
    "        'subsample': trial.suggest_float('subsample', 0.5, 1.0, step=0.1),\n",
    "        'booster': 'gbtree',\n",
    "        'reg_alpha': trial.suggest_float('reg_alpha', 0.0, 2.0)\n",
    "            }\n",
    "\n",
    "    hyml = bm(**prs, use_label_encoder=False)\n",
    "    hyml.fit(ft, tr)\n",
    "    hyp = hyml.predict(ft_val_df)\n",
    "    gm  = geometric_mean_score(tar_val_df, hyp)\n",
    "    fs  = f1_score(tar_val_df, hyp)\n",
    "    pre = precision_score(tar_val_df, hyp)\n",
    "    rec = recall_score(tar_val_df, hyp)\n",
    "    return gm\n",
    "    \n",
    "optuna.logging.set_verbosity(optuna.logging.WARNING)\n",
    "lrn = optuna.create_study(direction='maximize')\n",
    "lrn.optimize(objective, n_trials=200)\n",
    "bt = lrn.best_trial.value\n",
    "bp = lrn.best_trial.params\n",
    "print(f'No of trials             : {200}')\n",
    "print(f'Top gmean score          : {bt}')\n",
    "print(f'Top performing parameters: {bp}')"
   ]
  },
  {
   "cell_type": "markdown",
   "metadata": {},
   "source": []
  },
  {
   "cell_type": "markdown",
   "metadata": {},
   "source": [
    "<a id='Final'></a>\n",
    "## 🏁 <span style=\"color: #20479b; font-weight: bold;\">Final Model</span> <a href=\"#top\" style=\"float: right; text-decoration: none; font-size: 24px; margin-left: 10px;\">🔝</a> <a href=\"#toc\" style=\"float: right; text-decoration: none; font-size: 24px;\">📜</a>"
   ]
  },
  {
   "cell_type": "code",
   "execution_count": null,
   "metadata": {},
   "outputs": [],
   "source": [
    "display(print(bp))\n",
    "display(print(bm))"
   ]
  },
  {
   "cell_type": "code",
   "execution_count": null,
   "metadata": {},
   "outputs": [],
   "source": [
    "bp = study.best_trial.params\n",
    "fim = bm(**bp, use_label_encoder=False)\n",
    "fim.fit(ft, tr)\n",
    "fip = fim.predict(ft_test_df)\n",
    "fgm  = geometric_mean_score(tar_test_df, fip)\n",
    "ffs  = f1_score(tar_test_df, fip)\n",
    "fpre = precision_score(tar_test_df, fip)\n",
    "frec = recall_score(tar_test_df, fip)\n",
    "\n",
    "print(f'G-Mean Score: {fgm}')\n",
    "print(f'F1 Score    : {ffs}')\n",
    "print(f'Precision   : {fpre}')\n",
    "print(f'Recall      : {frec}')"
   ]
  },
  {
   "cell_type": "markdown",
   "metadata": {},
   "source": []
  },
  {
   "cell_type": "markdown",
   "metadata": {},
   "source": [
    "<a id='Evaluation'></a>\n",
    "## 🔎 <span style=\"color: #20479b; font-weight: bold;\"> Model Evaluation</span> <a href=\"#top\" style=\"float: right; text-decoration: none; font-size: 24px; margin-left: 10px;\">🔝</a> <a href=\"#toc\" style=\"float: right; text-decoration: none; font-size: 24px;\">📜</a>"
   ]
  },
  {
   "cell_type": "markdown",
   "metadata": {},
   "source": [
    "Classification report"
   ]
  },
  {
   "cell_type": "code",
   "execution_count": null,
   "metadata": {},
   "outputs": [],
   "source": [
    "print(classification_report(tar_test_df, fip))"
   ]
  },
  {
   "cell_type": "code",
   "execution_count": null,
   "metadata": {},
   "outputs": [],
   "source": [
    "ConfusionMatrixDisplay(confusion_matrix(tar_test_df, fip)).plot()"
   ]
  },
  {
   "cell_type": "markdown",
   "metadata": {},
   "source": [
    "As we can see in the above plot, we were able to get very good scored and out of the 6 images we were able to predict most of it."
   ]
  },
  {
   "cell_type": "markdown",
   "metadata": {},
   "source": []
  },
  {
   "cell_type": "markdown",
   "metadata": {},
   "source": [
    "<a id='conclusion'></a>\n",
    "## 💡 <span style=\"color: #20479b; font-weight: bold;\">Conclusion</span> <a href=\"#top\" style=\"float: right; text-decoration: none; font-size: 24px; margin-left: 10px;\">🔝</a> <a href=\"#toc\" style=\"float: right; text-decoration: none; font-size: 24px;\">📜</a>"
   ]
  },
  {
   "cell_type": "markdown",
   "metadata": {},
   "source": []
  },
  {
   "cell_type": "code",
   "execution_count": null,
   "metadata": {},
   "outputs": [],
   "source": []
  },
  {
   "cell_type": "markdown",
   "metadata": {},
   "source": [
    "<a target=\"_blank\" href=\"https://icons8.com/icon/68193/twitter\">Twitter</a> icon by <a target=\"_blank\" href=\"https://icons8.com\">Icons8</a>"
   ]
  }
 ],
 "metadata": {
  "language_info": {
   "name": "python"
  }
 },
 "nbformat": 4,
 "nbformat_minor": 4
}
