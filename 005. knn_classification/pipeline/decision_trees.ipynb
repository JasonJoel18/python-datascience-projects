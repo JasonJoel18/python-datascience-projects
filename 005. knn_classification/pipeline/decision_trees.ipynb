{
 "cells": [
  {
   "cell_type": "markdown",
   "id": "korean-wednesday",
   "metadata": {},
   "source": [
    "# Decision Trees\n",
    "You should build a machine learning pipeline using a decision tree model. In particular, you should do the following:\n",
    "- Load the `mnist` dataset using [Pandas](https://pandas.pydata.org/docs/reference/api/pandas.read_csv.html). You can find this dataset in the datasets folder.\n",
    "- Split the dataset into training and test sets using [Scikit-Learn](https://scikit-learn.org/stable/modules/generated/sklearn.model_selection.train_test_split.html). \n",
    "- Conduct data exploration, data preprocessing, and feature engineering if necessary. \n",
    "- Train and test a decision tree model using [Scikit-Learn](https://scikit-learn.org/stable/modules/generated/sklearn.tree.DecisionTreeClassifier.html).\n",
    "- Check the documentation to identify the most important hyperparameters, attributes, and methods of the model. Use them in practice."
   ]
  },
  {
   "cell_type": "markdown",
   "id": "eb72da95",
   "metadata": {},
   "source": [
    "#### IMporting Libraries"
   ]
  },
  {
   "cell_type": "code",
   "execution_count": null,
   "id": "infrared-copper",
   "metadata": {},
   "outputs": [],
   "source": [
    "import pandas as pd\n",
    "import sklearn.model_selection\n",
    "import sklearn.compose\n",
    "import sklearn.preprocessing\n",
    "import sklearn.tree\n",
    "import sklearn.metrics\n",
    "from sklearn import tree\n",
    "import matplotlib.pyplot as plt"
   ]
  },
  {
   "cell_type": "markdown",
   "id": "5526999b",
   "metadata": {},
   "source": [
    "#### *Defining the Business Problem*"
   ]
  },
  {
   "cell_type": "markdown",
   "id": "4ea20065",
   "metadata": {},
   "source": [
    "#### Data Collection"
   ]
  },
  {
   "cell_type": "code",
   "execution_count": null,
   "id": "1967990d",
   "metadata": {},
   "outputs": [],
   "source": [
    "df = pd.read_csv('https://raw.githubusercontent.com/m-mahdavi/teaching/main/datasets/mnist.csv')\n",
    "df.head()"
   ]
  },
  {
   "cell_type": "code",
   "execution_count": null,
   "id": "bd604ec3",
   "metadata": {},
   "outputs": [],
   "source": [
    "x = df.drop(['id','class'],axis=1)\n",
    "y = df['class']\n",
    "\n",
    "x_train, x_test, y_train, y_test = sklearn.model_selection.train_test_split(x,y)\n",
    "\n",
    "print(\"df size:\",df.shape)\n",
    "print(\"df train size:\",x_train.shape)\n",
    "print(\"df test size:\",x_test.shape)"
   ]
  },
  {
   "cell_type": "code",
   "execution_count": null,
   "id": "eaaba932",
   "metadata": {},
   "outputs": [],
   "source": []
  },
  {
   "cell_type": "markdown",
   "id": "c9d77c64",
   "metadata": {},
   "source": [
    "#### Data Exploration"
   ]
  },
  {
   "cell_type": "code",
   "execution_count": null,
   "id": "c3fccab0",
   "metadata": {},
   "outputs": [],
   "source": [
    "x_train.dtypes"
   ]
  },
  {
   "cell_type": "code",
   "execution_count": null,
   "id": "a9976a73",
   "metadata": {},
   "outputs": [],
   "source": [
    "y_train.value_counts().plot(kind='bar')"
   ]
  },
  {
   "cell_type": "code",
   "execution_count": null,
   "id": "f225ae2a",
   "metadata": {},
   "outputs": [],
   "source": [
    "x_train.isnull().sum()"
   ]
  },
  {
   "cell_type": "code",
   "execution_count": null,
   "id": "25b6c0b6",
   "metadata": {},
   "outputs": [],
   "source": [
    "x_train.sum()"
   ]
  },
  {
   "cell_type": "code",
   "execution_count": null,
   "id": "832edbbd",
   "metadata": {},
   "outputs": [],
   "source": []
  },
  {
   "cell_type": "markdown",
   "id": "abce5e43",
   "metadata": {},
   "source": [
    "#### Data Pre-processing"
   ]
  },
  {
   "cell_type": "code",
   "execution_count": null,
   "id": "5ea0b32f",
   "metadata": {},
   "outputs": [],
   "source": [
    "## for example you can find and remove constant feature from your data"
   ]
  },
  {
   "cell_type": "markdown",
   "id": "482a6a0e",
   "metadata": {},
   "source": [
    "#### feature Eng"
   ]
  },
  {
   "cell_type": "code",
   "execution_count": null,
   "id": "41ff4629",
   "metadata": {},
   "outputs": [],
   "source": [
    "numerical_attributes = x_train.select_dtypes(include=\"int64\").columns.tolist()\n",
    "\n",
    "ct = sklearn.compose.ColumnTransformer([('standard_scaling', sklearn.preprocessing.StandardScaler(),numerical_attributes)],remainder='passthrough')\n",
    "ct.fit(x_train)\n",
    "x_train = ct.transform(x_train)\n",
    "x_test = ct.transform(x_test)"
   ]
  },
  {
   "cell_type": "markdown",
   "id": "a354f377",
   "metadata": {},
   "source": [
    "#### Model Training"
   ]
  },
  {
   "cell_type": "code",
   "execution_count": null,
   "id": "419ba192",
   "metadata": {},
   "outputs": [],
   "source": [
    "model = sklearn.tree.DecisionTreeClassifier(criterion='gini',max_depth=10)\n",
    "model.fit(x_train,y_train)"
   ]
  },
  {
   "cell_type": "markdown",
   "id": "7c09e49d",
   "metadata": {},
   "source": [
    "#### Model Assesment"
   ]
  },
  {
   "cell_type": "code",
   "execution_count": null,
   "id": "c67a5d99",
   "metadata": {},
   "outputs": [],
   "source": [
    "y_predicted = model.predict(x_test)\n",
    "result = sklearn.metrics.classification_report(y_test,y_predicted)\n",
    "print(result)"
   ]
  },
  {
   "cell_type": "markdown",
   "id": "e6d2dabe",
   "metadata": {},
   "source": [
    "#### Visualization"
   ]
  },
  {
   "cell_type": "code",
   "execution_count": null,
   "id": "57c2da65",
   "metadata": {},
   "outputs": [],
   "source": [
    "# Using matplotlib\n",
    "fig = plt.figure(figsize=(25,20))\n",
    "tree.plot_tree(model,filled=True, rounded=True,max_depth= 1)\n",
    "plt.show()"
   ]
  },
  {
   "cell_type": "code",
   "execution_count": null,
   "id": "bb3bc48d",
   "metadata": {},
   "outputs": [],
   "source": [
    "# Using graphviz\n",
    "dot_data = export_graphviz(model, out_file=None, \n",
    "                    #  feature_names=df_train.feature_names,  \n",
    "                    #  class_names=iris.target_names,  \n",
    "                     filled=True, rounded=True,  max_depth=4,\n",
    "                     special_characters=True)  \n",
    "graph = pydotplus.graph_from_dot_data(dot_data)\n",
    "graphviz.Source(graph.to_string())"
   ]
  }
 ],
 "metadata": {
  "language_info": {
   "name": "python"
  }
 },
 "nbformat": 4,
 "nbformat_minor": 5
}
